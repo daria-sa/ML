{
  "nbformat": 4,
  "nbformat_minor": 0,
  "metadata": {
    "colab": {
      "name": "HW_5_ML.ipynb",
      "provenance": []
    },
    "kernelspec": {
      "name": "python3",
      "display_name": "Python 3"
    },
    "accelerator": "GPU"
  },
  "cells": [
    {
      "cell_type": "code",
      "metadata": {
        "id": "XWPRhyy0Kyb6",
        "colab_type": "code",
        "colab": {}
      },
      "source": [
        "from sklearn.model_selection import cross_val_score\n",
        "import pandas as pd\n",
        "import numpy as np\n",
        "from sklearn.model_selection import train_test_split\n",
        "from sklearn.metrics import *\n",
        "from sklearn.linear_model import LogisticRegression\n",
        "from sklearn.ensemble import RandomForestClassifier, VotingClassifier, ExtraTreesClassifier\n",
        "from sklearn.naive_bayes import GaussianNB \n",
        "from sklearn.pipeline import Pipeline\n",
        "from sklearn.preprocessing import FunctionTransformer\n",
        "from sklearn.feature_extraction.text import CountVectorizer, TfidfTransformer\n",
        "from sklearn.naive_bayes import MultinomialNB\n",
        "from sklearn.tree import DecisionTreeClassifier\n",
        "from sklearn.neighbors import KNeighborsClassifier\n",
        "import re\n",
        "import string\n",
        "import gensim\n",
        "from collections import Counter,defaultdict\n",
        "from sklearn.ensemble import AdaBoostClassifier\n",
        "from sklearn.ensemble import BaggingClassifier"
      ],
      "execution_count": 23,
      "outputs": []
    },
    {
      "cell_type": "code",
      "metadata": {
        "id": "M10D0ix4SOLj",
        "colab_type": "code",
        "colab": {}
      },
      "source": [
        ""
      ],
      "execution_count": null,
      "outputs": []
    },
    {
      "cell_type": "code",
      "metadata": {
        "id": "zsT5ClNaK64E",
        "colab_type": "code",
        "colab": {}
      },
      "source": [
        "data_url = 'https://raw.githubusercontent.com/TatianaShavrina/hse_ml_m1/master/ensembles/complaints.csv'\n",
        "data = pd.read_csv(data_url, sep='\\t')\n",
        "y = data[\"PRODUCT_ID\"]\n",
        "X = data[\"cleaned_text\"]"
      ],
      "execution_count": 2,
      "outputs": []
    },
    {
      "cell_type": "code",
      "metadata": {
        "id": "qIy7tyZDK-sM",
        "colab_type": "code",
        "colab": {}
      },
      "source": [
        "def normalize(data):\n",
        "  res = []\n",
        "  for item in data:\n",
        "    item = item.translate(str.maketrans('', '', string.punctuation))\n",
        "    res.append(' '.join([x for x in item.split() if len(x) > 3]))\n",
        "  return res"
      ],
      "execution_count": 3,
      "outputs": []
    },
    {
      "cell_type": "code",
      "metadata": {
        "id": "JKNi0KlvLBbs",
        "colab_type": "code",
        "colab": {}
      },
      "source": [
        "X_norm = normalize(X)"
      ],
      "execution_count": 4,
      "outputs": []
    },
    {
      "cell_type": "code",
      "metadata": {
        "id": "vAq8Tr1hOtGS",
        "colab_type": "code",
        "colab": {}
      },
      "source": [
        "X_train, X_test, y_train, y_test = train_test_split(X_norm, y, test_size=0.1, random_state=42)"
      ],
      "execution_count": 5,
      "outputs": []
    },
    {
      "cell_type": "markdown",
      "metadata": {
        "id": "L7CvzcX_NNXA",
        "colab_type": "text"
      },
      "source": [
        "## Попробуем **Voting**"
      ]
    },
    {
      "cell_type": "code",
      "metadata": {
        "id": "-7g8IGAXLCdF",
        "colab_type": "code",
        "colab": {
          "base_uri": "https://localhost:8080/",
          "height": 85
        },
        "outputId": "da432bf1-5f0a-4ca1-a50a-836dc0543188"
      },
      "source": [
        "clf1 = LogisticRegression(multi_class='multinomial', solver='lbfgs', random_state=8, max_iter=300)\n",
        "clf2 = RandomForestClassifier(n_estimators=50, random_state=1)\n",
        "clf3 = GaussianNB()\n",
        "\n",
        "clf4 = MultinomialNB(alpha=0.1, fit_prior=True)\n",
        "\n",
        "clf5 = KNeighborsClassifier(n_neighbors=2) \n",
        "\n",
        "eclf = VotingClassifier(\n",
        "        estimators=[('lr', clf1), \n",
        "                    ('etc', clf2), \n",
        "                    ('gnb', clf3), \n",
        "                    ('mnb', clf4),\n",
        "                    ('knc', clf5)], \n",
        "        voting='hard')\n",
        "\n",
        "voting = Pipeline([\n",
        "    ('vect', CountVectorizer(analyzer='word', max_features=500)),\n",
        "    ('tfidf', TfidfTransformer(sublinear_tf=True)),\n",
        "    ('to_dense', FunctionTransformer(lambda x: x.todense(), accept_sparse=True)),\n",
        "    ('clf', eclf),\n",
        "    ])\n",
        "voting = voting.fit(X_train, y_train)\n",
        "predictions = voting.predict(X_test)\n",
        "print(\"Precision: {0:6.2f}\".format(precision_score(y_test, predictions, average='macro')))\n",
        "print(\"Recall: {0:6.2f}\".format(recall_score(y_test, predictions, average='macro')))\n",
        "print(\"F1-measure: {0:6.2f}\".format(f1_score(y_test, predictions, average='macro')))\n",
        "print(\"Accuracy: {0:6.2f}\".format(accuracy_score(y_test, predictions)))"
      ],
      "execution_count": 6,
      "outputs": [
        {
          "output_type": "stream",
          "text": [
            "Precision:   0.70\n",
            "Recall:   0.69\n",
            "F1-measure:   0.69\n",
            "Accuracy:   0.68\n"
          ],
          "name": "stdout"
        }
      ]
    },
    {
      "cell_type": "code",
      "metadata": {
        "id": "B1CT00X8Oedn",
        "colab_type": "code",
        "colab": {
          "base_uri": "https://localhost:8080/",
          "height": 71
        },
        "outputId": "6cfbeffe-75d0-4679-9ae0-ecb9ebc46f31"
      },
      "source": [
        "model = gensim.models.KeyedVectors.load_word2vec_format('/content/drive/My Drive/NN_INTRO_HW/taiga_w2v_model/model.bin', binary=True)"
      ],
      "execution_count": 7,
      "outputs": [
        {
          "output_type": "stream",
          "text": [
            "/usr/local/lib/python3.6/dist-packages/smart_open/smart_open_lib.py:253: UserWarning: This function is deprecated, use smart_open.open instead. See the migration notes for details: https://github.com/RaRe-Technologies/smart_open/blob/master/README.rst#migrating-to-the-new-open-function\n",
            "  'See the migration notes for details: %s' % _MIGRATION_NOTES_URL\n"
          ],
          "name": "stderr"
        }
      ]
    },
    {
      "cell_type": "code",
      "metadata": {
        "id": "O-QrI70WQO7Y",
        "colab_type": "code",
        "colab": {}
      },
      "source": [
        "mapping = {}\n",
        "\n",
        "for line in open('/content/drive/My Drive/NN_INTRO_HW/ru-rnc.map.txt'):\n",
        "    ms, ud = line.strip('\\n').split()\n",
        "    mapping[ms] = ud"
      ],
      "execution_count": 8,
      "outputs": []
    },
    {
      "cell_type": "code",
      "metadata": {
        "id": "JEyRYEwfQPft",
        "colab_type": "code",
        "colab": {}
      },
      "source": [
        "from pymystem3 import Mystem\n",
        "m = Mystem()"
      ],
      "execution_count": 28,
      "outputs": []
    },
    {
      "cell_type": "code",
      "metadata": {
        "id": "1fiAhaIDQPiU",
        "colab_type": "code",
        "colab": {}
      },
      "source": [
        "def normalize_mystem(text):\n",
        "    tokens = []\n",
        "    norm_words = m.analyze(text)\n",
        "    for norm_word in norm_words:\n",
        "        if 'analysis' not in norm_word:\n",
        "            continue\n",
        "            \n",
        "        if not len(norm_word['analysis']):\n",
        "            lemma = norm_word['text']\n",
        "            pos = 'UNKN'\n",
        "        else:\n",
        "            lemma = norm_word[\"analysis\"][0][\"lex\"].lower().strip()\n",
        "            pos = norm_word[\"analysis\"][0][\"gr\"].split(',')[0]\n",
        "            pos = pos.split('=')[0].strip()\n",
        "        pos = mapping[pos]\n",
        "        tokens.append(lemma+'_'+pos)\n",
        "\n",
        "    return tokens"
      ],
      "execution_count": 10,
      "outputs": []
    },
    {
      "cell_type": "code",
      "metadata": {
        "id": "g8MgxJiWQPlf",
        "colab_type": "code",
        "colab": {}
      },
      "source": [
        "def get_embedding(text, model, dim):\n",
        "    split_text = text.split()\n",
        "    # чтобы не доставать одно слово несколько раз\n",
        "    # сделаем счетчик, а потом векторы домножим на частоту\n",
        "    words = Counter(split_text)\n",
        "    total = len(split_text)\n",
        "    vectors = np.zeros((len(words), dim))\n",
        "\n",
        "    \n",
        "    for i,word in enumerate(words):\n",
        "        try:\n",
        "            v = model[normalize_mystem(word)]\n",
        "            print(v)\n",
        "            vectors[i] = v*(words[word]/total) # просто умножаем вектор на частоту\n",
        "        except (KeyError, ValueError):\n",
        "            continue\n",
        "            \n",
        "    if vectors.any():\n",
        "        vectors = np.average(vectors, axis=0)\n",
        "    else:\n",
        "        vectors = np.zeros((dim))\n",
        "    \n",
        "    return vectors"
      ],
      "execution_count": 11,
      "outputs": []
    },
    {
      "cell_type": "code",
      "metadata": {
        "id": "qJbxv0uYQPo3",
        "colab_type": "code",
        "colab": {}
      },
      "source": [
        "dim = 100\n",
        "X_w2v = np.zeros((len(X_norm), dim))\n",
        "\n",
        "for i, text in enumerate(X_norm):\n",
        "    X_w2v[i] = get_embedding(text, model, dim)\n",
        "    \n",
        "X_train_2, X_test_2, y_train_2, y_test_2 = train_test_split(X_ft, y, test_size=0.1, random_state=8)"
      ],
      "execution_count": null,
      "outputs": []
    },
    {
      "cell_type": "code",
      "metadata": {
        "id": "FYcSTNZZRi7T",
        "colab_type": "code",
        "colab": {}
      },
      "source": [
        "clf1 = LogisticRegression(multi_class='multinomial', solver='lbfgs', random_state=8, max_iter=300)\n",
        "clf2 = RandomForestClassifier(n_estimators=50, random_state=1)\n",
        "clf3 = GaussianNB()\n",
        "\n",
        "clf4 = MultinomialNB(alpha=0.1, fit_prior=True)\n",
        "\n",
        "clf5 = KNeighborsClassifier(n_neighbors=2) \n",
        "\n",
        "eclf = VotingClassifier(\n",
        "        estimators=[('lr', clf1), \n",
        "                    ('etc', clf2), \n",
        "                    ('gnb', clf3), \n",
        "                    ('mnb', clf4),\n",
        "                    ('knc', clf5)], \n",
        "        voting='hard')\n",
        "\n",
        "voting = Pipeline([\n",
        "    ('vect', CountVectorizer(analyzer='word', max_features=500)),\n",
        "    ('tfidf', TfidfTransformer(sublinear_tf=True)),\n",
        "    ('to_dense', FunctionTransformer(lambda x: x.todense(), accept_sparse=True)),\n",
        "    ('clf', eclf),\n",
        "    ])\n",
        "voting = voting.fit(X_train_2, y_train)2)\n",
        "predictions = voting.predict(X_test_2)\n",
        "print(\"Precision: {0:6.2f}\".format(precision_score(y_test_2, predictions, average='macro')))\n",
        "print(\"Recall: {0:6.2f}\".format(recall_score(y_test_2, predictions, average='macro')))\n",
        "print(\"F1-measure: {0:6.2f}\".format(f1_score(y_test_2, predictions, average='macro')))\n",
        "print(\"Accuracy: {0:6.2f}\".format(accuracy_score(y_test_2, predictions)))"
      ],
      "execution_count": null,
      "outputs": []
    },
    {
      "cell_type": "code",
      "metadata": {
        "id": "rpECZiggTzVS",
        "colab_type": "code",
        "colab": {}
      },
      "source": [
        ""
      ],
      "execution_count": null,
      "outputs": []
    },
    {
      "cell_type": "markdown",
      "metadata": {
        "id": "DKuWtM6mUSl_",
        "colab_type": "text"
      },
      "source": [
        "## **BAGGING**"
      ]
    },
    {
      "cell_type": "code",
      "metadata": {
        "id": "6e1vLwo3UVsF",
        "colab_type": "code",
        "colab": {}
      },
      "source": [
        "def build_model(clf_type):  \n",
        "  clf = BaggingClassifier(base_estimator=clf_type, n_estimators=25, max_samples=0.75, max_features=0.8, bootstrap=False, bootstrap_features=False)\n",
        "\n",
        "  pipeline = Pipeline([\n",
        "      ('vect', CountVectorizer(analyzer='word', max_features=500)),\n",
        "      ('tfidf', TfidfTransformer(sublinear_tf=True)),\n",
        "      ('to_dense', FunctionTransformer(lambda x: x.todense(), accept_sparse=True)),\n",
        "      ('clf', clf),\n",
        "      ])\n",
        "  voting = pipeline.fit(X_train, y_train)\n",
        "  predictions = pipeline.predict(X_test)\n",
        "  print(\"Precision: {0:6.2f}\".format(precision_score(y_test, predictions, average='macro')))\n",
        "  print(\"Recall: {0:6.2f}\".format(recall_score(y_test, predictions, average='macro')))\n",
        "  print(\"F1-measure: {0:6.2f}\".format(f1_score(y_test, predictions, average='macro')))\n",
        "  print(\"Accuracy: {0:6.2f}\".format(accuracy_score(y_test, predictions)))"
      ],
      "execution_count": 21,
      "outputs": []
    },
    {
      "cell_type": "code",
      "metadata": {
        "id": "u5JxC7BhU6h2",
        "colab_type": "code",
        "colab": {
          "base_uri": "https://localhost:8080/",
          "height": 442
        },
        "outputId": "0c8bbddb-f2ad-439c-d26c-7959632a1ce8"
      },
      "source": [
        "clfs = [LogisticRegression(multi_class='multinomial',\n",
        "                          solver='lbfgs',\n",
        "                          random_state=8,\n",
        "                          max_iter=300),\n",
        "        RandomForestClassifier(n_estimators=65, random_state=1\n",
        "        ),\n",
        "        GaussianNB(),\n",
        "        MultinomialNB(alpha=0.1, fit_prior=True),\n",
        "        KNeighborsClassifier(n_neighbors=3)]\n",
        "\n",
        "for clf in clfs:\n",
        "  build_model(clf)\n",
        "  print()\n"
      ],
      "execution_count": 24,
      "outputs": [
        {
          "output_type": "stream",
          "text": [
            "Precision:   0.67\n",
            "Recall:   0.67\n",
            "F1-measure:   0.67\n",
            "Accuracy:   0.67\n",
            "\n",
            "Precision:   0.70\n",
            "Recall:   0.69\n",
            "F1-measure:   0.69\n",
            "Accuracy:   0.69\n",
            "\n",
            "Precision:   0.61\n",
            "Recall:   0.60\n",
            "F1-measure:   0.60\n",
            "Accuracy:   0.60\n",
            "\n",
            "Precision:   0.66\n",
            "Recall:   0.65\n",
            "F1-measure:   0.65\n",
            "Accuracy:   0.65\n",
            "\n",
            "Precision:   0.68\n",
            "Recall:   0.64\n",
            "F1-measure:   0.64\n",
            "Accuracy:   0.64\n",
            "\n"
          ],
          "name": "stdout"
        }
      ]
    },
    {
      "cell_type": "code",
      "metadata": {
        "id": "KW39YRYCVMEe",
        "colab_type": "code",
        "colab": {}
      },
      "source": [
        ""
      ],
      "execution_count": null,
      "outputs": []
    },
    {
      "cell_type": "markdown",
      "metadata": {
        "id": "aqQl8CbvViTv",
        "colab_type": "text"
      },
      "source": [
        "## **BOOSTING**"
      ]
    },
    {
      "cell_type": "code",
      "metadata": {
        "id": "MMVzZE5CVk51",
        "colab_type": "code",
        "colab": {}
      },
      "source": [
        "def build_model(clf):\n",
        "  clf = AdaBoostClassifier(base_estimator=clf, n_estimators=20)\n",
        "\n",
        "  pipeline = Pipeline([\n",
        "      ('vect', CountVectorizer(analyzer='word', max_features=550)),\n",
        "      ('tfidf', TfidfTransformer(sublinear_tf=True)),\n",
        "      ('to_dense', FunctionTransformer(lambda x: x.todense(), accept_sparse=True)),\n",
        "      ('clf', clf),\n",
        "      ])\n",
        "  voting = pipeline.fit(X_train, y_train)\n",
        "  predictions = pipeline.predict(X_test)\n",
        "  print(\"Precision: {0:6.2f}\".format(precision_score(y_test, predictions, average='macro')))\n",
        "  print(\"Recall: {0:6.2f}\".format(recall_score(y_test, predictions, average='macro')))\n",
        "  print(\"F1-measure: {0:6.2f}\".format(f1_score(y_test, predictions, average='macro')))\n",
        "  print(\"Accuracy: {0:6.2f}\".format(accuracy_score(y_test, predictions)))"
      ],
      "execution_count": 25,
      "outputs": []
    },
    {
      "cell_type": "code",
      "metadata": {
        "id": "aJ0-4r1iWdbp",
        "colab_type": "code",
        "colab": {
          "base_uri": "https://localhost:8080/",
          "height": 442
        },
        "outputId": "b8fbc351-06f4-4c77-8618-5a31cb610859"
      },
      "source": [
        "clfs = [LogisticRegression(multi_class='multinomial',\n",
        "                          solver='lbfgs',\n",
        "                          random_state=8,\n",
        "                          max_iter=300),\n",
        "        RandomForestClassifier(n_estimators=65, random_state=1\n",
        "        ),\n",
        "        GaussianNB(),\n",
        "        MultinomialNB(alpha=0.1, fit_prior=True),\n",
        "        DecisionTreeClassifier(criterion='entropy', max_depth=1)]\n",
        "\n",
        "for clf in clfs:\n",
        "  build_model(clf)\n",
        "  print()"
      ],
      "execution_count": 27,
      "outputs": [
        {
          "output_type": "stream",
          "text": [
            "Precision:   0.75\n",
            "Recall:   0.50\n",
            "F1-measure:   0.44\n",
            "Accuracy:   0.51\n",
            "\n",
            "Precision:   0.72\n",
            "Recall:   0.71\n",
            "F1-measure:   0.71\n",
            "Accuracy:   0.71\n",
            "\n",
            "Precision:   0.44\n",
            "Recall:   0.41\n",
            "F1-measure:   0.41\n",
            "Accuracy:   0.40\n",
            "\n",
            "Precision:   0.67\n",
            "Recall:   0.64\n",
            "F1-measure:   0.65\n",
            "Accuracy:   0.64\n",
            "\n",
            "Precision:   0.56\n",
            "Recall:   0.56\n",
            "F1-measure:   0.55\n",
            "Accuracy:   0.56\n",
            "\n"
          ],
          "name": "stdout"
        }
      ]
    },
    {
      "cell_type": "code",
      "metadata": {
        "id": "Md0Y7OU8W_Hp",
        "colab_type": "code",
        "colab": {}
      },
      "source": [
        ""
      ],
      "execution_count": null,
      "outputs": []
    }
  ]
}