{
  "nbformat": 4,
  "nbformat_minor": 0,
  "metadata": {
    "colab": {
      "name": "Exam_ML.ipynb\"",
      "provenance": []
    },
    "kernelspec": {
      "name": "python3",
      "display_name": "Python 3"
    },
    "accelerator": "GPU",
    "widgets": {
      "application/vnd.jupyter.widget-state+json": {
        "7f6c8509a9cb4ff8aa1114de6e8066af": {
          "model_module": "@jupyter-widgets/controls",
          "model_name": "HBoxModel",
          "state": {
            "_view_name": "HBoxView",
            "_dom_classes": [],
            "_model_name": "HBoxModel",
            "_view_module": "@jupyter-widgets/controls",
            "_model_module_version": "1.5.0",
            "_view_count": null,
            "_view_module_version": "1.5.0",
            "box_style": "",
            "layout": "IPY_MODEL_389ac76120004f33a1e6323ad2c2f154",
            "_model_module": "@jupyter-widgets/controls",
            "children": [
              "IPY_MODEL_73f9bf4b717d4fa48eb3819f28529ce2",
              "IPY_MODEL_3ebcd6a2f0f64bb9a11c9d8caf811289"
            ]
          }
        },
        "389ac76120004f33a1e6323ad2c2f154": {
          "model_module": "@jupyter-widgets/base",
          "model_name": "LayoutModel",
          "state": {
            "_view_name": "LayoutView",
            "grid_template_rows": null,
            "right": null,
            "justify_content": null,
            "_view_module": "@jupyter-widgets/base",
            "overflow": null,
            "_model_module_version": "1.2.0",
            "_view_count": null,
            "flex_flow": null,
            "width": null,
            "min_width": null,
            "border": null,
            "align_items": null,
            "bottom": null,
            "_model_module": "@jupyter-widgets/base",
            "top": null,
            "grid_column": null,
            "overflow_y": null,
            "overflow_x": null,
            "grid_auto_flow": null,
            "grid_area": null,
            "grid_template_columns": null,
            "flex": null,
            "_model_name": "LayoutModel",
            "justify_items": null,
            "grid_row": null,
            "max_height": null,
            "align_content": null,
            "visibility": null,
            "align_self": null,
            "height": null,
            "min_height": null,
            "padding": null,
            "grid_auto_rows": null,
            "grid_gap": null,
            "max_width": null,
            "order": null,
            "_view_module_version": "1.2.0",
            "grid_template_areas": null,
            "object_position": null,
            "object_fit": null,
            "grid_auto_columns": null,
            "margin": null,
            "display": null,
            "left": null
          }
        },
        "73f9bf4b717d4fa48eb3819f28529ce2": {
          "model_module": "@jupyter-widgets/controls",
          "model_name": "FloatProgressModel",
          "state": {
            "_view_name": "ProgressView",
            "style": "IPY_MODEL_60527aa8f0114e8db97351051207c5a3",
            "_dom_classes": [],
            "description": "Downloading: 100%",
            "_model_name": "FloatProgressModel",
            "bar_style": "success",
            "max": 995526,
            "_view_module": "@jupyter-widgets/controls",
            "_model_module_version": "1.5.0",
            "value": 995526,
            "_view_count": null,
            "_view_module_version": "1.5.0",
            "orientation": "horizontal",
            "min": 0,
            "description_tooltip": null,
            "_model_module": "@jupyter-widgets/controls",
            "layout": "IPY_MODEL_0697fccb2ec24e71a25b638d9e48767e"
          }
        },
        "3ebcd6a2f0f64bb9a11c9d8caf811289": {
          "model_module": "@jupyter-widgets/controls",
          "model_name": "HTMLModel",
          "state": {
            "_view_name": "HTMLView",
            "style": "IPY_MODEL_81d69a91d4a449ecb9b9801bfd70c021",
            "_dom_classes": [],
            "description": "",
            "_model_name": "HTMLModel",
            "placeholder": "​",
            "_view_module": "@jupyter-widgets/controls",
            "_model_module_version": "1.5.0",
            "value": " 996k/996k [00:00&lt;00:00, 1.52MB/s]",
            "_view_count": null,
            "_view_module_version": "1.5.0",
            "description_tooltip": null,
            "_model_module": "@jupyter-widgets/controls",
            "layout": "IPY_MODEL_0ab91282be3a48918273ecbd87e1aaf0"
          }
        },
        "60527aa8f0114e8db97351051207c5a3": {
          "model_module": "@jupyter-widgets/controls",
          "model_name": "ProgressStyleModel",
          "state": {
            "_view_name": "StyleView",
            "_model_name": "ProgressStyleModel",
            "description_width": "initial",
            "_view_module": "@jupyter-widgets/base",
            "_model_module_version": "1.5.0",
            "_view_count": null,
            "_view_module_version": "1.2.0",
            "bar_color": null,
            "_model_module": "@jupyter-widgets/controls"
          }
        },
        "0697fccb2ec24e71a25b638d9e48767e": {
          "model_module": "@jupyter-widgets/base",
          "model_name": "LayoutModel",
          "state": {
            "_view_name": "LayoutView",
            "grid_template_rows": null,
            "right": null,
            "justify_content": null,
            "_view_module": "@jupyter-widgets/base",
            "overflow": null,
            "_model_module_version": "1.2.0",
            "_view_count": null,
            "flex_flow": null,
            "width": null,
            "min_width": null,
            "border": null,
            "align_items": null,
            "bottom": null,
            "_model_module": "@jupyter-widgets/base",
            "top": null,
            "grid_column": null,
            "overflow_y": null,
            "overflow_x": null,
            "grid_auto_flow": null,
            "grid_area": null,
            "grid_template_columns": null,
            "flex": null,
            "_model_name": "LayoutModel",
            "justify_items": null,
            "grid_row": null,
            "max_height": null,
            "align_content": null,
            "visibility": null,
            "align_self": null,
            "height": null,
            "min_height": null,
            "padding": null,
            "grid_auto_rows": null,
            "grid_gap": null,
            "max_width": null,
            "order": null,
            "_view_module_version": "1.2.0",
            "grid_template_areas": null,
            "object_position": null,
            "object_fit": null,
            "grid_auto_columns": null,
            "margin": null,
            "display": null,
            "left": null
          }
        },
        "81d69a91d4a449ecb9b9801bfd70c021": {
          "model_module": "@jupyter-widgets/controls",
          "model_name": "DescriptionStyleModel",
          "state": {
            "_view_name": "StyleView",
            "_model_name": "DescriptionStyleModel",
            "description_width": "",
            "_view_module": "@jupyter-widgets/base",
            "_model_module_version": "1.5.0",
            "_view_count": null,
            "_view_module_version": "1.2.0",
            "_model_module": "@jupyter-widgets/controls"
          }
        },
        "0ab91282be3a48918273ecbd87e1aaf0": {
          "model_module": "@jupyter-widgets/base",
          "model_name": "LayoutModel",
          "state": {
            "_view_name": "LayoutView",
            "grid_template_rows": null,
            "right": null,
            "justify_content": null,
            "_view_module": "@jupyter-widgets/base",
            "overflow": null,
            "_model_module_version": "1.2.0",
            "_view_count": null,
            "flex_flow": null,
            "width": null,
            "min_width": null,
            "border": null,
            "align_items": null,
            "bottom": null,
            "_model_module": "@jupyter-widgets/base",
            "top": null,
            "grid_column": null,
            "overflow_y": null,
            "overflow_x": null,
            "grid_auto_flow": null,
            "grid_area": null,
            "grid_template_columns": null,
            "flex": null,
            "_model_name": "LayoutModel",
            "justify_items": null,
            "grid_row": null,
            "max_height": null,
            "align_content": null,
            "visibility": null,
            "align_self": null,
            "height": null,
            "min_height": null,
            "padding": null,
            "grid_auto_rows": null,
            "grid_gap": null,
            "max_width": null,
            "order": null,
            "_view_module_version": "1.2.0",
            "grid_template_areas": null,
            "object_position": null,
            "object_fit": null,
            "grid_auto_columns": null,
            "margin": null,
            "display": null,
            "left": null
          }
        },
        "bdcfc7304d4b4450aa0fd8b9394ac50c": {
          "model_module": "@jupyter-widgets/controls",
          "model_name": "HBoxModel",
          "state": {
            "_view_name": "HBoxView",
            "_dom_classes": [],
            "_model_name": "HBoxModel",
            "_view_module": "@jupyter-widgets/controls",
            "_model_module_version": "1.5.0",
            "_view_count": null,
            "_view_module_version": "1.5.0",
            "box_style": "",
            "layout": "IPY_MODEL_b327c1e53a6e4434bbc1c9c82218df1e",
            "_model_module": "@jupyter-widgets/controls",
            "children": [
              "IPY_MODEL_3b93dbd0166d48db9ac49e6cab78c9ee",
              "IPY_MODEL_b05055f3002b41e5ab336a7de13788ce"
            ]
          }
        },
        "b327c1e53a6e4434bbc1c9c82218df1e": {
          "model_module": "@jupyter-widgets/base",
          "model_name": "LayoutModel",
          "state": {
            "_view_name": "LayoutView",
            "grid_template_rows": null,
            "right": null,
            "justify_content": null,
            "_view_module": "@jupyter-widgets/base",
            "overflow": null,
            "_model_module_version": "1.2.0",
            "_view_count": null,
            "flex_flow": null,
            "width": null,
            "min_width": null,
            "border": null,
            "align_items": null,
            "bottom": null,
            "_model_module": "@jupyter-widgets/base",
            "top": null,
            "grid_column": null,
            "overflow_y": null,
            "overflow_x": null,
            "grid_auto_flow": null,
            "grid_area": null,
            "grid_template_columns": null,
            "flex": null,
            "_model_name": "LayoutModel",
            "justify_items": null,
            "grid_row": null,
            "max_height": null,
            "align_content": null,
            "visibility": null,
            "align_self": null,
            "height": null,
            "min_height": null,
            "padding": null,
            "grid_auto_rows": null,
            "grid_gap": null,
            "max_width": null,
            "order": null,
            "_view_module_version": "1.2.0",
            "grid_template_areas": null,
            "object_position": null,
            "object_fit": null,
            "grid_auto_columns": null,
            "margin": null,
            "display": null,
            "left": null
          }
        },
        "3b93dbd0166d48db9ac49e6cab78c9ee": {
          "model_module": "@jupyter-widgets/controls",
          "model_name": "FloatProgressModel",
          "state": {
            "_view_name": "ProgressView",
            "style": "IPY_MODEL_4995ea0c35de431d9d7848bbba39a0f2",
            "_dom_classes": [],
            "description": "Downloading: 100%",
            "_model_name": "FloatProgressModel",
            "bar_style": "success",
            "max": 625,
            "_view_module": "@jupyter-widgets/controls",
            "_model_module_version": "1.5.0",
            "value": 625,
            "_view_count": null,
            "_view_module_version": "1.5.0",
            "orientation": "horizontal",
            "min": 0,
            "description_tooltip": null,
            "_model_module": "@jupyter-widgets/controls",
            "layout": "IPY_MODEL_f4d9209e169542e18053a16907a4e84b"
          }
        },
        "b05055f3002b41e5ab336a7de13788ce": {
          "model_module": "@jupyter-widgets/controls",
          "model_name": "HTMLModel",
          "state": {
            "_view_name": "HTMLView",
            "style": "IPY_MODEL_f8e1f8102e3f4a3cb249725a062b3cd0",
            "_dom_classes": [],
            "description": "",
            "_model_name": "HTMLModel",
            "placeholder": "​",
            "_view_module": "@jupyter-widgets/controls",
            "_model_module_version": "1.5.0",
            "value": " 625/625 [00:00&lt;00:00, 5.49kB/s]",
            "_view_count": null,
            "_view_module_version": "1.5.0",
            "description_tooltip": null,
            "_model_module": "@jupyter-widgets/controls",
            "layout": "IPY_MODEL_35112dfe1e4940f6bbd4f39fb833c706"
          }
        },
        "4995ea0c35de431d9d7848bbba39a0f2": {
          "model_module": "@jupyter-widgets/controls",
          "model_name": "ProgressStyleModel",
          "state": {
            "_view_name": "StyleView",
            "_model_name": "ProgressStyleModel",
            "description_width": "initial",
            "_view_module": "@jupyter-widgets/base",
            "_model_module_version": "1.5.0",
            "_view_count": null,
            "_view_module_version": "1.2.0",
            "bar_color": null,
            "_model_module": "@jupyter-widgets/controls"
          }
        },
        "f4d9209e169542e18053a16907a4e84b": {
          "model_module": "@jupyter-widgets/base",
          "model_name": "LayoutModel",
          "state": {
            "_view_name": "LayoutView",
            "grid_template_rows": null,
            "right": null,
            "justify_content": null,
            "_view_module": "@jupyter-widgets/base",
            "overflow": null,
            "_model_module_version": "1.2.0",
            "_view_count": null,
            "flex_flow": null,
            "width": null,
            "min_width": null,
            "border": null,
            "align_items": null,
            "bottom": null,
            "_model_module": "@jupyter-widgets/base",
            "top": null,
            "grid_column": null,
            "overflow_y": null,
            "overflow_x": null,
            "grid_auto_flow": null,
            "grid_area": null,
            "grid_template_columns": null,
            "flex": null,
            "_model_name": "LayoutModel",
            "justify_items": null,
            "grid_row": null,
            "max_height": null,
            "align_content": null,
            "visibility": null,
            "align_self": null,
            "height": null,
            "min_height": null,
            "padding": null,
            "grid_auto_rows": null,
            "grid_gap": null,
            "max_width": null,
            "order": null,
            "_view_module_version": "1.2.0",
            "grid_template_areas": null,
            "object_position": null,
            "object_fit": null,
            "grid_auto_columns": null,
            "margin": null,
            "display": null,
            "left": null
          }
        },
        "f8e1f8102e3f4a3cb249725a062b3cd0": {
          "model_module": "@jupyter-widgets/controls",
          "model_name": "DescriptionStyleModel",
          "state": {
            "_view_name": "StyleView",
            "_model_name": "DescriptionStyleModel",
            "description_width": "",
            "_view_module": "@jupyter-widgets/base",
            "_model_module_version": "1.5.0",
            "_view_count": null,
            "_view_module_version": "1.2.0",
            "_model_module": "@jupyter-widgets/controls"
          }
        },
        "35112dfe1e4940f6bbd4f39fb833c706": {
          "model_module": "@jupyter-widgets/base",
          "model_name": "LayoutModel",
          "state": {
            "_view_name": "LayoutView",
            "grid_template_rows": null,
            "right": null,
            "justify_content": null,
            "_view_module": "@jupyter-widgets/base",
            "overflow": null,
            "_model_module_version": "1.2.0",
            "_view_count": null,
            "flex_flow": null,
            "width": null,
            "min_width": null,
            "border": null,
            "align_items": null,
            "bottom": null,
            "_model_module": "@jupyter-widgets/base",
            "top": null,
            "grid_column": null,
            "overflow_y": null,
            "overflow_x": null,
            "grid_auto_flow": null,
            "grid_area": null,
            "grid_template_columns": null,
            "flex": null,
            "_model_name": "LayoutModel",
            "justify_items": null,
            "grid_row": null,
            "max_height": null,
            "align_content": null,
            "visibility": null,
            "align_self": null,
            "height": null,
            "min_height": null,
            "padding": null,
            "grid_auto_rows": null,
            "grid_gap": null,
            "max_width": null,
            "order": null,
            "_view_module_version": "1.2.0",
            "grid_template_areas": null,
            "object_position": null,
            "object_fit": null,
            "grid_auto_columns": null,
            "margin": null,
            "display": null,
            "left": null
          }
        },
        "f67a49e8fafd469b9f602d7ba0e239f0": {
          "model_module": "@jupyter-widgets/controls",
          "model_name": "HBoxModel",
          "state": {
            "_view_name": "HBoxView",
            "_dom_classes": [],
            "_model_name": "HBoxModel",
            "_view_module": "@jupyter-widgets/controls",
            "_model_module_version": "1.5.0",
            "_view_count": null,
            "_view_module_version": "1.5.0",
            "box_style": "",
            "layout": "IPY_MODEL_3d5daaccca5546728b78162ecc90b169",
            "_model_module": "@jupyter-widgets/controls",
            "children": [
              "IPY_MODEL_58c5480a2d0e4f04bbe68046bd9c5755",
              "IPY_MODEL_38e3b7bd29804ac49ac29e8653de8732"
            ]
          }
        },
        "3d5daaccca5546728b78162ecc90b169": {
          "model_module": "@jupyter-widgets/base",
          "model_name": "LayoutModel",
          "state": {
            "_view_name": "LayoutView",
            "grid_template_rows": null,
            "right": null,
            "justify_content": null,
            "_view_module": "@jupyter-widgets/base",
            "overflow": null,
            "_model_module_version": "1.2.0",
            "_view_count": null,
            "flex_flow": null,
            "width": null,
            "min_width": null,
            "border": null,
            "align_items": null,
            "bottom": null,
            "_model_module": "@jupyter-widgets/base",
            "top": null,
            "grid_column": null,
            "overflow_y": null,
            "overflow_x": null,
            "grid_auto_flow": null,
            "grid_area": null,
            "grid_template_columns": null,
            "flex": null,
            "_model_name": "LayoutModel",
            "justify_items": null,
            "grid_row": null,
            "max_height": null,
            "align_content": null,
            "visibility": null,
            "align_self": null,
            "height": null,
            "min_height": null,
            "padding": null,
            "grid_auto_rows": null,
            "grid_gap": null,
            "max_width": null,
            "order": null,
            "_view_module_version": "1.2.0",
            "grid_template_areas": null,
            "object_position": null,
            "object_fit": null,
            "grid_auto_columns": null,
            "margin": null,
            "display": null,
            "left": null
          }
        },
        "58c5480a2d0e4f04bbe68046bd9c5755": {
          "model_module": "@jupyter-widgets/controls",
          "model_name": "FloatProgressModel",
          "state": {
            "_view_name": "ProgressView",
            "style": "IPY_MODEL_00060cc1b1f44eb58415b5e65cb7a3d5",
            "_dom_classes": [],
            "description": "Downloading: 100%",
            "_model_name": "FloatProgressModel",
            "bar_style": "success",
            "max": 714314041,
            "_view_module": "@jupyter-widgets/controls",
            "_model_module_version": "1.5.0",
            "value": 714314041,
            "_view_count": null,
            "_view_module_version": "1.5.0",
            "orientation": "horizontal",
            "min": 0,
            "description_tooltip": null,
            "_model_module": "@jupyter-widgets/controls",
            "layout": "IPY_MODEL_bf2dc2e7ec284eb6b45db0951492e066"
          }
        },
        "38e3b7bd29804ac49ac29e8653de8732": {
          "model_module": "@jupyter-widgets/controls",
          "model_name": "HTMLModel",
          "state": {
            "_view_name": "HTMLView",
            "style": "IPY_MODEL_aed28c70f05b44198092d2aad2e26a4c",
            "_dom_classes": [],
            "description": "",
            "_model_name": "HTMLModel",
            "placeholder": "​",
            "_view_module": "@jupyter-widgets/controls",
            "_model_module_version": "1.5.0",
            "value": " 714M/714M [00:10&lt;00:00, 67.8MB/s]",
            "_view_count": null,
            "_view_module_version": "1.5.0",
            "description_tooltip": null,
            "_model_module": "@jupyter-widgets/controls",
            "layout": "IPY_MODEL_6f15791d12fe4e819994700a0085cd95"
          }
        },
        "00060cc1b1f44eb58415b5e65cb7a3d5": {
          "model_module": "@jupyter-widgets/controls",
          "model_name": "ProgressStyleModel",
          "state": {
            "_view_name": "StyleView",
            "_model_name": "ProgressStyleModel",
            "description_width": "initial",
            "_view_module": "@jupyter-widgets/base",
            "_model_module_version": "1.5.0",
            "_view_count": null,
            "_view_module_version": "1.2.0",
            "bar_color": null,
            "_model_module": "@jupyter-widgets/controls"
          }
        },
        "bf2dc2e7ec284eb6b45db0951492e066": {
          "model_module": "@jupyter-widgets/base",
          "model_name": "LayoutModel",
          "state": {
            "_view_name": "LayoutView",
            "grid_template_rows": null,
            "right": null,
            "justify_content": null,
            "_view_module": "@jupyter-widgets/base",
            "overflow": null,
            "_model_module_version": "1.2.0",
            "_view_count": null,
            "flex_flow": null,
            "width": null,
            "min_width": null,
            "border": null,
            "align_items": null,
            "bottom": null,
            "_model_module": "@jupyter-widgets/base",
            "top": null,
            "grid_column": null,
            "overflow_y": null,
            "overflow_x": null,
            "grid_auto_flow": null,
            "grid_area": null,
            "grid_template_columns": null,
            "flex": null,
            "_model_name": "LayoutModel",
            "justify_items": null,
            "grid_row": null,
            "max_height": null,
            "align_content": null,
            "visibility": null,
            "align_self": null,
            "height": null,
            "min_height": null,
            "padding": null,
            "grid_auto_rows": null,
            "grid_gap": null,
            "max_width": null,
            "order": null,
            "_view_module_version": "1.2.0",
            "grid_template_areas": null,
            "object_position": null,
            "object_fit": null,
            "grid_auto_columns": null,
            "margin": null,
            "display": null,
            "left": null
          }
        },
        "aed28c70f05b44198092d2aad2e26a4c": {
          "model_module": "@jupyter-widgets/controls",
          "model_name": "DescriptionStyleModel",
          "state": {
            "_view_name": "StyleView",
            "_model_name": "DescriptionStyleModel",
            "description_width": "",
            "_view_module": "@jupyter-widgets/base",
            "_model_module_version": "1.5.0",
            "_view_count": null,
            "_view_module_version": "1.2.0",
            "_model_module": "@jupyter-widgets/controls"
          }
        },
        "6f15791d12fe4e819994700a0085cd95": {
          "model_module": "@jupyter-widgets/base",
          "model_name": "LayoutModel",
          "state": {
            "_view_name": "LayoutView",
            "grid_template_rows": null,
            "right": null,
            "justify_content": null,
            "_view_module": "@jupyter-widgets/base",
            "overflow": null,
            "_model_module_version": "1.2.0",
            "_view_count": null,
            "flex_flow": null,
            "width": null,
            "min_width": null,
            "border": null,
            "align_items": null,
            "bottom": null,
            "_model_module": "@jupyter-widgets/base",
            "top": null,
            "grid_column": null,
            "overflow_y": null,
            "overflow_x": null,
            "grid_auto_flow": null,
            "grid_area": null,
            "grid_template_columns": null,
            "flex": null,
            "_model_name": "LayoutModel",
            "justify_items": null,
            "grid_row": null,
            "max_height": null,
            "align_content": null,
            "visibility": null,
            "align_self": null,
            "height": null,
            "min_height": null,
            "padding": null,
            "grid_auto_rows": null,
            "grid_gap": null,
            "max_width": null,
            "order": null,
            "_view_module_version": "1.2.0",
            "grid_template_areas": null,
            "object_position": null,
            "object_fit": null,
            "grid_auto_columns": null,
            "margin": null,
            "display": null,
            "left": null
          }
        },
        "a5ad8374fd174c2b9023c6008bd5da76": {
          "model_module": "@jupyter-widgets/controls",
          "model_name": "HBoxModel",
          "state": {
            "_view_name": "HBoxView",
            "_dom_classes": [],
            "_model_name": "HBoxModel",
            "_view_module": "@jupyter-widgets/controls",
            "_model_module_version": "1.5.0",
            "_view_count": null,
            "_view_module_version": "1.5.0",
            "box_style": "",
            "layout": "IPY_MODEL_98f03fbe9364468ca5be1cc9215d1907",
            "_model_module": "@jupyter-widgets/controls",
            "children": [
              "IPY_MODEL_0e63cf0acb4645869dc0d38098e6adff",
              "IPY_MODEL_29db977d8ba1419e97dcd6c34dbc53bc"
            ]
          }
        },
        "98f03fbe9364468ca5be1cc9215d1907": {
          "model_module": "@jupyter-widgets/base",
          "model_name": "LayoutModel",
          "state": {
            "_view_name": "LayoutView",
            "grid_template_rows": null,
            "right": null,
            "justify_content": null,
            "_view_module": "@jupyter-widgets/base",
            "overflow": null,
            "_model_module_version": "1.2.0",
            "_view_count": null,
            "flex_flow": null,
            "width": null,
            "min_width": null,
            "border": null,
            "align_items": null,
            "bottom": null,
            "_model_module": "@jupyter-widgets/base",
            "top": null,
            "grid_column": null,
            "overflow_y": null,
            "overflow_x": null,
            "grid_auto_flow": null,
            "grid_area": null,
            "grid_template_columns": null,
            "flex": null,
            "_model_name": "LayoutModel",
            "justify_items": null,
            "grid_row": null,
            "max_height": null,
            "align_content": null,
            "visibility": null,
            "align_self": null,
            "height": null,
            "min_height": null,
            "padding": null,
            "grid_auto_rows": null,
            "grid_gap": null,
            "max_width": null,
            "order": null,
            "_view_module_version": "1.2.0",
            "grid_template_areas": null,
            "object_position": null,
            "object_fit": null,
            "grid_auto_columns": null,
            "margin": null,
            "display": null,
            "left": null
          }
        },
        "0e63cf0acb4645869dc0d38098e6adff": {
          "model_module": "@jupyter-widgets/controls",
          "model_name": "FloatProgressModel",
          "state": {
            "_view_name": "ProgressView",
            "style": "IPY_MODEL_61128dbddd0c491ca31d248b1f138615",
            "_dom_classes": [],
            "description": "Downloading: 100%",
            "_model_name": "FloatProgressModel",
            "bar_style": "success",
            "max": 995526,
            "_view_module": "@jupyter-widgets/controls",
            "_model_module_version": "1.5.0",
            "value": 995526,
            "_view_count": null,
            "_view_module_version": "1.5.0",
            "orientation": "horizontal",
            "min": 0,
            "description_tooltip": null,
            "_model_module": "@jupyter-widgets/controls",
            "layout": "IPY_MODEL_8b284eb3c03a486b8c36d236a7ff4478"
          }
        },
        "29db977d8ba1419e97dcd6c34dbc53bc": {
          "model_module": "@jupyter-widgets/controls",
          "model_name": "HTMLModel",
          "state": {
            "_view_name": "HTMLView",
            "style": "IPY_MODEL_e6101babe9054986b90a10099c07daf5",
            "_dom_classes": [],
            "description": "",
            "_model_name": "HTMLModel",
            "placeholder": "​",
            "_view_module": "@jupyter-widgets/controls",
            "_model_module_version": "1.5.0",
            "value": " 996k/996k [00:01&lt;00:00, 686kB/s]",
            "_view_count": null,
            "_view_module_version": "1.5.0",
            "description_tooltip": null,
            "_model_module": "@jupyter-widgets/controls",
            "layout": "IPY_MODEL_583fb3ef7d6c4523bc3b501d6266d384"
          }
        },
        "61128dbddd0c491ca31d248b1f138615": {
          "model_module": "@jupyter-widgets/controls",
          "model_name": "ProgressStyleModel",
          "state": {
            "_view_name": "StyleView",
            "_model_name": "ProgressStyleModel",
            "description_width": "initial",
            "_view_module": "@jupyter-widgets/base",
            "_model_module_version": "1.5.0",
            "_view_count": null,
            "_view_module_version": "1.2.0",
            "bar_color": null,
            "_model_module": "@jupyter-widgets/controls"
          }
        },
        "8b284eb3c03a486b8c36d236a7ff4478": {
          "model_module": "@jupyter-widgets/base",
          "model_name": "LayoutModel",
          "state": {
            "_view_name": "LayoutView",
            "grid_template_rows": null,
            "right": null,
            "justify_content": null,
            "_view_module": "@jupyter-widgets/base",
            "overflow": null,
            "_model_module_version": "1.2.0",
            "_view_count": null,
            "flex_flow": null,
            "width": null,
            "min_width": null,
            "border": null,
            "align_items": null,
            "bottom": null,
            "_model_module": "@jupyter-widgets/base",
            "top": null,
            "grid_column": null,
            "overflow_y": null,
            "overflow_x": null,
            "grid_auto_flow": null,
            "grid_area": null,
            "grid_template_columns": null,
            "flex": null,
            "_model_name": "LayoutModel",
            "justify_items": null,
            "grid_row": null,
            "max_height": null,
            "align_content": null,
            "visibility": null,
            "align_self": null,
            "height": null,
            "min_height": null,
            "padding": null,
            "grid_auto_rows": null,
            "grid_gap": null,
            "max_width": null,
            "order": null,
            "_view_module_version": "1.2.0",
            "grid_template_areas": null,
            "object_position": null,
            "object_fit": null,
            "grid_auto_columns": null,
            "margin": null,
            "display": null,
            "left": null
          }
        },
        "e6101babe9054986b90a10099c07daf5": {
          "model_module": "@jupyter-widgets/controls",
          "model_name": "DescriptionStyleModel",
          "state": {
            "_view_name": "StyleView",
            "_model_name": "DescriptionStyleModel",
            "description_width": "",
            "_view_module": "@jupyter-widgets/base",
            "_model_module_version": "1.5.0",
            "_view_count": null,
            "_view_module_version": "1.2.0",
            "_model_module": "@jupyter-widgets/controls"
          }
        },
        "583fb3ef7d6c4523bc3b501d6266d384": {
          "model_module": "@jupyter-widgets/base",
          "model_name": "LayoutModel",
          "state": {
            "_view_name": "LayoutView",
            "grid_template_rows": null,
            "right": null,
            "justify_content": null,
            "_view_module": "@jupyter-widgets/base",
            "overflow": null,
            "_model_module_version": "1.2.0",
            "_view_count": null,
            "flex_flow": null,
            "width": null,
            "min_width": null,
            "border": null,
            "align_items": null,
            "bottom": null,
            "_model_module": "@jupyter-widgets/base",
            "top": null,
            "grid_column": null,
            "overflow_y": null,
            "overflow_x": null,
            "grid_auto_flow": null,
            "grid_area": null,
            "grid_template_columns": null,
            "flex": null,
            "_model_name": "LayoutModel",
            "justify_items": null,
            "grid_row": null,
            "max_height": null,
            "align_content": null,
            "visibility": null,
            "align_self": null,
            "height": null,
            "min_height": null,
            "padding": null,
            "grid_auto_rows": null,
            "grid_gap": null,
            "max_width": null,
            "order": null,
            "_view_module_version": "1.2.0",
            "grid_template_areas": null,
            "object_position": null,
            "object_fit": null,
            "grid_auto_columns": null,
            "margin": null,
            "display": null,
            "left": null
          }
        },
        "bb5ebb0ffa84406584d70cf9f7c5cfa6": {
          "model_module": "@jupyter-widgets/controls",
          "model_name": "HBoxModel",
          "state": {
            "_view_name": "HBoxView",
            "_dom_classes": [],
            "_model_name": "HBoxModel",
            "_view_module": "@jupyter-widgets/controls",
            "_model_module_version": "1.5.0",
            "_view_count": null,
            "_view_module_version": "1.5.0",
            "box_style": "",
            "layout": "IPY_MODEL_5ddb6eab5e69421d91ec69a1026bc842",
            "_model_module": "@jupyter-widgets/controls",
            "children": [
              "IPY_MODEL_55709c191ce04e6f91a50b59b28128cb",
              "IPY_MODEL_c0af4aebde56410996485dfbba8ff6c1"
            ]
          }
        },
        "5ddb6eab5e69421d91ec69a1026bc842": {
          "model_module": "@jupyter-widgets/base",
          "model_name": "LayoutModel",
          "state": {
            "_view_name": "LayoutView",
            "grid_template_rows": null,
            "right": null,
            "justify_content": null,
            "_view_module": "@jupyter-widgets/base",
            "overflow": null,
            "_model_module_version": "1.2.0",
            "_view_count": null,
            "flex_flow": null,
            "width": null,
            "min_width": null,
            "border": null,
            "align_items": null,
            "bottom": null,
            "_model_module": "@jupyter-widgets/base",
            "top": null,
            "grid_column": null,
            "overflow_y": null,
            "overflow_x": null,
            "grid_auto_flow": null,
            "grid_area": null,
            "grid_template_columns": null,
            "flex": null,
            "_model_name": "LayoutModel",
            "justify_items": null,
            "grid_row": null,
            "max_height": null,
            "align_content": null,
            "visibility": null,
            "align_self": null,
            "height": null,
            "min_height": null,
            "padding": null,
            "grid_auto_rows": null,
            "grid_gap": null,
            "max_width": null,
            "order": null,
            "_view_module_version": "1.2.0",
            "grid_template_areas": null,
            "object_position": null,
            "object_fit": null,
            "grid_auto_columns": null,
            "margin": null,
            "display": null,
            "left": null
          }
        },
        "55709c191ce04e6f91a50b59b28128cb": {
          "model_module": "@jupyter-widgets/controls",
          "model_name": "FloatProgressModel",
          "state": {
            "_view_name": "ProgressView",
            "style": "IPY_MODEL_de0b099eadb04ac783e836010040326d",
            "_dom_classes": [],
            "description": "Downloading: 100%",
            "_model_name": "FloatProgressModel",
            "bar_style": "success",
            "max": 625,
            "_view_module": "@jupyter-widgets/controls",
            "_model_module_version": "1.5.0",
            "value": 625,
            "_view_count": null,
            "_view_module_version": "1.5.0",
            "orientation": "horizontal",
            "min": 0,
            "description_tooltip": null,
            "_model_module": "@jupyter-widgets/controls",
            "layout": "IPY_MODEL_3a0d27029c64492c8762ae612fd0bdc0"
          }
        },
        "c0af4aebde56410996485dfbba8ff6c1": {
          "model_module": "@jupyter-widgets/controls",
          "model_name": "HTMLModel",
          "state": {
            "_view_name": "HTMLView",
            "style": "IPY_MODEL_7afaa38d6807473c9348f27c8f820edc",
            "_dom_classes": [],
            "description": "",
            "_model_name": "HTMLModel",
            "placeholder": "​",
            "_view_module": "@jupyter-widgets/controls",
            "_model_module_version": "1.5.0",
            "value": " 625/625 [00:00&lt;00:00, 791B/s]",
            "_view_count": null,
            "_view_module_version": "1.5.0",
            "description_tooltip": null,
            "_model_module": "@jupyter-widgets/controls",
            "layout": "IPY_MODEL_ffdc81abf0a04c75a5b8f7efa1e5dc49"
          }
        },
        "de0b099eadb04ac783e836010040326d": {
          "model_module": "@jupyter-widgets/controls",
          "model_name": "ProgressStyleModel",
          "state": {
            "_view_name": "StyleView",
            "_model_name": "ProgressStyleModel",
            "description_width": "initial",
            "_view_module": "@jupyter-widgets/base",
            "_model_module_version": "1.5.0",
            "_view_count": null,
            "_view_module_version": "1.2.0",
            "bar_color": null,
            "_model_module": "@jupyter-widgets/controls"
          }
        },
        "3a0d27029c64492c8762ae612fd0bdc0": {
          "model_module": "@jupyter-widgets/base",
          "model_name": "LayoutModel",
          "state": {
            "_view_name": "LayoutView",
            "grid_template_rows": null,
            "right": null,
            "justify_content": null,
            "_view_module": "@jupyter-widgets/base",
            "overflow": null,
            "_model_module_version": "1.2.0",
            "_view_count": null,
            "flex_flow": null,
            "width": null,
            "min_width": null,
            "border": null,
            "align_items": null,
            "bottom": null,
            "_model_module": "@jupyter-widgets/base",
            "top": null,
            "grid_column": null,
            "overflow_y": null,
            "overflow_x": null,
            "grid_auto_flow": null,
            "grid_area": null,
            "grid_template_columns": null,
            "flex": null,
            "_model_name": "LayoutModel",
            "justify_items": null,
            "grid_row": null,
            "max_height": null,
            "align_content": null,
            "visibility": null,
            "align_self": null,
            "height": null,
            "min_height": null,
            "padding": null,
            "grid_auto_rows": null,
            "grid_gap": null,
            "max_width": null,
            "order": null,
            "_view_module_version": "1.2.0",
            "grid_template_areas": null,
            "object_position": null,
            "object_fit": null,
            "grid_auto_columns": null,
            "margin": null,
            "display": null,
            "left": null
          }
        },
        "7afaa38d6807473c9348f27c8f820edc": {
          "model_module": "@jupyter-widgets/controls",
          "model_name": "DescriptionStyleModel",
          "state": {
            "_view_name": "StyleView",
            "_model_name": "DescriptionStyleModel",
            "description_width": "",
            "_view_module": "@jupyter-widgets/base",
            "_model_module_version": "1.5.0",
            "_view_count": null,
            "_view_module_version": "1.2.0",
            "_model_module": "@jupyter-widgets/controls"
          }
        },
        "ffdc81abf0a04c75a5b8f7efa1e5dc49": {
          "model_module": "@jupyter-widgets/base",
          "model_name": "LayoutModel",
          "state": {
            "_view_name": "LayoutView",
            "grid_template_rows": null,
            "right": null,
            "justify_content": null,
            "_view_module": "@jupyter-widgets/base",
            "overflow": null,
            "_model_module_version": "1.2.0",
            "_view_count": null,
            "flex_flow": null,
            "width": null,
            "min_width": null,
            "border": null,
            "align_items": null,
            "bottom": null,
            "_model_module": "@jupyter-widgets/base",
            "top": null,
            "grid_column": null,
            "overflow_y": null,
            "overflow_x": null,
            "grid_auto_flow": null,
            "grid_area": null,
            "grid_template_columns": null,
            "flex": null,
            "_model_name": "LayoutModel",
            "justify_items": null,
            "grid_row": null,
            "max_height": null,
            "align_content": null,
            "visibility": null,
            "align_self": null,
            "height": null,
            "min_height": null,
            "padding": null,
            "grid_auto_rows": null,
            "grid_gap": null,
            "max_width": null,
            "order": null,
            "_view_module_version": "1.2.0",
            "grid_template_areas": null,
            "object_position": null,
            "object_fit": null,
            "grid_auto_columns": null,
            "margin": null,
            "display": null,
            "left": null
          }
        },
        "2c7f5eb48b354bac845263aaef6ddf35": {
          "model_module": "@jupyter-widgets/controls",
          "model_name": "HBoxModel",
          "state": {
            "_view_name": "HBoxView",
            "_dom_classes": [],
            "_model_name": "HBoxModel",
            "_view_module": "@jupyter-widgets/controls",
            "_model_module_version": "1.5.0",
            "_view_count": null,
            "_view_module_version": "1.5.0",
            "box_style": "",
            "layout": "IPY_MODEL_ee5480ec66d84008bf94efe7594e2059",
            "_model_module": "@jupyter-widgets/controls",
            "children": [
              "IPY_MODEL_fd5a9fdeb30d49a6b12642662c429bd6",
              "IPY_MODEL_637cbf1063994296bbdac821af3f0849"
            ]
          }
        },
        "ee5480ec66d84008bf94efe7594e2059": {
          "model_module": "@jupyter-widgets/base",
          "model_name": "LayoutModel",
          "state": {
            "_view_name": "LayoutView",
            "grid_template_rows": null,
            "right": null,
            "justify_content": null,
            "_view_module": "@jupyter-widgets/base",
            "overflow": null,
            "_model_module_version": "1.2.0",
            "_view_count": null,
            "flex_flow": null,
            "width": null,
            "min_width": null,
            "border": null,
            "align_items": null,
            "bottom": null,
            "_model_module": "@jupyter-widgets/base",
            "top": null,
            "grid_column": null,
            "overflow_y": null,
            "overflow_x": null,
            "grid_auto_flow": null,
            "grid_area": null,
            "grid_template_columns": null,
            "flex": null,
            "_model_name": "LayoutModel",
            "justify_items": null,
            "grid_row": null,
            "max_height": null,
            "align_content": null,
            "visibility": null,
            "align_self": null,
            "height": null,
            "min_height": null,
            "padding": null,
            "grid_auto_rows": null,
            "grid_gap": null,
            "max_width": null,
            "order": null,
            "_view_module_version": "1.2.0",
            "grid_template_areas": null,
            "object_position": null,
            "object_fit": null,
            "grid_auto_columns": null,
            "margin": null,
            "display": null,
            "left": null
          }
        },
        "fd5a9fdeb30d49a6b12642662c429bd6": {
          "model_module": "@jupyter-widgets/controls",
          "model_name": "FloatProgressModel",
          "state": {
            "_view_name": "ProgressView",
            "style": "IPY_MODEL_04bf7c3cbb40452287cb92f1799c9278",
            "_dom_classes": [],
            "description": "Downloading: 100%",
            "_model_name": "FloatProgressModel",
            "bar_style": "success",
            "max": 714314041,
            "_view_module": "@jupyter-widgets/controls",
            "_model_module_version": "1.5.0",
            "value": 714314041,
            "_view_count": null,
            "_view_module_version": "1.5.0",
            "orientation": "horizontal",
            "min": 0,
            "description_tooltip": null,
            "_model_module": "@jupyter-widgets/controls",
            "layout": "IPY_MODEL_f5c16dfa3caa4f5b82aa5bf4fde1327b"
          }
        },
        "637cbf1063994296bbdac821af3f0849": {
          "model_module": "@jupyter-widgets/controls",
          "model_name": "HTMLModel",
          "state": {
            "_view_name": "HTMLView",
            "style": "IPY_MODEL_c875536c1df940d7a24a0cca5d96808e",
            "_dom_classes": [],
            "description": "",
            "_model_name": "HTMLModel",
            "placeholder": "​",
            "_view_module": "@jupyter-widgets/controls",
            "_model_module_version": "1.5.0",
            "value": " 714M/714M [00:16&lt;00:00, 43.6MB/s]",
            "_view_count": null,
            "_view_module_version": "1.5.0",
            "description_tooltip": null,
            "_model_module": "@jupyter-widgets/controls",
            "layout": "IPY_MODEL_669ca8f68e8c47f79885a179555bf636"
          }
        },
        "04bf7c3cbb40452287cb92f1799c9278": {
          "model_module": "@jupyter-widgets/controls",
          "model_name": "ProgressStyleModel",
          "state": {
            "_view_name": "StyleView",
            "_model_name": "ProgressStyleModel",
            "description_width": "initial",
            "_view_module": "@jupyter-widgets/base",
            "_model_module_version": "1.5.0",
            "_view_count": null,
            "_view_module_version": "1.2.0",
            "bar_color": null,
            "_model_module": "@jupyter-widgets/controls"
          }
        },
        "f5c16dfa3caa4f5b82aa5bf4fde1327b": {
          "model_module": "@jupyter-widgets/base",
          "model_name": "LayoutModel",
          "state": {
            "_view_name": "LayoutView",
            "grid_template_rows": null,
            "right": null,
            "justify_content": null,
            "_view_module": "@jupyter-widgets/base",
            "overflow": null,
            "_model_module_version": "1.2.0",
            "_view_count": null,
            "flex_flow": null,
            "width": null,
            "min_width": null,
            "border": null,
            "align_items": null,
            "bottom": null,
            "_model_module": "@jupyter-widgets/base",
            "top": null,
            "grid_column": null,
            "overflow_y": null,
            "overflow_x": null,
            "grid_auto_flow": null,
            "grid_area": null,
            "grid_template_columns": null,
            "flex": null,
            "_model_name": "LayoutModel",
            "justify_items": null,
            "grid_row": null,
            "max_height": null,
            "align_content": null,
            "visibility": null,
            "align_self": null,
            "height": null,
            "min_height": null,
            "padding": null,
            "grid_auto_rows": null,
            "grid_gap": null,
            "max_width": null,
            "order": null,
            "_view_module_version": "1.2.0",
            "grid_template_areas": null,
            "object_position": null,
            "object_fit": null,
            "grid_auto_columns": null,
            "margin": null,
            "display": null,
            "left": null
          }
        },
        "c875536c1df940d7a24a0cca5d96808e": {
          "model_module": "@jupyter-widgets/controls",
          "model_name": "DescriptionStyleModel",
          "state": {
            "_view_name": "StyleView",
            "_model_name": "DescriptionStyleModel",
            "description_width": "",
            "_view_module": "@jupyter-widgets/base",
            "_model_module_version": "1.5.0",
            "_view_count": null,
            "_view_module_version": "1.2.0",
            "_model_module": "@jupyter-widgets/controls"
          }
        },
        "669ca8f68e8c47f79885a179555bf636": {
          "model_module": "@jupyter-widgets/base",
          "model_name": "LayoutModel",
          "state": {
            "_view_name": "LayoutView",
            "grid_template_rows": null,
            "right": null,
            "justify_content": null,
            "_view_module": "@jupyter-widgets/base",
            "overflow": null,
            "_model_module_version": "1.2.0",
            "_view_count": null,
            "flex_flow": null,
            "width": null,
            "min_width": null,
            "border": null,
            "align_items": null,
            "bottom": null,
            "_model_module": "@jupyter-widgets/base",
            "top": null,
            "grid_column": null,
            "overflow_y": null,
            "overflow_x": null,
            "grid_auto_flow": null,
            "grid_area": null,
            "grid_template_columns": null,
            "flex": null,
            "_model_name": "LayoutModel",
            "justify_items": null,
            "grid_row": null,
            "max_height": null,
            "align_content": null,
            "visibility": null,
            "align_self": null,
            "height": null,
            "min_height": null,
            "padding": null,
            "grid_auto_rows": null,
            "grid_gap": null,
            "max_width": null,
            "order": null,
            "_view_module_version": "1.2.0",
            "grid_template_areas": null,
            "object_position": null,
            "object_fit": null,
            "grid_auto_columns": null,
            "margin": null,
            "display": null,
            "left": null
          }
        }
      }
    }
  },
  "cells": [
    {
      "cell_type": "markdown",
      "metadata": {
        "id": "_OSweIhaVj2V",
        "colab_type": "text"
      },
      "source": [
        "# download data"
      ]
    },
    {
      "cell_type": "code",
      "metadata": {
        "colab_type": "code",
        "id": "bmuCF70-uLBL",
        "colab": {}
      },
      "source": [
        "#It is preferable to run this notebook in Google Colab\n",
        "!pip install -U -q PyDrive\n",
        "from pydrive.auth import GoogleAuth\n",
        "from pydrive.drive import GoogleDrive\n",
        "from google.colab import auth\n",
        "from oauth2client.client import GoogleCredentials\n",
        "import json\n",
        "import zipfile\n",
        "\n",
        "auth.authenticate_user()\n",
        "gauth = GoogleAuth()\n",
        "gauth.credentials = GoogleCredentials.get_application_default()\n",
        "drive = GoogleDrive(gauth)"
      ],
      "execution_count": 1,
      "outputs": []
    },
    {
      "cell_type": "code",
      "metadata": {
        "colab_type": "code",
        "id": "XXQFNDGgr15s",
        "colab": {}
      },
      "source": [
        "downloaded_ = drive.CreateFile({'id':'1MY_7nRfvLRAiRLtCmzRhienCNkmmwA-f'}) \n",
        "downloaded_.GetContentFile('comment-train.csv.zip')\n",
        "zip_ref = zipfile.ZipFile('comment-train.csv.zip', 'r')\n",
        "zip_ref.extractall()\n",
        "zip_ref.close()"
      ],
      "execution_count": 2,
      "outputs": []
    },
    {
      "cell_type": "code",
      "metadata": {
        "id": "uENWvp4G96f6",
        "colab_type": "code",
        "colab": {}
      },
      "source": [
        "downloaded_ = drive.CreateFile({'id': '19pkTBN55aqyOiM1zVqp290bE3Lrqs5z5'}) \n",
        "downloaded_.GetContentFile('unintended-train.csv.zip')\n",
        "zip_ref = zipfile.ZipFile('unintended-train.csv.zip', 'r')\n",
        "zip_ref.extractall()\n",
        "zip_ref.close()"
      ],
      "execution_count": 3,
      "outputs": []
    },
    {
      "cell_type": "code",
      "metadata": {
        "id": "rXdxnTVy-cXK",
        "colab_type": "code",
        "colab": {}
      },
      "source": [
        "downloaded_ = drive.CreateFile({'id': '1x3PEmKTz8pCBDmyuuZaPNN6s-E_c68ar'}) \n",
        "downloaded_.GetContentFile('test.csv.zip')\n",
        "zip_ref = zipfile.ZipFile('test.csv.zip', 'r')\n",
        "zip_ref.extractall()\n",
        "zip_ref.close()"
      ],
      "execution_count": 4,
      "outputs": []
    },
    {
      "cell_type": "code",
      "metadata": {
        "id": "-zdEDsro-qYF",
        "colab_type": "code",
        "colab": {}
      },
      "source": [
        "downloaded_ = drive.CreateFile({'id': '1ign9HHQpSw_IHzrhcZ833GYSKZ2jljN6'}) \n",
        "downloaded_.GetContentFile('validation.csv.zip')\n",
        "zip_ref = zipfile.ZipFile('validation.csv.zip', 'r')\n",
        "zip_ref.extractall()\n",
        "zip_ref.close()"
      ],
      "execution_count": 5,
      "outputs": []
    },
    {
      "cell_type": "code",
      "metadata": {
        "id": "KBGrHLK58XLs",
        "colab_type": "code",
        "colab": {
          "base_uri": "https://localhost:8080/",
          "height": 207
        },
        "outputId": "52cc94f5-0857-45ba-c100-384ba74dec0a"
      },
      "source": [
        "!head jigsaw-toxic-comment-train.csv"
      ],
      "execution_count": null,
      "outputs": [
        {
          "output_type": "stream",
          "text": [
            "id,comment_text,toxic,severe_toxic,obscene,threat,insult,identity_hate\n",
            "0000997932d777bf,\"Explanation\n",
            "Why the edits made under my username Hardcore Metallica Fan were reverted? They weren't vandalisms, just closure on some GAs after I voted at New York Dolls FAC. And please don't remove the template from the talk page since I'm retired now.89.205.38.27\",0,0,0,0,0,0\n",
            "000103f0d9cfb60f,\"D'aww! He matches this background colour I'm seemingly stuck with. Thanks.  (talk) 21:51, January 11, 2016 (UTC)\",0,0,0,0,0,0\n",
            "000113f07ec002fd,\"Hey man, I'm really not trying to edit war. It's just that this guy is constantly removing relevant information and talking to me through edits instead of my talk page. He seems to care more about the formatting than the actual info.\",0,0,0,0,0,0\n",
            "0001b41b1c6bb37e,\"\"\"\n",
            "More\n",
            "I can't make any real suggestions on improvement - I wondered if the section statistics should be later on, or a subsection of \"\"\"\"types of accidents\"\"\"\"  -I think the references may need tidying so that they are all in the exact same format ie date format etc. I can do that later on, if no-one else does first - if you have any preferences for formatting style on references or want to do it yourself please let me know.\n",
            "\n",
            "There appears to be a backlog on articles for review so I guess there may be a delay until a reviewer turns up. It's listed in the relevant form eg Wikipedia:Good_article_nominations#Transport  \"\"\",0,0,0,0,0,0\n"
          ],
          "name": "stdout"
        }
      ]
    },
    {
      "cell_type": "code",
      "metadata": {
        "id": "V4NhP6Zt9LMP",
        "colab_type": "code",
        "colab": {
          "base_uri": "https://localhost:8080/",
          "height": 119
        },
        "outputId": "a295bb9e-a901-4001-942c-85b99c2416fe"
      },
      "source": [
        "!ls"
      ],
      "execution_count": null,
      "outputs": [
        {
          "output_type": "stream",
          "text": [
            "adc.json\t\t\t  test.csv\n",
            "comment-train.csv.zip\t\t  test.csv.zip\n",
            "fig1.png\t\t\t  unintended-train.csv.zip\n",
            "jigsaw-toxic-comment-train.csv\t  validation.csv\n",
            "jigsaw-unintended-bias-train.csv  validation.csv.zip\n",
            "sample_data\n"
          ],
          "name": "stdout"
        }
      ]
    },
    {
      "cell_type": "markdown",
      "metadata": {
        "id": "MW5t23CCWAE7",
        "colab_type": "text"
      },
      "source": [
        "# Install and import dependencies"
      ]
    },
    {
      "cell_type": "code",
      "metadata": {
        "id": "a_viBL91VKUK",
        "colab_type": "code",
        "colab": {
          "base_uri": "https://localhost:8080/",
          "height": 615
        },
        "outputId": "c3e4aceb-971f-4932-c552-f465d7aaee3b"
      },
      "source": [
        "!pip install transformers"
      ],
      "execution_count": 6,
      "outputs": [
        {
          "output_type": "stream",
          "text": [
            "Collecting transformers\n",
            "\u001b[?25l  Downloading https://files.pythonhosted.org/packages/48/35/ad2c5b1b8f99feaaf9d7cdadaeef261f098c6e1a6a2935d4d07662a6b780/transformers-2.11.0-py3-none-any.whl (674kB)\n",
            "\u001b[K     |████████████████████████████████| 675kB 8.7MB/s \n",
            "\u001b[?25hRequirement already satisfied: packaging in /usr/local/lib/python3.6/dist-packages (from transformers) (20.4)\n",
            "Requirement already satisfied: regex!=2019.12.17 in /usr/local/lib/python3.6/dist-packages (from transformers) (2019.12.20)\n",
            "Collecting tokenizers==0.7.0\n",
            "\u001b[?25l  Downloading https://files.pythonhosted.org/packages/14/e5/a26eb4716523808bb0a799fcfdceb6ebf77a18169d9591b2f46a9adb87d9/tokenizers-0.7.0-cp36-cp36m-manylinux1_x86_64.whl (3.8MB)\n",
            "\u001b[K     |████████████████████████████████| 3.8MB 22.8MB/s \n",
            "\u001b[?25hCollecting sentencepiece\n",
            "\u001b[?25l  Downloading https://files.pythonhosted.org/packages/d4/a4/d0a884c4300004a78cca907a6ff9a5e9fe4f090f5d95ab341c53d28cbc58/sentencepiece-0.1.91-cp36-cp36m-manylinux1_x86_64.whl (1.1MB)\n",
            "\u001b[K     |████████████████████████████████| 1.1MB 60.0MB/s \n",
            "\u001b[?25hRequirement already satisfied: tqdm>=4.27 in /usr/local/lib/python3.6/dist-packages (from transformers) (4.41.1)\n",
            "Requirement already satisfied: numpy in /usr/local/lib/python3.6/dist-packages (from transformers) (1.18.5)\n",
            "Requirement already satisfied: filelock in /usr/local/lib/python3.6/dist-packages (from transformers) (3.0.12)\n",
            "Collecting sacremoses\n",
            "\u001b[?25l  Downloading https://files.pythonhosted.org/packages/7d/34/09d19aff26edcc8eb2a01bed8e98f13a1537005d31e95233fd48216eed10/sacremoses-0.0.43.tar.gz (883kB)\n",
            "\u001b[K     |████████████████████████████████| 890kB 59.6MB/s \n",
            "\u001b[?25hRequirement already satisfied: dataclasses; python_version < \"3.7\" in /usr/local/lib/python3.6/dist-packages (from transformers) (0.7)\n",
            "Requirement already satisfied: requests in /usr/local/lib/python3.6/dist-packages (from transformers) (2.23.0)\n",
            "Requirement already satisfied: pyparsing>=2.0.2 in /usr/local/lib/python3.6/dist-packages (from packaging->transformers) (2.4.7)\n",
            "Requirement already satisfied: six in /usr/local/lib/python3.6/dist-packages (from packaging->transformers) (1.12.0)\n",
            "Requirement already satisfied: click in /usr/local/lib/python3.6/dist-packages (from sacremoses->transformers) (7.1.2)\n",
            "Requirement already satisfied: joblib in /usr/local/lib/python3.6/dist-packages (from sacremoses->transformers) (0.15.1)\n",
            "Requirement already satisfied: chardet<4,>=3.0.2 in /usr/local/lib/python3.6/dist-packages (from requests->transformers) (3.0.4)\n",
            "Requirement already satisfied: idna<3,>=2.5 in /usr/local/lib/python3.6/dist-packages (from requests->transformers) (2.9)\n",
            "Requirement already satisfied: urllib3!=1.25.0,!=1.25.1,<1.26,>=1.21.1 in /usr/local/lib/python3.6/dist-packages (from requests->transformers) (1.24.3)\n",
            "Requirement already satisfied: certifi>=2017.4.17 in /usr/local/lib/python3.6/dist-packages (from requests->transformers) (2020.4.5.2)\n",
            "Building wheels for collected packages: sacremoses\n",
            "  Building wheel for sacremoses (setup.py) ... \u001b[?25l\u001b[?25hdone\n",
            "  Created wheel for sacremoses: filename=sacremoses-0.0.43-cp36-none-any.whl size=893260 sha256=506ef53a1d7732d828fd81e0ae26529cb34eae21fa6fdf3f59a3a8df0ffbf961\n",
            "  Stored in directory: /root/.cache/pip/wheels/29/3c/fd/7ce5c3f0666dab31a50123635e6fb5e19ceb42ce38d4e58f45\n",
            "Successfully built sacremoses\n",
            "Installing collected packages: tokenizers, sentencepiece, sacremoses, transformers\n",
            "Successfully installed sacremoses-0.0.43 sentencepiece-0.1.91 tokenizers-0.7.0 transformers-2.11.0\n"
          ],
          "name": "stdout"
        }
      ]
    },
    {
      "cell_type": "code",
      "metadata": {
        "id": "ChDjbbdu_w8v",
        "colab_type": "code",
        "colab": {
          "base_uri": "https://localhost:8080/",
          "height": 34
        },
        "outputId": "63b104e4-07f1-43b5-f0e2-65065593c4b8"
      },
      "source": [
        "import pandas as pd\n",
        "from sklearn.metrics import classification_report\n",
        "from sklearn.model_selection import train_test_split\n",
        "import matplotlib.pyplot as plt\n",
        "from torch.utils.data import TensorDataset, DataLoader, RandomSampler, SequentialSampler\n",
        "from transformers import BertForSequenceClassification, AdamW, BertConfig, BertTokenizer\n",
        "from transformers import get_linear_schedule_with_warmup\n",
        "import time\n",
        "import datetime\n",
        "import random\n",
        "from sklearn.metrics import f1_score\n",
        "from keras.preprocessing.sequence import pad_sequences\n",
        "from tqdm import tqdm\n",
        "import torch\n",
        "import numpy as np\n",
        "import os \n",
        "import re\n",
        "from scipy import stats\n",
        "from sklearn.model_selection import train_test_split, StratifiedKFold, KFold, cross_val_score, GridSearchCV, RepeatedStratifiedKFold\n",
        "from sklearn.preprocessing import StandardScaler\n",
        "from sklearn import model_selection\n",
        "from sklearn.metrics import accuracy_score, roc_auc_score\n",
        "from sklearn import linear_model\n",
        "from sklearn.neighbors import NearestNeighbors\n",
        "from sklearn.feature_extraction.text import TfidfVectorizer\n",
        "from sklearn.linear_model import LogisticRegression\n",
        "from sklearn.metrics import *\n",
        "from sklearn.model_selection import GridSearchCV"
      ],
      "execution_count": 7,
      "outputs": [
        {
          "output_type": "stream",
          "text": [
            "Using TensorFlow backend.\n"
          ],
          "name": "stderr"
        }
      ]
    },
    {
      "cell_type": "markdown",
      "metadata": {
        "id": "cYs7NYOMVr-r",
        "colab_type": "text"
      },
      "source": [
        "# EDA"
      ]
    },
    {
      "cell_type": "code",
      "metadata": {
        "id": "i6TuZJsN9P_n",
        "colab_type": "code",
        "colab": {}
      },
      "source": [
        "wiki_toxic_comment_train = pd.read_csv(\"jigsaw-toxic-comment-train.csv\")\n",
        "wiki_toxic_comment_test = pd.read_csv(\"test.csv\", index_col=0)\n",
        "wiki_toxic_comment_valid = pd.read_csv(\"validation.csv\", index_col=0)"
      ],
      "execution_count": 8,
      "outputs": []
    },
    {
      "cell_type": "markdown",
      "metadata": {
        "id": "cz0G88ZnHepn",
        "colab_type": "text"
      },
      "source": [
        "# Data Analisys"
      ]
    },
    {
      "cell_type": "markdown",
      "metadata": {
        "id": "3jF0L7FPUscj",
        "colab_type": "text"
      },
      "source": [
        "**Задание:**\n",
        "\n",
        "Анализ всех дополнительных колонок тональности (как проявляется тот или иной тип токсичности, как в данных это представлено, какие есть пограничные случаи) - 2.5 балла"
      ]
    },
    {
      "cell_type": "markdown",
      "metadata": {
        "id": "O2rF6kaIe_qA",
        "colab_type": "text"
      },
      "source": [
        "## train"
      ]
    },
    {
      "cell_type": "markdown",
      "metadata": {
        "id": "6uEeXof1J0kb",
        "colab_type": "text"
      },
      "source": [
        "Для начала посмотрим на тест"
      ]
    },
    {
      "cell_type": "code",
      "metadata": {
        "id": "D0AXTdbf9UAR",
        "colab_type": "code",
        "colab": {
          "base_uri": "https://localhost:8080/",
          "height": 204
        },
        "outputId": "c7d3a80c-3115-4762-f402-b68364cfb4ec"
      },
      "source": [
        "wiki_toxic_comment_train.head()"
      ],
      "execution_count": null,
      "outputs": [
        {
          "output_type": "execute_result",
          "data": {
            "text/html": [
              "<div>\n",
              "<style scoped>\n",
              "    .dataframe tbody tr th:only-of-type {\n",
              "        vertical-align: middle;\n",
              "    }\n",
              "\n",
              "    .dataframe tbody tr th {\n",
              "        vertical-align: top;\n",
              "    }\n",
              "\n",
              "    .dataframe thead th {\n",
              "        text-align: right;\n",
              "    }\n",
              "</style>\n",
              "<table border=\"1\" class=\"dataframe\">\n",
              "  <thead>\n",
              "    <tr style=\"text-align: right;\">\n",
              "      <th></th>\n",
              "      <th>id</th>\n",
              "      <th>comment_text</th>\n",
              "      <th>toxic</th>\n",
              "      <th>severe_toxic</th>\n",
              "      <th>obscene</th>\n",
              "      <th>threat</th>\n",
              "      <th>insult</th>\n",
              "      <th>identity_hate</th>\n",
              "    </tr>\n",
              "  </thead>\n",
              "  <tbody>\n",
              "    <tr>\n",
              "      <th>0</th>\n",
              "      <td>0000997932d777bf</td>\n",
              "      <td>Explanation\\nWhy the edits made under my usern...</td>\n",
              "      <td>0</td>\n",
              "      <td>0</td>\n",
              "      <td>0</td>\n",
              "      <td>0</td>\n",
              "      <td>0</td>\n",
              "      <td>0</td>\n",
              "    </tr>\n",
              "    <tr>\n",
              "      <th>1</th>\n",
              "      <td>000103f0d9cfb60f</td>\n",
              "      <td>D'aww! He matches this background colour I'm s...</td>\n",
              "      <td>0</td>\n",
              "      <td>0</td>\n",
              "      <td>0</td>\n",
              "      <td>0</td>\n",
              "      <td>0</td>\n",
              "      <td>0</td>\n",
              "    </tr>\n",
              "    <tr>\n",
              "      <th>2</th>\n",
              "      <td>000113f07ec002fd</td>\n",
              "      <td>Hey man, I'm really not trying to edit war. It...</td>\n",
              "      <td>0</td>\n",
              "      <td>0</td>\n",
              "      <td>0</td>\n",
              "      <td>0</td>\n",
              "      <td>0</td>\n",
              "      <td>0</td>\n",
              "    </tr>\n",
              "    <tr>\n",
              "      <th>3</th>\n",
              "      <td>0001b41b1c6bb37e</td>\n",
              "      <td>\"\\nMore\\nI can't make any real suggestions on ...</td>\n",
              "      <td>0</td>\n",
              "      <td>0</td>\n",
              "      <td>0</td>\n",
              "      <td>0</td>\n",
              "      <td>0</td>\n",
              "      <td>0</td>\n",
              "    </tr>\n",
              "    <tr>\n",
              "      <th>4</th>\n",
              "      <td>0001d958c54c6e35</td>\n",
              "      <td>You, sir, are my hero. Any chance you remember...</td>\n",
              "      <td>0</td>\n",
              "      <td>0</td>\n",
              "      <td>0</td>\n",
              "      <td>0</td>\n",
              "      <td>0</td>\n",
              "      <td>0</td>\n",
              "    </tr>\n",
              "  </tbody>\n",
              "</table>\n",
              "</div>"
            ],
            "text/plain": [
              "                 id  ... identity_hate\n",
              "0  0000997932d777bf  ...             0\n",
              "1  000103f0d9cfb60f  ...             0\n",
              "2  000113f07ec002fd  ...             0\n",
              "3  0001b41b1c6bb37e  ...             0\n",
              "4  0001d958c54c6e35  ...             0\n",
              "\n",
              "[5 rows x 8 columns]"
            ]
          },
          "metadata": {
            "tags": []
          },
          "execution_count": 109
        }
      ]
    },
    {
      "cell_type": "code",
      "metadata": {
        "id": "fcCN9c1cLNCy",
        "colab_type": "code",
        "colab": {
          "base_uri": "https://localhost:8080/",
          "height": 34
        },
        "outputId": "868b620c-bb96-4c99-a453-217fc42a7938"
      },
      "source": [
        "len(wiki_toxic_comment_train)"
      ],
      "execution_count": null,
      "outputs": [
        {
          "output_type": "execute_result",
          "data": {
            "text/plain": [
              "223549"
            ]
          },
          "metadata": {
            "tags": []
          },
          "execution_count": 110
        }
      ]
    },
    {
      "cell_type": "markdown",
      "metadata": {
        "id": "85qzNIO_Kj6m",
        "colab_type": "text"
      },
      "source": [
        "В трейне представлены 223549 текстов только на английском языке, при этом токсичные тексты также имеют разбиение по типам токсичности \n",
        "\n",
        "Посмотрим, на токсичность и проверим у всех ди токсичных текстов есть тип:"
      ]
    },
    {
      "cell_type": "code",
      "metadata": {
        "id": "oBlTXowlMozV",
        "colab_type": "code",
        "colab": {
          "base_uri": "https://localhost:8080/",
          "height": 85
        },
        "outputId": "09aa5c83-e4fe-439d-a344-f12dcb388159"
      },
      "source": [
        "print(\"Количество токсичных текстов (по классу toxic):\")\n",
        "non_toxic_all = wiki_toxic_comment_train[(wiki_toxic_comment_train[\"toxic\"] != 1)]\n",
        "toxic_all = wiki_toxic_comment_train[(wiki_toxic_comment_train[\"toxic\"] == 1)]\n",
        "print(len(toxic_all))\n",
        "print(\"Количество токсичных текстов, не имеющих тип токсичности:\")\n",
        "toxic_no_type = wiki_toxic_comment_train[(wiki_toxic_comment_train[\"toxic\"] == 1) &\n",
        "                                        (wiki_toxic_comment_train[\"identity_hate\"]!=1) & \n",
        "                                        (wiki_toxic_comment_train[\"severe_toxic\"]!=1) &\n",
        "                                        (wiki_toxic_comment_train[\"insult\"]!=1) & \n",
        "                                        (wiki_toxic_comment_train[\"threat\"]!=1) & \n",
        "                                        (wiki_toxic_comment_train[\"obscene\"]!=1)]\n",
        "print(len(toxic_no_type))"
      ],
      "execution_count": 34,
      "outputs": [
        {
          "output_type": "stream",
          "text": [
            "Количество токсичных текстов (по классу toxic):\n",
            "21384\n",
            "Количество токсичных текстов, не имеющих тип токсичности:\n",
            "7376\n"
          ],
          "name": "stdout"
        }
      ]
    },
    {
      "cell_type": "markdown",
      "metadata": {
        "id": "TclkWNGkRjkO",
        "colab_type": "text"
      },
      "source": [
        "Хм, тип есть не у всех текстов, может быть есть тексты, у которых есть тип токсичности, но нет метки toxic (ну мало ли у них совсем странная разметка)"
      ]
    },
    {
      "cell_type": "code",
      "metadata": {
        "id": "ghDQSlVhQ-Sm",
        "colab_type": "code",
        "colab": {
          "base_uri": "https://localhost:8080/",
          "height": 49
        },
        "outputId": "def71251-3aa7-458d-cff0-b7e2608c6130"
      },
      "source": [
        "wiki_toxic_comment_train[(wiki_toxic_comment_train[\"toxic\"] == 0) &\n",
        "                                        (wiki_toxic_comment_train[\"identity_hate\"]==1) & \n",
        "                                        (wiki_toxic_comment_train[\"severe_toxic\"]==1) &\n",
        "                                        (wiki_toxic_comment_train[\"insult\"]==1) & \n",
        "                                        (wiki_toxic_comment_train[\"threat\"]==1) & \n",
        "                                        (wiki_toxic_comment_train[\"obscene\"]==1)]"
      ],
      "execution_count": 33,
      "outputs": [
        {
          "output_type": "execute_result",
          "data": {
            "text/html": [
              "<div>\n",
              "<style scoped>\n",
              "    .dataframe tbody tr th:only-of-type {\n",
              "        vertical-align: middle;\n",
              "    }\n",
              "\n",
              "    .dataframe tbody tr th {\n",
              "        vertical-align: top;\n",
              "    }\n",
              "\n",
              "    .dataframe thead th {\n",
              "        text-align: right;\n",
              "    }\n",
              "</style>\n",
              "<table border=\"1\" class=\"dataframe\">\n",
              "  <thead>\n",
              "    <tr style=\"text-align: right;\">\n",
              "      <th></th>\n",
              "      <th>id</th>\n",
              "      <th>comment_text</th>\n",
              "      <th>toxic</th>\n",
              "      <th>severe_toxic</th>\n",
              "      <th>obscene</th>\n",
              "      <th>threat</th>\n",
              "      <th>insult</th>\n",
              "      <th>identity_hate</th>\n",
              "    </tr>\n",
              "  </thead>\n",
              "  <tbody>\n",
              "  </tbody>\n",
              "</table>\n",
              "</div>"
            ],
            "text/plain": [
              "Empty DataFrame\n",
              "Columns: [id, comment_text, toxic, severe_toxic, obscene, threat, insult, identity_hate]\n",
              "Index: []"
            ]
          },
          "metadata": {
            "tags": []
          },
          "execution_count": 33
        }
      ]
    },
    {
      "cell_type": "code",
      "metadata": {
        "id": "aQefISFbRs5O",
        "colab_type": "code",
        "colab": {
          "base_uri": "https://localhost:8080/",
          "height": 130
        },
        "outputId": "f1c66607-c72a-4a29-b616-2fdc490b01e9"
      },
      "source": [
        "Таких текстов, к счастью нет\n",
        "\n",
        "Посмотрим сначала более общим взглядом "
      ],
      "execution_count": 35,
      "outputs": [
        {
          "output_type": "error",
          "ename": "SyntaxError",
          "evalue": "ignored",
          "traceback": [
            "\u001b[0;36m  File \u001b[0;32m\"<ipython-input-35-77cb74e9cdd2>\"\u001b[0;36m, line \u001b[0;32m1\u001b[0m\n\u001b[0;31m    Таких текстов, к счастью нет\u001b[0m\n\u001b[0m                ^\u001b[0m\n\u001b[0;31mSyntaxError\u001b[0m\u001b[0;31m:\u001b[0m invalid syntax\n"
          ]
        }
      ]
    },
    {
      "cell_type": "code",
      "metadata": {
        "id": "ELh_57UzNxy_",
        "colab_type": "code",
        "colab": {
          "base_uri": "https://localhost:8080/",
          "height": 337
        },
        "outputId": "8615a553-7206-448a-ed80-57082f7e1c23"
      },
      "source": [
        "fig = plt.figure()\n",
        "ax = fig.add_axes([0,0,1,1])\n",
        "labels = [\"toxic_no_type\", 'Toxic', 'Non-toxic' ]\n",
        "d = [len(toxic_no_type), len(toxic_all), len(non_toxic_all)]\n",
        "ax.bar(labels,d)\n",
        "plt.show()"
      ],
      "execution_count": 37,
      "outputs": [
        {
          "output_type": "display_data",
          "data": {
            "image/png": "[encoded data removed]",
            "text/plain": [
              "<Figure size 432x288 with 1 Axes>"
            ]
          },
          "metadata": {
            "tags": [],
            "needs_background": "light"
          }
        }
      ]
    },
    {
      "cell_type": "code",
      "metadata": {
        "id": "ND0AP9a6R9R-",
        "colab_type": "code",
        "colab": {
          "base_uri": "https://localhost:8080/",
          "height": 51
        },
        "outputId": "23979c4a-d0ef-4c73-9116-b252e3f653b0"
      },
      "source": [
        "print(\"Percent of toxic_no_type texts in corpus = \", len(toxic_no_type)/len(wiki_toxic_comment_train)*100)\n",
        "print(\"Percent of toxic_all texts in corpus = \", len(toxic_all)/len(wiki_toxic_comment_train)*100)"
      ],
      "execution_count": 41,
      "outputs": [
        {
          "output_type": "stream",
          "text": [
            "Percent of toxic_no_type texts in corpus =  3.2995003332602697\n",
            "Percent of toxic_all texts in corpus =  9.565688059441108\n"
          ],
          "name": "stdout"
        }
      ]
    },
    {
      "cell_type": "markdown",
      "metadata": {
        "id": "NLNstiQDS8L8",
        "colab_type": "text"
      },
      "source": [
        "Мы видим, что классы токсичный/нетоксичный соотносятся как 1 к 10 (если мы учитываем токсичные тексты всех типов), если же мы захотим использовать только тексты без дополнительной разметки, то у размер целевого класса едва будет превышать 3 процента"
      ]
    },
    {
      "cell_type": "markdown",
      "metadata": {
        "id": "Boyg7d-eTTKn",
        "colab_type": "text"
      },
      "source": [
        "Посмотрим как обстоят дела в самих типах токсичности:"
      ]
    },
    {
      "cell_type": "code",
      "metadata": {
        "id": "GHL2HLtQKeyZ",
        "colab_type": "code",
        "colab": {
          "base_uri": "https://localhost:8080/",
          "height": 204
        },
        "outputId": "4e5bc8d2-345b-4e3f-f1c8-5892dad640fc"
      },
      "source": [
        "print(\"Количество токсичных текстов по типам:\")\n",
        "print(\"identity_hate:\")\n",
        "toxic_identity_hate = wiki_toxic_comment_train[(wiki_toxic_comment_train[\"toxic\"] == 1) & (wiki_toxic_comment_train[\"identity_hate\"]==1)]\n",
        "non_toxic_identity_hate = wiki_toxic_comment_train[(wiki_toxic_comment_train[\"toxic\"] == 0) & (wiki_toxic_comment_train[\"identity_hate\"]==1)]\n",
        "print(len(toxic_identity_hate))\n",
        "print(\"severe_toxic:\")\n",
        "toxic_severe_toxic = wiki_toxic_comment_train[(wiki_toxic_comment_train[\"toxic\"] == 1) & (wiki_toxic_comment_train[\"severe_toxic\"]==1)]\n",
        "non_toxic_severe_toxic = wiki_toxic_comment_train[(wiki_toxic_comment_train[\"toxic\"] == 0) & (wiki_toxic_comment_train[\"severe_toxic\"]==1)]\n",
        "print(len(toxic_severe_toxic))\n",
        "print(\"insult:\")\n",
        "toxic_insult = wiki_toxic_comment_train[(wiki_toxic_comment_train[\"toxic\"] == 1) & (wiki_toxic_comment_train[\"insult\"]==1)]\n",
        "non_toxic_insult = wiki_toxic_comment_train[(wiki_toxic_comment_train[\"toxic\"] == 0) & (wiki_toxic_comment_train[\"insult\"]==1)]\n",
        "print(len(toxic_insult))\n",
        "print(\"threat:\")\n",
        "toxic_threat = wiki_toxic_comment_train[(wiki_toxic_comment_train[\"toxic\"] == 1) & (wiki_toxic_comment_train[\"threat\"]==1)]\n",
        "non_toxic_threat = wiki_toxic_comment_train[(wiki_toxic_comment_train[\"toxic\"] == 0) & (wiki_toxic_comment_train[\"threat\"]==1)]\n",
        "print(len(toxic_threat))\n",
        "print(\"obscene:\")\n",
        "toxic_obscene = wiki_toxic_comment_train[(wiki_toxic_comment_train[\"toxic\"] == 1) & (wiki_toxic_comment_train[\"obscene\"]==1)]\n",
        "non_toxic_obscene = wiki_toxic_comment_train[(wiki_toxic_comment_train[\"toxic\"] == 0) & (wiki_toxic_comment_train[\"obscene\"]==1)]\n",
        "print(len(toxic_obscene))\n",
        "                                  "
      ],
      "execution_count": 32,
      "outputs": [
        {
          "output_type": "stream",
          "text": [
            "Количество токсичных текстов по типам:\n",
            "identity_hate:\n",
            "1995\n",
            "severe_toxic:\n",
            "1962\n",
            "insult:\n",
            "10686\n",
            "threat:\n",
            "654\n",
            "obscene:\n",
            "11552\n"
          ],
          "name": "stdout"
        }
      ]
    },
    {
      "cell_type": "code",
      "metadata": {
        "id": "i_iFNHhwItSe",
        "colab_type": "code",
        "colab": {}
      },
      "source": [
        "import matplotlib.pyplot as plt\n",
        "\n",
        "def plot_toxic_ratio(data, title, labels):\n",
        "  toxic_num = [data[label].value_counts()[1] for label in labels]\n",
        "  non_toxic_num = [data[label].value_counts()[0] for label in labels]\n",
        "\n",
        "  width = 0.35 \n",
        "\n",
        "  fig, ax = plt.subplots()\n",
        "\n",
        "  ax.bar(labels, non_toxic_num, width, label='non_toxic_num')\n",
        "  ax.bar(labels, toxic_num , width,  bottom=non_toxic_num ,\n",
        "        label='toxic_by_type_num ')\n",
        "\n",
        "  ax.set_ylabel('Number of coments')\n",
        "  ax.set_title(title)\n",
        "  ax.legend()\n",
        "\n",
        "  plt.show()\n"
      ],
      "execution_count": 42,
      "outputs": []
    },
    {
      "cell_type": "code",
      "metadata": {
        "id": "k83lbJO7P_3Q",
        "colab_type": "code",
        "colab": {
          "base_uri": "https://localhost:8080/",
          "height": 282
        },
        "outputId": "2c317211-2835-4930-a627-4d292f69f58b"
      },
      "source": [
        "labels = ['severe_toxic', 'obscene', 'threat', 'insult', 'identity_hate']\n",
        "title = 'Number of coments by type'\n",
        "plot_toxic_ratio(wiki_toxic_comment_train, title, labels)"
      ],
      "execution_count": null,
      "outputs": [
        {
          "output_type": "display_data",
          "data": {
            "image/png": "[encoded data removed]",
            "text/plain": [
              "<Figure size 432x288 with 1 Axes>"
            ]
          },
          "metadata": {
            "tags": [],
            "needs_background": "light"
          }
        }
      ]
    },
    {
      "cell_type": "markdown",
      "metadata": {
        "id": "gvAHCqltKD5q",
        "colab_type": "text"
      },
      "source": [
        "Здесь мы видим очень сильный дисбаланс по типам токсичности.\n",
        "\n",
        "Посмотрим на процент токсичных текстов каждого типа в выборке"
      ]
    },
    {
      "cell_type": "code",
      "metadata": {
        "id": "M3lyesVTMdja",
        "colab_type": "code",
        "colab": {
          "base_uri": "https://localhost:8080/",
          "height": 204
        },
        "outputId": "b8f4e4d4-8500-4a76-aa77-9508cddb0953"
      },
      "source": [
        "toxic_ratio = [toxic_num[i]/(toxic_num[i]+non_toxic_num[i])*100 for i in range(len(toxic_num))]\n",
        "[print(\"Ratio of toxic comments in \", labels[i], \" = \", toxic_ratio[i], \"\\n\") for i in range(len(toxic_ratio))]"
      ],
      "execution_count": null,
      "outputs": [
        {
          "output_type": "stream",
          "text": [
            "Ratio of toxic comments in  severe_toxic  =  0.8776599313796976 \n",
            "\n",
            "Ratio of toxic comments in  obscene  =  5.430576741564489 \n",
            "\n",
            "Ratio of toxic comments in  threat  =  0.30820983319093354 \n",
            "\n",
            "Ratio of toxic comments in  insult  =  5.056609512903211 \n",
            "\n",
            "Ratio of toxic comments in  identity_hate  =  0.9469959606171354 \n",
            "\n"
          ],
          "name": "stdout"
        },
        {
          "output_type": "execute_result",
          "data": {
            "text/plain": [
              "[None, None, None, None, None]"
            ]
          },
          "metadata": {
            "tags": []
          },
          "execution_count": 147
        }
      ]
    },
    {
      "cell_type": "markdown",
      "metadata": {
        "id": "IKQxpV3cT1RV",
        "colab_type": "text"
      },
      "source": [
        "Можно заметить что процент отдельных типов даже выше, чем процент токсичных текстов без метки типа"
      ]
    },
    {
      "cell_type": "markdown",
      "metadata": {
        "id": "Gecctl26LdaW",
        "colab_type": "text"
      },
      "source": [
        "Посмотрим как распледелены тексты по длине в разных классах"
      ]
    },
    {
      "cell_type": "code",
      "metadata": {
        "id": "jE6Auy0tCbHK",
        "colab_type": "code",
        "colab": {}
      },
      "source": [
        "wiki_toxic_comment_train[\"len_text\"] = wiki_toxic_comment_train[\"comment_text\"].apply(lambda x: len(str(x)))"
      ],
      "execution_count": 50,
      "outputs": []
    },
    {
      "cell_type": "code",
      "metadata": {
        "id": "XyekIxMfQe4V",
        "colab_type": "code",
        "colab": {
          "base_uri": "https://localhost:8080/",
          "height": 170
        },
        "outputId": "ce35c5da-85bd-4fe7-9363-ce5d74355e89"
      },
      "source": [
        "wiki_toxic_comment_train[\"len_text\"].describe()"
      ],
      "execution_count": null,
      "outputs": [
        {
          "output_type": "execute_result",
          "data": {
            "text/plain": [
              "count    223549.000000\n",
              "mean        391.012709\n",
              "std         592.862955\n",
              "min           1.000000\n",
              "25%          93.000000\n",
              "50%         203.000000\n",
              "75%         431.000000\n",
              "max        5000.000000\n",
              "Name: len_text, dtype: float64"
            ]
          },
          "metadata": {
            "tags": []
          },
          "execution_count": 148
        }
      ]
    },
    {
      "cell_type": "code",
      "metadata": {
        "id": "fsSb0o0cD5eS",
        "colab_type": "code",
        "colab": {
          "base_uri": "https://localhost:8080/",
          "height": 281
        },
        "outputId": "aeb438db-bb21-4a34-ffc5-601a0dedb958"
      },
      "source": [
        "wiki_toxic_comment_train[\"len_text\"].plot.hist(title=\"Distribution of text len in char\")\n",
        "plt.show()"
      ],
      "execution_count": null,
      "outputs": [
        {
          "output_type": "display_data",
          "data": {
            "image/png": "[encoded data removed]",
            "text/plain": [
              "<Figure size 432x288 with 1 Axes>"
            ]
          },
          "metadata": {
            "tags": [],
            "needs_background": "light"
          }
        }
      ]
    },
    {
      "cell_type": "markdown",
      "metadata": {
        "id": "u2gPLK6pL2Zd",
        "colab_type": "text"
      },
      "source": [
        "уже видим, что по длине у нас много выбросов, но посмотрим относительно токсичных/нетоксичных текстов"
      ]
    },
    {
      "cell_type": "code",
      "metadata": {
        "id": "1yA-rOqxR55X",
        "colab_type": "code",
        "colab": {}
      },
      "source": [
        "\n",
        "def box_toxic_len(toxic_len, non_toxic_len):\n",
        "  # Create a figure instance\n",
        "  fig = plt.figure(1, figsize=(9, 6))\n",
        "\n",
        "  # Create an axes instance\n",
        "  ax = fig.add_subplot(111)\n",
        "\n",
        "  # Create the boxplot\n",
        "  bp = ax.boxplot([toxic_len, non_toxic_len])\n",
        "\n",
        "  # Save the figure\n",
        "  fig.savefig('fig1.png', bbox_inches='tight')\n",
        "\n",
        "  ## add patch_artist=True option to ax.boxplot() \n",
        "  ## to get fill color\n",
        "  bp = ax.boxplot([toxic_len, non_toxic_len], patch_artist=True)\n",
        "\n",
        "  ## change outline color, fill color and linewidth of the boxes\n",
        "  for box in bp['boxes']:\n",
        "      # change outline color\n",
        "      box.set( color='#7570b3', linewidth=2)\n",
        "      # change fill color\n",
        "      box.set( facecolor = '#1b9e77' )\n",
        "\n",
        "  ## change color and linewidth of the whiskers\n",
        "  for whisker in bp['whiskers']:\n",
        "      whisker.set(color='#7570b3', linewidth=2)\n",
        "\n",
        "  ## change color and linewidth of the caps\n",
        "  for cap in bp['caps']:\n",
        "      cap.set(color='#7570b3', linewidth=2)\n",
        "\n",
        "  ## change color and linewidth of the medians\n",
        "  for median in bp['medians']:\n",
        "      median.set(color='#b2df8a', linewidth=2)\n",
        "\n",
        "  ## change the style of fliers and their fill\n",
        "  for flier in bp['fliers']:\n",
        "      flier.set(marker='o', color='#e7298a', alpha=0.5)\n",
        "\n",
        "  ## Custom x-axis labels\n",
        "  ax.set_xticklabels([\"toxic_len\", \"non_toxic_len\"])"
      ],
      "execution_count": null,
      "outputs": []
    },
    {
      "cell_type": "code",
      "metadata": {
        "id": "LpzTsNqFq_mQ",
        "colab_type": "code",
        "colab": {
          "base_uri": "https://localhost:8080/",
          "height": 375
        },
        "outputId": "68e66aa0-b9dd-4563-8716-ba2c6f8940f5"
      },
      "source": [
        "toxic_len = wiki_toxic_comment_train[wiki_toxic_comment_train.toxic == 1][\"len_text\"]\n",
        "non_toxic_len = wiki_toxic_comment_train[wiki_toxic_comment_train.toxic == 0][\"len_text\"]\n",
        "box_toxic_len(toxic_len, non_toxic_len)"
      ],
      "execution_count": null,
      "outputs": [
        {
          "output_type": "display_data",
          "data": {
            "image/png": "[encoded data removed]",
            "text/plain": [
              "<Figure size 648x432 with 1 Axes>"
            ]
          },
          "metadata": {
            "tags": [],
            "needs_background": "light"
          }
        }
      ]
    },
    {
      "cell_type": "markdown",
      "metadata": {
        "id": "5SCoxI79MCDK",
        "colab_type": "text"
      },
      "source": [
        "Выбросов действительно много, в неточксичных текстах мы видим, что выбросы начинаются с большей длины а матожидание длины токсичных текстов значительно меньше чем у нетоксичных, возможно, это поможет при обучении"
      ]
    },
    {
      "cell_type": "markdown",
      "metadata": {
        "id": "f0isMyxrLzQr",
        "colab_type": "text"
      },
      "source": [
        ""
      ]
    },
    {
      "cell_type": "code",
      "metadata": {
        "id": "ScWn-5KFRLGl",
        "colab_type": "code",
        "colab": {
          "base_uri": "https://localhost:8080/",
          "height": 281
        },
        "outputId": "7a4753c0-bafd-4c95-8ea5-a55a42ac2986"
      },
      "source": [
        "wiki_toxic_comment_train[wiki_toxic_comment_train.toxic == 1][\"len_text\"].plot.hist(title=\"Distribution of TOXIC text len in char\")\n",
        "plt.show()"
      ],
      "execution_count": null,
      "outputs": [
        {
          "output_type": "display_data",
          "data": {
            "image/png": "[encoded data removed]",
            "text/plain": [
              "<Figure size 432x288 with 1 Axes>"
            ]
          },
          "metadata": {
            "tags": [],
            "needs_background": "light"
          }
        }
      ]
    },
    {
      "cell_type": "markdown",
      "metadata": {
        "id": "07YGrGSZMjox",
        "colab_type": "text"
      },
      "source": [
        "Посмотрим, что происходит в типах токсичности"
      ]
    },
    {
      "cell_type": "code",
      "metadata": {
        "id": "1Bt_QXdFWEKj",
        "colab_type": "code",
        "colab": {}
      },
      "source": [
        "# from matplotlib.patches import Polygon\n",
        "def box_plot(data, top, labels):\n",
        "\n",
        "\n",
        "\n",
        "\n",
        "\n",
        "  fig, ax1 = plt.subplots(figsize=(10, 6))\n",
        "  fig.canvas.set_window_title('A Boxplot Example')\n",
        "  fig.subplots_adjust(left=0.075, right=0.95, top=0.9, bottom=0.25)\n",
        "\n",
        "  bp = ax1.boxplot(data, notch=0, sym='+', vert=1, whis=1.5)\n",
        "  plt.setp(bp['boxes'], color='black')\n",
        "  plt.setp(bp['whiskers'], color='black')\n",
        "  plt.setp(bp['fliers'], color='red', marker='+')\n",
        "\n",
        "  # Add a horizontal grid to the plot, but make it very light in color\n",
        "  # so we can use it for reading data values but not be distracting\n",
        "  ax1.yaxis.grid(True, linestyle='-', which='major', color='lightgrey',\n",
        "                alpha=0.5)\n",
        "\n",
        "  # Hide these grid behind plot objects\n",
        "  ax1.set_axisbelow(True)\n",
        "  ax1.set_title('Length of Toxic and Non-toxic comments by group')\n",
        "  ax1.set_xlabel('Type of toxic comments')\n",
        "  ax1.set_ylabel('Length on char')\n",
        "\n",
        "  # Now fill the boxes with desired colors\n",
        "  box_colors = ['darkkhaki', 'royalblue']\n",
        "  num_boxes = len(data)\n",
        "  medians = np.empty(num_boxes)\n",
        "  for i in range(num_boxes):\n",
        "      box = bp['boxes'][i]\n",
        "      boxX = []\n",
        "      boxY = []\n",
        "      for j in range(5):\n",
        "          boxX.append(box.get_xdata()[j])\n",
        "          boxY.append(box.get_ydata()[j])\n",
        "      box_coords = np.column_stack([boxX, boxY])\n",
        "      # Alternate between Dark Khaki and Royal Blue\n",
        "      ax1.add_patch(Polygon(box_coords, facecolor=box_colors[i % 2]))\n",
        "      # Now draw the median lines back over what we just filled in\n",
        "      med = bp['medians'][i]\n",
        "      medianX = []\n",
        "      medianY = []\n",
        "      for j in range(2):\n",
        "          medianX.append(med.get_xdata()[j])\n",
        "          medianY.append(med.get_ydata()[j])\n",
        "          ax1.plot(medianX, medianY, 'k')\n",
        "      medians[i] = medianY[0]\n",
        "      # Finally, overplot the sample averages, with horizontal alignment\n",
        "      # in the center of each box\n",
        "      ax1.plot(np.average(med.get_xdata()), np.average(data[i]),\n",
        "              color='w', marker='*', markeredgecolor='k')\n",
        "\n",
        "  # Set the axes ranges and axes labels\n",
        "  ax1.set_xlim(0.5, num_boxes + 0.5)\n",
        "  top = top\n",
        "  bottom = -5\n",
        "  ax1.set_ylim(bottom, top)\n",
        "  ax1.set_xticklabels(np.repeat(labels, 2),\n",
        "                      rotation=45, fontsize=8)\n",
        "\n",
        "  # Due to the Y-axis scale being different across samples, it can be\n",
        "  # hard to compare differences in medians across the samples. Add upper\n",
        "  # X-axis tick labels with the sample medians to aid in comparison\n",
        "  # (just use two decimal places of precision)\n",
        "  pos = np.arange(num_boxes) + 1\n",
        "  upper_labels = [str(np.round(s, 2)) for s in medians]\n",
        "  weights = ['bold', 'semibold']\n",
        "  for tick, label in zip(range(num_boxes), ax1.get_xticklabels()):\n",
        "      k = tick % 2\n",
        "      ax1.text(pos[tick], .95, upper_labels[tick],\n",
        "              transform=ax1.get_xaxis_transform(),\n",
        "              horizontalalignment='center', size='x-small',\n",
        "              weight=weights[k], color=box_colors[k])\n",
        "\n",
        "  # Finally, add a basic legend\n",
        "  fig.text(0.80, 0.08, f' Non-toxic',\n",
        "          backgroundcolor=box_colors[0], color='black', weight='roman',\n",
        "          size='x-small')\n",
        "  fig.text(0.80, 0.045, ' Toxic',\n",
        "          backgroundcolor=box_colors[1],\n",
        "          color='white', weight='roman', size='x-small')\n",
        "  fig.text(0.80, 0.015, '*', color='white', backgroundcolor='silver',\n",
        "          weight='roman', size='medium')\n",
        "  fig.text(0.815, 0.013, ' Average Value', color='black', weight='roman',\n",
        "          size='x-small')\n",
        "\n",
        "  plt.show()"
      ],
      "execution_count": null,
      "outputs": []
    },
    {
      "cell_type": "code",
      "metadata": {
        "id": "vFyAWO6PaGyq",
        "colab_type": "code",
        "colab": {
          "base_uri": "https://localhost:8080/",
          "height": 431
        },
        "outputId": "8421ff8f-97f1-460d-c87d-39f4b36c0166"
      },
      "source": [
        "x = 5000\n",
        "labels = ['severe_toxic', 'obscene', 'threat', 'insult', 'identity_hate']\n",
        "data_X = wiki_toxic_comment_train\n",
        "data = [data_X[data_X.severe_toxic == 0][\"len_text\"],\n",
        "        data_X[data_X.severe_toxic == 1][\"len_text\"],\n",
        "        data_X[data_X.obscene == 0][\"len_text\"],\n",
        "        data_X[data_X.obscene == 1][\"len_text\"],\n",
        "        data_X[data_X.threat == 0][\"len_text\"],\n",
        "        data_X[data_X.threat == 1][\"len_text\"],\n",
        "        data_X[data_X.insult == 0][\"len_text\"],\n",
        "        data_X[data_X.insult == 1][\"len_text\"],\n",
        "        data_X[data_X.identity_hate == 0][\"len_text\"],\n",
        "        data_X[data_X.identity_hate == 1][\"len_text\"]\n",
        "]\n",
        "\n",
        "box_plot(data, x, labels)"
      ],
      "execution_count": null,
      "outputs": [
        {
          "output_type": "display_data",
          "data": {
            "image/png": "[encoded data removed]",
            "text/plain": [
              "<Figure size 720x432 with 1 Axes>"
            ]
          },
          "metadata": {
            "tags": [],
            "needs_background": "light"
          }
        }
      ]
    },
    {
      "cell_type": "markdown",
      "metadata": {
        "id": "8lluNu5hMy5N",
        "colab_type": "text"
      },
      "source": [
        "Здесь нас на самом деле не очень интересует распределение в нетоксичных комментариях, потому что это +- одни и те же тексты (все нетоксичные + небольшая часть других типов токсичности), но для наглядности пусть будут\n",
        "\n",
        "Нам интересно посмотреть на распределение токсичных типов, но из-за большого хвоста выбросов рассмотреть что-то сложно, уберем все, что больше 1000"
      ]
    },
    {
      "cell_type": "code",
      "metadata": {
        "id": "HMipHiAsTcs4",
        "colab_type": "code",
        "colab": {
          "base_uri": "https://localhost:8080/",
          "height": 431
        },
        "outputId": "20d6802c-b28d-4859-9abd-025e61051787"
      },
      "source": [
        "x = 1000\n",
        "labels = ['severe_toxic', 'obscene', 'threat', 'insult', 'identity_hate']\n",
        "data_X = wiki_toxic_comment_train[wiki_toxic_comment_train[\"len_text\"]<=x]\n",
        "data = [data_X[data_X.severe_toxic == 0][\"len_text\"],\n",
        "        data_X[data_X.severe_toxic == 1][\"len_text\"],\n",
        "        data_X[data_X.obscene == 0][\"len_text\"],\n",
        "        data_X[data_X.obscene == 1][\"len_text\"],\n",
        "        data_X[data_X.threat == 0][\"len_text\"],\n",
        "        data_X[data_X.threat == 1][\"len_text\"],\n",
        "        data_X[data_X.insult == 0][\"len_text\"],\n",
        "        data_X[data_X.insult == 1][\"len_text\"],\n",
        "        data_X[data_X.identity_hate == 0][\"len_text\"],\n",
        "        data_X[data_X.identity_hate == 1][\"len_text\"]\n",
        "]\n",
        "box_plot(data, x, labels)"
      ],
      "execution_count": null,
      "outputs": [
        {
          "output_type": "display_data",
          "data": {
            "image/png": "[encoded data removed]",
            "text/plain": [
              "<Figure size 720x432 with 1 Axes>"
            ]
          },
          "metadata": {
            "tags": [],
            "needs_background": "light"
          }
        }
      ]
    },
    {
      "cell_type": "markdown",
      "metadata": {
        "id": "gvGALzcyNUxT",
        "colab_type": "text"
      },
      "source": [
        "уже лучше, но мы не угадали и граница выбросов не 1000 а чуть меньше 800, отрежем еще чуть-чуть"
      ]
    },
    {
      "cell_type": "code",
      "metadata": {
        "id": "WrLaJgJMc77q",
        "colab_type": "code",
        "colab": {
          "base_uri": "https://localhost:8080/",
          "height": 431
        },
        "outputId": "60d309f1-7e06-498e-f503-432d8cd5fa7c"
      },
      "source": [
        "x = 800\n",
        "labels = ['severe_toxic', 'obscene', 'threat', 'insult', 'identity_hate']\n",
        "data_X = wiki_toxic_comment_train[wiki_toxic_comment_train[\"len_text\"]<=x]\n",
        "data = [data_X[data_X.severe_toxic == 0][\"len_text\"],\n",
        "        data_X[data_X.severe_toxic == 1][\"len_text\"],\n",
        "        data_X[data_X.obscene == 0][\"len_text\"],\n",
        "        data_X[data_X.obscene == 1][\"len_text\"],\n",
        "        data_X[data_X.threat == 0][\"len_text\"],\n",
        "        data_X[data_X.threat == 1][\"len_text\"],\n",
        "        data_X[data_X.insult == 0][\"len_text\"],\n",
        "        data_X[data_X.insult == 1][\"len_text\"],\n",
        "        data_X[data_X.identity_hate == 0][\"len_text\"],\n",
        "        data_X[data_X.identity_hate == 1][\"len_text\"]\n",
        "]\n",
        "box_plot(data, x,labels)"
      ],
      "execution_count": null,
      "outputs": [
        {
          "output_type": "display_data",
          "data": {
            "image/png": "[encoded data removed]",
            "text/plain": [
              "<Figure size 720x432 with 1 Axes>"
            ]
          },
          "metadata": {
            "tags": [],
            "needs_background": "light"
          }
        }
      ]
    },
    {
      "cell_type": "markdown",
      "metadata": {
        "id": "ZfdeOZNqNch_",
        "colab_type": "text"
      },
      "source": [
        "Теперь видно, что распределние по всем группам, кроме первой примерно одинаковое (матожидание, дисперсия и квантили похожи), в первом все показатели меньше, чем у остальных\n",
        "\n",
        "А также теперь намного надляднее сильная разница в матожидании, дисперсии (суть среднем размере) длин токсичных и нетоксичных текстов - почти в два раза!"
      ]
    },
    {
      "cell_type": "code",
      "metadata": {
        "id": "fSMYMdf0D-z_",
        "colab_type": "code",
        "colab": {
          "base_uri": "https://localhost:8080/",
          "height": 281
        },
        "outputId": "ee98a8a1-3526-403a-8ede-f85f34c55edb"
      },
      "source": [
        "wiki_toxic_comment_train[wiki_toxic_comment_train[\"len_text\"]<=1000][\"len_text\"].plot.hist(title=\"Distribution of text len in char\")\n",
        "plt.show()"
      ],
      "execution_count": null,
      "outputs": [
        {
          "output_type": "display_data",
          "data": {
            "image/png": "[encoded data removed]",
            "text/plain": [
              "<Figure size 432x288 with 1 Axes>"
            ]
          },
          "metadata": {
            "tags": [],
            "needs_background": "light"
          }
        }
      ]
    },
    {
      "cell_type": "markdown",
      "metadata": {
        "id": "iY8ezQu9jnCw",
        "colab_type": "text"
      },
      "source": [
        "## validation"
      ]
    },
    {
      "cell_type": "markdown",
      "metadata": {
        "id": "MmL0haA-N5ZV",
        "colab_type": "text"
      },
      "source": [
        "На валидации у нас уже 3 языка, а текстов всего 8000, также нет разбиения по типам токсичности. Посмотрим то же, что для трейна, только с учетом языков"
      ]
    },
    {
      "cell_type": "code",
      "metadata": {
        "id": "ivJCMIUsjywW",
        "colab_type": "code",
        "colab": {
          "base_uri": "https://localhost:8080/",
          "height": 450
        },
        "outputId": "790701e6-0eca-412f-fd89-626b1b633359"
      },
      "source": [
        "wiki_toxic_comment_valid"
      ],
      "execution_count": null,
      "outputs": [
        {
          "output_type": "execute_result",
          "data": {
            "text/html": [
              "<div>\n",
              "<style scoped>\n",
              "    .dataframe tbody tr th:only-of-type {\n",
              "        vertical-align: middle;\n",
              "    }\n",
              "\n",
              "    .dataframe tbody tr th {\n",
              "        vertical-align: top;\n",
              "    }\n",
              "\n",
              "    .dataframe thead th {\n",
              "        text-align: right;\n",
              "    }\n",
              "</style>\n",
              "<table border=\"1\" class=\"dataframe\">\n",
              "  <thead>\n",
              "    <tr style=\"text-align: right;\">\n",
              "      <th></th>\n",
              "      <th>comment_text</th>\n",
              "      <th>lang</th>\n",
              "      <th>toxic</th>\n",
              "    </tr>\n",
              "    <tr>\n",
              "      <th>id</th>\n",
              "      <th></th>\n",
              "      <th></th>\n",
              "      <th></th>\n",
              "    </tr>\n",
              "  </thead>\n",
              "  <tbody>\n",
              "    <tr>\n",
              "      <th>0</th>\n",
              "      <td>Este usuario ni siquiera llega al rango de    ...</td>\n",
              "      <td>es</td>\n",
              "      <td>0</td>\n",
              "    </tr>\n",
              "    <tr>\n",
              "      <th>1</th>\n",
              "      <td>Il testo di questa voce pare esser scopiazzato...</td>\n",
              "      <td>it</td>\n",
              "      <td>0</td>\n",
              "    </tr>\n",
              "    <tr>\n",
              "      <th>2</th>\n",
              "      <td>Vale. Sólo expongo mi pasado. Todo tiempo pasa...</td>\n",
              "      <td>es</td>\n",
              "      <td>1</td>\n",
              "    </tr>\n",
              "    <tr>\n",
              "      <th>3</th>\n",
              "      <td>Bu maddenin alt başlığı olarak  uluslararası i...</td>\n",
              "      <td>tr</td>\n",
              "      <td>0</td>\n",
              "    </tr>\n",
              "    <tr>\n",
              "      <th>4</th>\n",
              "      <td>Belçika nın şehirlerinin yanında ilçe ve belde...</td>\n",
              "      <td>tr</td>\n",
              "      <td>0</td>\n",
              "    </tr>\n",
              "    <tr>\n",
              "      <th>...</th>\n",
              "      <td>...</td>\n",
              "      <td>...</td>\n",
              "      <td>...</td>\n",
              "    </tr>\n",
              "    <tr>\n",
              "      <th>7995</th>\n",
              "      <td>Il fatto è che la pagina dei personaggi minor...</td>\n",
              "      <td>it</td>\n",
              "      <td>0</td>\n",
              "    </tr>\n",
              "    <tr>\n",
              "      <th>7996</th>\n",
              "      <td>El imbesil ete dela luna no se entera ni ostia...</td>\n",
              "      <td>es</td>\n",
              "      <td>1</td>\n",
              "    </tr>\n",
              "    <tr>\n",
              "      <th>7997</th>\n",
              "      <td>olum sız manyakmısınz siz adam sıze sanal yıld...</td>\n",
              "      <td>tr</td>\n",
              "      <td>1</td>\n",
              "    </tr>\n",
              "    <tr>\n",
              "      <th>7998</th>\n",
              "      <td>El mapa del reinado de Alhaken esta ligerament...</td>\n",
              "      <td>es</td>\n",
              "      <td>0</td>\n",
              "    </tr>\n",
              "    <tr>\n",
              "      <th>7999</th>\n",
              "      <td>lasciami la tua email per favore. ad ogni modo...</td>\n",
              "      <td>it</td>\n",
              "      <td>0</td>\n",
              "    </tr>\n",
              "  </tbody>\n",
              "</table>\n",
              "<p>8000 rows × 3 columns</p>\n",
              "</div>"
            ],
            "text/plain": [
              "                                           comment_text lang  toxic\n",
              "id                                                                 \n",
              "0     Este usuario ni siquiera llega al rango de    ...   es      0\n",
              "1     Il testo di questa voce pare esser scopiazzato...   it      0\n",
              "2     Vale. Sólo expongo mi pasado. Todo tiempo pasa...   es      1\n",
              "3     Bu maddenin alt başlığı olarak  uluslararası i...   tr      0\n",
              "4     Belçika nın şehirlerinin yanında ilçe ve belde...   tr      0\n",
              "...                                                 ...  ...    ...\n",
              "7995   Il fatto è che la pagina dei personaggi minor...   it      0\n",
              "7996  El imbesil ete dela luna no se entera ni ostia...   es      1\n",
              "7997  olum sız manyakmısınz siz adam sıze sanal yıld...   tr      1\n",
              "7998  El mapa del reinado de Alhaken esta ligerament...   es      0\n",
              "7999  lasciami la tua email per favore. ad ogni modo...   it      0\n",
              "\n",
              "[8000 rows x 3 columns]"
            ]
          },
          "metadata": {
            "tags": []
          },
          "execution_count": 115
        }
      ]
    },
    {
      "cell_type": "code",
      "metadata": {
        "id": "ksrL1qFFmvcL",
        "colab_type": "code",
        "colab": {
          "base_uri": "https://localhost:8080/",
          "height": 85
        },
        "outputId": "50c3d923-110b-4997-eb7d-2cb2673a6fa1"
      },
      "source": [
        "wiki_toxic_comment_valid[wiki_toxic_comment_valid.toxic == 0][\"lang\"].value_counts()"
      ],
      "execution_count": null,
      "outputs": [
        {
          "output_type": "execute_result",
          "data": {
            "text/plain": [
              "tr    2680\n",
              "es    2078\n",
              "it    2012\n",
              "Name: lang, dtype: int64"
            ]
          },
          "metadata": {
            "tags": []
          },
          "execution_count": 127
        }
      ]
    },
    {
      "cell_type": "code",
      "metadata": {
        "id": "hJKu0syWnNM7",
        "colab_type": "code",
        "colab": {}
      },
      "source": [
        "import matplotlib.pyplot as plt\n",
        "\n",
        "def plot_toxic_ratio(data, title, labels):\n",
        "  toxic_value = data[data.toxic == 1][\"lang\"].value_counts()\n",
        "  non_toxic_value =  data[data.toxic == 0][\"lang\"].value_counts()\n",
        "  toxic_num = [toxic_value[i] for i in range(len(labels))]\n",
        "  non_toxic_num = [non_toxic_value[i] for i in range(len(labels))]\n",
        "\n",
        "  width = 0.35 \n",
        "\n",
        "  fig, ax = plt.subplots()\n",
        "\n",
        "  ax.bar(labels, non_toxic_num, width, label='non_toxic_num')\n",
        "  ax.bar(labels, toxic_num , width,  bottom=non_toxic_num ,\n",
        "        label='toxic_num ')\n",
        "\n",
        "  ax.set_ylabel('Number of coments')\n",
        "  ax.set_title(title)\n",
        "  ax.legend()\n",
        "\n",
        "  plt.show()"
      ],
      "execution_count": 43,
      "outputs": []
    },
    {
      "cell_type": "code",
      "metadata": {
        "id": "2KxA2QsvjzUd",
        "colab_type": "code",
        "colab": {
          "base_uri": "https://localhost:8080/",
          "height": 281
        },
        "outputId": "c42964a8-1555-4b50-aac7-24996e1d59ee"
      },
      "source": [
        "labels = ['es', 'it', 'tr']\n",
        "title = 'Number of coments by language'\n",
        "plot_toxic_ratio(wiki_toxic_comment_valid, title, labels)"
      ],
      "execution_count": 44,
      "outputs": [
        {
          "output_type": "display_data",
          "data": {
            "image/png": "[encoded data removed]",
            "text/plain": [
              "<Figure size 432x288 with 1 Axes>"
            ]
          },
          "metadata": {
            "tags": [],
            "needs_background": "light"
          }
        }
      ]
    },
    {
      "cell_type": "code",
      "metadata": {
        "id": "Lt6bMA1FVWgz",
        "colab_type": "code",
        "colab": {
          "base_uri": "https://localhost:8080/",
          "height": 34
        },
        "outputId": "c4353381-5729-48dc-ad78-3ebbe793720a"
      },
      "source": [
        "toxic_value = wiki_toxic_comment_valid[wiki_toxic_comment_valid.toxic == 1]\n",
        "\n",
        "print(\"Percent of toxic texts in dataset =\" ,len(toxic_value)/len(wiki_toxic_comment_valid)*100)"
      ],
      "execution_count": 48,
      "outputs": [
        {
          "output_type": "stream",
          "text": [
            "Percent of toxic texts in dataset = 15.375\n"
          ],
          "name": "stdout"
        }
      ]
    },
    {
      "cell_type": "markdown",
      "metadata": {
        "id": "kTeFEzISOweG",
        "colab_type": "text"
      },
      "source": [
        "Мы видим, что распределние текстов по языкам примерно равное, однако в токсичности опять сильный дисбаланс, при чем соотношение на валидации отличается от соотношения на тексте (здесь процент токсичных текстов выше на 5 процентов)"
      ]
    },
    {
      "cell_type": "code",
      "metadata": {
        "id": "Yg5FrXgLjzeJ",
        "colab_type": "code",
        "colab": {}
      },
      "source": [
        "wiki_toxic_comment_valid[\"len_text\"] = wiki_toxic_comment_valid[\"comment_text\"].apply(lambda x: len(str(x)))"
      ],
      "execution_count": 49,
      "outputs": []
    },
    {
      "cell_type": "code",
      "metadata": {
        "id": "3a53EP1Gjz5G",
        "colab_type": "code",
        "colab": {
          "base_uri": "https://localhost:8080/",
          "height": 375
        },
        "outputId": "813fe77b-ddb0-49e9-a2ee-6960df74a91c"
      },
      "source": [
        "toxic_len = wiki_toxic_comment_valid[wiki_toxic_comment_valid.toxic == 1][\"len_text\"]\n",
        "non_toxic_len = wiki_toxic_comment_valid[wiki_toxic_comment_valid.toxic == 0][\"len_text\"]\n",
        "box_toxic_len(toxic_len, non_toxic_len)"
      ],
      "execution_count": null,
      "outputs": [
        {
          "output_type": "display_data",
          "data": {
            "image/png": "[encoded data removed]",
            "text/plain": [
              "<Figure size 648x432 with 1 Axes>"
            ]
          },
          "metadata": {
            "tags": [],
            "needs_background": "light"
          }
        }
      ]
    },
    {
      "cell_type": "markdown",
      "metadata": {
        "id": "L-vi-f9iPYNu",
        "colab_type": "text"
      },
      "source": [
        "Максимальная длина текста здесь 1785 против 5000 на трейне, а выбраcов уже поменьше, хотя мы видим, что они отсекаются примерно на той же границе, что и в трейне, возможно, стоит использовать при обучении только тексты длины меньше какого-то порога, отсекающего достаточное количество выбросов (около 1000 символов, но посмотрим на положение дел в каждом языке, чтобы случайно не отрезать лишнее)\n",
        "\n",
        "Стоит отметить, что и на валидации у нас тексты в среднем длиннее (мы видим, что матожидание длины токсичных текстов здесь около 250, в то время как на трейне он около 100), но в целом это неудивитлеьно и связано с тем, что у нас все же разные языки, плюс здесь есть турецкий, он агглютинативный и есть догадка, что это он вносит большую долю в увеличение среднего размера текстов"
      ]
    },
    {
      "cell_type": "code",
      "metadata": {
        "id": "rvoJ3LCVr9KI",
        "colab_type": "code",
        "colab": {
          "base_uri": "https://localhost:8080/",
          "height": 170
        },
        "outputId": "9b072813-7dc8-490d-fa42-5023ecd93d37"
      },
      "source": [
        "wiki_toxic_comment_valid[\"len_text\"].describe()"
      ],
      "execution_count": null,
      "outputs": [
        {
          "output_type": "execute_result",
          "data": {
            "text/plain": [
              "count    8000.000000\n",
              "mean      368.988000\n",
              "std       271.620356\n",
              "min        39.000000\n",
              "25%       175.000000\n",
              "50%       278.000000\n",
              "75%       469.000000\n",
              "max      1785.000000\n",
              "Name: len_text, dtype: float64"
            ]
          },
          "metadata": {
            "tags": []
          },
          "execution_count": 154
        }
      ]
    },
    {
      "cell_type": "code",
      "metadata": {
        "id": "i8FsKT08r436",
        "colab_type": "code",
        "colab": {
          "base_uri": "https://localhost:8080/",
          "height": 431
        },
        "outputId": "84353c9e-0393-436c-a846-71cfbd7da81a"
      },
      "source": [
        "x = wiki_toxic_comment_valid[\"len_text\"].max()\n",
        "labels = ['spanish', 'italian', 'turkish']\n",
        "# data_X = wiki_toxic_comment_train[wiki_toxic_comment_train[\"len_text\"]<=x]\n",
        "data_X = wiki_toxic_comment_valid\n",
        "data_X_toxic = data_X[data_X.toxic == 1]\n",
        "data_X_non_toxic = data_X[data_X.toxic == 0]\n",
        "data = [data_X_non_toxic[data_X_non_toxic.lang == \"es\"][\"len_text\"],\n",
        "        data_X_toxic[data_X_toxic.lang == \"es\"][\"len_text\"],\n",
        "        data_X_non_toxic[data_X_non_toxic.lang == \"it\"][\"len_text\"],\n",
        "        data_X_toxic[data_X_toxic.lang == \"it\"][\"len_text\"],\n",
        "        data_X_non_toxic[data_X_non_toxic.lang == \"tr\"][\"len_text\"],\n",
        "        data_X_toxic[data_X_toxic.lang == \"tr\"][\"len_text\"]\n",
        "]\n",
        "box_plot(data, x, labels)\n"
      ],
      "execution_count": null,
      "outputs": [
        {
          "output_type": "display_data",
          "data": {
            "image/png": "[encoded data removed]",
            "text/plain": [
              "<Figure size 720x432 with 1 Axes>"
            ]
          },
          "metadata": {
            "tags": [],
            "needs_background": "light"
          }
        }
      ]
    },
    {
      "cell_type": "markdown",
      "metadata": {
        "id": "jR7ps1r0Pv1y",
        "colab_type": "text"
      },
      "source": [
        "Здесь нас уже интересуют и токсичные и нетоксичные тексты (теперь это разные тексты)\n",
        "\n",
        "1) Длина испанских и итальянских текстов в среднем и в максимальных значениях меньше, чем у турецких текстов, что неудивительно, учитывая, что турецкий аглютинативный (а значит там за счет богатой морфологии увеличивается длина слов, а длину текстов мы измеряем в символах), а испанский и итальянский - синтетические (там морфология также развита, но слабее, в связи с чем и длина слов меньше)\n",
        "\n",
        "2) Визуально процентов выбросов для всех языков примерно одинаков, это дает надежду, что все же несмотря на то, что у нас только английские тексты для обучения, мы все же сможем добиться каких-то результатов за счет существования каких-то кросс-лингвальных признаков\n",
        "\n",
        "3) идея о том, что виноват турецкий не подтвердилась, виноваты все, хочется стать на мгновение расистом и предположить, что испанцы и итальянцы в целом просто больше любят поболтать)"
      ]
    },
    {
      "cell_type": "code",
      "metadata": {
        "id": "SV1zrVbur5A9",
        "colab_type": "code",
        "colab": {}
      },
      "source": [
        ""
      ],
      "execution_count": null,
      "outputs": []
    },
    {
      "cell_type": "code",
      "metadata": {
        "id": "_nDJphnTr5KN",
        "colab_type": "code",
        "colab": {}
      },
      "source": [
        ""
      ],
      "execution_count": null,
      "outputs": []
    },
    {
      "cell_type": "markdown",
      "metadata": {
        "id": "f0MTkG4-fD6o",
        "colab_type": "text"
      },
      "source": [
        "## test"
      ]
    },
    {
      "cell_type": "code",
      "metadata": {
        "id": "xNoZJmg9e6q3",
        "colab_type": "code",
        "colab": {
          "base_uri": "https://localhost:8080/",
          "height": 235
        },
        "outputId": "6abfd42e-faa2-4488-8e9f-6b16a376c9ff"
      },
      "source": [
        "wiki_toxic_comment_test.head()"
      ],
      "execution_count": null,
      "outputs": [
        {
          "output_type": "execute_result",
          "data": {
            "text/html": [
              "<div>\n",
              "<style scoped>\n",
              "    .dataframe tbody tr th:only-of-type {\n",
              "        vertical-align: middle;\n",
              "    }\n",
              "\n",
              "    .dataframe tbody tr th {\n",
              "        vertical-align: top;\n",
              "    }\n",
              "\n",
              "    .dataframe thead th {\n",
              "        text-align: right;\n",
              "    }\n",
              "</style>\n",
              "<table border=\"1\" class=\"dataframe\">\n",
              "  <thead>\n",
              "    <tr style=\"text-align: right;\">\n",
              "      <th></th>\n",
              "      <th>content</th>\n",
              "      <th>lang</th>\n",
              "    </tr>\n",
              "    <tr>\n",
              "      <th>id</th>\n",
              "      <th></th>\n",
              "      <th></th>\n",
              "    </tr>\n",
              "  </thead>\n",
              "  <tbody>\n",
              "    <tr>\n",
              "      <th>0</th>\n",
              "      <td>Doctor Who adlı viki başlığına 12. doctor olar...</td>\n",
              "      <td>tr</td>\n",
              "    </tr>\n",
              "    <tr>\n",
              "      <th>1</th>\n",
              "      <td>Вполне возможно, но я пока не вижу необходимо...</td>\n",
              "      <td>ru</td>\n",
              "    </tr>\n",
              "    <tr>\n",
              "      <th>2</th>\n",
              "      <td>Quindi tu sei uno di quelli   conservativi  , ...</td>\n",
              "      <td>it</td>\n",
              "    </tr>\n",
              "    <tr>\n",
              "      <th>3</th>\n",
              "      <td>Malesef gerçekleştirilmedi ancak şöyle bir şey...</td>\n",
              "      <td>tr</td>\n",
              "    </tr>\n",
              "    <tr>\n",
              "      <th>4</th>\n",
              "      <td>:Resim:Seldabagcan.jpg resminde kaynak sorunu ...</td>\n",
              "      <td>tr</td>\n",
              "    </tr>\n",
              "  </tbody>\n",
              "</table>\n",
              "</div>"
            ],
            "text/plain": [
              "                                              content lang\n",
              "id                                                        \n",
              "0   Doctor Who adlı viki başlığına 12. doctor olar...   tr\n",
              "1    Вполне возможно, но я пока не вижу необходимо...   ru\n",
              "2   Quindi tu sei uno di quelli   conservativi  , ...   it\n",
              "3   Malesef gerçekleştirilmedi ancak şöyle bir şey...   tr\n",
              "4   :Resim:Seldabagcan.jpg resminde kaynak sorunu ...   tr"
            ]
          },
          "metadata": {
            "tags": []
          },
          "execution_count": 174
        }
      ]
    },
    {
      "cell_type": "code",
      "metadata": {
        "id": "s6iAxK19xwtC",
        "colab_type": "code",
        "colab": {
          "base_uri": "https://localhost:8080/",
          "height": 102
        },
        "outputId": "7be9c801-5d4f-4877-a9e0-b5c7958b3d80"
      },
      "source": [
        "wiki_toxic_comment_test.lang.describe()"
      ],
      "execution_count": null,
      "outputs": [
        {
          "output_type": "execute_result",
          "data": {
            "text/plain": [
              "count     63812\n",
              "unique        6\n",
              "top          tr\n",
              "freq      14000\n",
              "Name: lang, dtype: object"
            ]
          },
          "metadata": {
            "tags": []
          },
          "execution_count": 176
        }
      ]
    },
    {
      "cell_type": "markdown",
      "metadata": {
        "id": "m-W8Tg3vSEan",
        "colab_type": "text"
      },
      "source": [
        "В тестовой выборке особенно не на что смотерть, так как здесь только тексты и их языки, которых теперь уже 6, а не 3 как в валидации. Ну посмотрим на распределение текстов по языкам"
      ]
    },
    {
      "cell_type": "code",
      "metadata": {
        "id": "DRvFasNBfXpX",
        "colab_type": "code",
        "colab": {
          "base_uri": "https://localhost:8080/",
          "height": 281
        },
        "outputId": "7d6af9be-2632-4d68-807e-d6015adc5260"
      },
      "source": [
        "wiki_toxic_comment_test[['lang', 'content']].groupby(\"lang\").count().plot.bar()\n",
        "plt.show()"
      ],
      "execution_count": null,
      "outputs": [
        {
          "output_type": "display_data",
          "data": {
            "image/png": "[encoded data removed]",
            "text/plain": [
              "<Figure size 432x288 with 1 Axes>"
            ]
          },
          "metadata": {
            "tags": [],
            "needs_background": "light"
          }
        }
      ]
    },
    {
      "cell_type": "markdown",
      "metadata": {
        "id": "MmDPOUrjTaMP",
        "colab_type": "text"
      },
      "source": [
        "Здесь дисбаланс по классам более выражен, однако надежду все же вселяет то, что большинство текстов на романских языках (испанский, французский, итальянский, португальский), они достаточно близки к английскому, плюс в английском как и в романских много заимствований из латыни, надеюсь, это как-то поможет."
      ]
    },
    {
      "cell_type": "markdown",
      "metadata": {
        "id": "jYI6LhrNfFZz",
        "colab_type": "text"
      },
      "source": [
        "valid"
      ]
    },
    {
      "cell_type": "markdown",
      "metadata": {
        "id": "hO8zldgP3-u_",
        "colab_type": "text"
      },
      "source": [
        "# Baseline Model"
      ]
    },
    {
      "cell_type": "markdown",
      "metadata": {
        "id": "NJOcfyCoUhjU",
        "colab_type": "text"
      },
      "source": [
        "**Задание**\n",
        "\n",
        "Бейзлайн модель, которая работает на отложенной выборке (train_test_split) и validation.csv (различие в точности может быть большим, но главное попробовать любыми способами его уменьшить и зафиксировать эксперименты) - 3 балла"
      ]
    },
    {
      "cell_type": "markdown",
      "metadata": {
        "id": "1sXeyE2nXuxR",
        "colab_type": "text"
      },
      "source": [
        "Бейзлайн модель будем обучать на всех имеющихся данных"
      ]
    },
    {
      "cell_type": "code",
      "metadata": {
        "id": "mZ4ZUnN14Fvy",
        "colab_type": "code",
        "colab": {}
      },
      "source": [
        "from sklearn.feature_extraction.text import TfidfVectorizer\n",
        "from sklearn.linear_model import LogisticRegression\n",
        "from sklearn.metrics import *\n",
        "from sklearn.model_selection import GridSearchCV\n",
        "def baseline_model(clf_type, type_of_test, type_of_train, wiki_toxic_comment_train, wiki_toxic_comment_valid):\n",
        "  if type_of_train == \"balanced\":\n",
        "    k = len(wiki_toxic_comment_train[wiki_toxic_comment_train['toxic']==1])\n",
        "    print(\"Train data is balanced\")\n",
        "    k_pos_example = wiki_toxic_comment_train[wiki_toxic_comment_train['toxic']==1].sample(k)\n",
        "    k_neg_example = wiki_toxic_comment_train[wiki_toxic_comment_train['toxic']!=1].sample(k)\n",
        "    subset = pd.concat([k_pos_example, k_neg_example])\n",
        "    # subset = balanced_subsample(wiki_toxic_comment_train)\n",
        "  else:\n",
        "    print(\"Train data is NOT balanced\")\n",
        "    subset = wiki_toxic_comment_train.sample(n=100000)\n",
        "  subset_X = subset.comment_text\n",
        "  subset_y = subset.toxic\n",
        "  if type_of_test == \"train\":\n",
        "    print(\"Test is a part of train\")\n",
        "    vectorizer = TfidfVectorizer()\n",
        "    comment_text_vect = vectorizer.fit_transform(subset_X) \n",
        "    X_sub_train, X_sub_test, y_sub_train, y_sub_test = train_test_split(comment_text_vect, subset_y, test_size=0.33, random_state=8)\n",
        "  else:\n",
        "    print(\"Test is validation\")\n",
        "    vectorizer = TfidfVectorizer()\n",
        "    X_sub_train =  vectorizer.fit_transform(subset_X) \n",
        "    y_sub_train = subset_y\n",
        "    X_sub_test = vectorizer.transform(wiki_toxic_comment_valid.comment_text) \n",
        "    y_sub_test = wiki_toxic_comment_valid[\"toxic\"]\n",
        "\n",
        "  if clf_type == \"LogReg\":\n",
        "    grid={'C': [0.001, 0.01, 0.1, 1, 10, 100, 1000], \"solver\":[\"lbfgs\", \"sag\"]}\n",
        "    logreg=LogisticRegression(max_iter=500)\n",
        "    logreg_cv=GridSearchCV(logreg,grid,cv=10)\n",
        "    logreg_cv.fit(X_sub_train, y_sub_train)\n",
        "    model = LogisticRegression(**logreg_cv.best_params_, max_iter=500)\n",
        "    print(\"tuned hyperparameters :(best parameters) \",logreg_cv.best_params_)\n",
        "    print(\"accuracy :\",logreg_cv.best_score_)\n",
        "  else:\n",
        "    model = clf_type\n",
        "  \n",
        "  cv_train_model(X_sub_train, y_sub_train.to_numpy(), X_sub_test, y_sub_test, folds=folds, plot_feature_importance=False, model=model)\n",
        "\n",
        "  # acc = accuracy_score(predicted, y_sub_test)\n",
        "  # micro_f1 = f1_score(predicted, y_sub_test, average = 'micro')\n",
        "  # micro_p = precision_score(predicted, y_sub_test, average = 'micro')\n",
        "  # micro_r = recall_score(predicted, y_sub_test, average = 'micro')\n",
        "  # macro_f1 = f1_score(predicted, y_sub_test, average = 'macro')\n",
        "  # macro_p = precision_score(predicted, y_sub_test, average = 'macro')\n",
        "  # macro_r = recall_score(predicted, y_sub_test, average = 'macro')\n",
        "  # print('acc={0:1.4f}'.format(acc))\n",
        "  # print('micro F1={0:1.4f}, micro P={1:1.4f}, micro R={2:1.4f}'.format(micro_f1, micro_p, micro_r))\n",
        "  # print('macro F1={0:1.4f}, macro P={1:1.4f}, macro R={2:1.4f}\\n'.format(macro_f1, macro_p, macro_r))\n",
        "  # print('roc_auc_score ={0:1.4f}\\n'.format(roc_auc_score(predicted, y_sub_test)))"
      ],
      "execution_count": 10,
      "outputs": []
    },
    {
      "cell_type": "code",
      "metadata": {
        "id": "mKwiujk74GCN",
        "colab_type": "code",
        "colab": {}
      },
      "source": [
        "n_fold = 10\n",
        "folds = KFold(n_splits=n_fold, shuffle=True, random_state=0)\n",
        "\n"
      ],
      "execution_count": 11,
      "outputs": []
    },
    {
      "cell_type": "code",
      "metadata": {
        "id": "XbRRwGtF3Ye4",
        "colab_type": "code",
        "colab": {}
      },
      "source": [
        "def cv_train_model(X, y, X_test, y_test, folds=folds, plot_feature_importance=False, model=None):\n",
        "    oof = np.zeros(X.shape[0])\n",
        "    prediction = np.zeros(X_test.shape[0])\n",
        "    \n",
        "    valid_scores = []\n",
        "    feature_importance = pd.DataFrame()\n",
        "    for fold_n, (train_index, valid_index) in enumerate(folds.split(X, y)):\n",
        "        X_train, X_valid = X[train_index], X[valid_index]\n",
        "        y_train, y_valid = y[train_index], y[valid_index]\n",
        "        \n",
        "          \n",
        "\n",
        "        model.fit(X_train, y_train)      \n",
        "        y_pred_test = model.predict_proba(X_test)[:, 1]\n",
        "        y_pred_valid = model.predict_proba(X_valid)[:, 1]\n",
        "        valid_score = roc_auc_score(y_valid, y_pred_valid)\n",
        "        \n",
        "        oof[valid_index] = y_pred_valid.reshape(-1,)\n",
        "        valid_scores.append(valid_score)\n",
        "        prediction += y_pred_test  \n",
        "        \n",
        "    prediction /= (fold_n + 1)\n",
        "    test_score = roc_auc_score(y_test, prediction)\n",
        "    print('Cross Validation mean roc_auc_score: {0:.4f}, std: {1:.4f}.'.format(np.mean(valid_scores), np.std(valid_scores)))\n",
        "    print(\"roc_auc_score on test data: {0:.4f}\".format(test_score))\n",
        "    \n",
        "\n",
        "    return oof, prediction, valid_scores\n"
      ],
      "execution_count": 12,
      "outputs": []
    },
    {
      "cell_type": "code",
      "metadata": {
        "id": "K6RQ_IgQczyB",
        "colab_type": "code",
        "colab": {
          "base_uri": "https://localhost:8080/",
          "height": 1000
        },
        "outputId": "9de90c7e-dd4f-4be1-bb37-8b5c70e777f3"
      },
      "source": [
        "# clf_type = LogisticRegression(solver=\"lbfgs\", max_iter=500)\n",
        "# cls_types = [\"LogReg\", \"SVD\"]\n",
        "clf_type = \"LogReg\"\n",
        "baseline_model(clf_type, 'train', 'unbalanced', wiki_toxic_comment_train, wiki_toxic_comment_valid)\n",
        "print(\"=======================Next type======================\")\n",
        "baseline_model(clf_type, 'val', 'unbalanced', wiki_toxic_comment_train, wiki_toxic_comment_valid)\n",
        "print(\"=======================Next type======================\")\n",
        "baseline_model(clf_type, 'train', 'balanced', wiki_toxic_comment_train, wiki_toxic_comment_valid)\n",
        "print(\"=======================Next type======================\")\n",
        "baseline_model(clf_type, 'val', 'balanced', wiki_toxic_comment_train, wiki_toxic_comment_valid)\n",
        "print(\"=======================Next type======================\")"
      ],
      "execution_count": null,
      "outputs": [
        {
          "output_type": "stream",
          "text": [
            "Train data is NOT balanced\n",
            "Test is a part of train\n"
          ],
          "name": "stdout"
        },
        {
          "output_type": "stream",
          "text": [
            "/usr/local/lib/python3.6/dist-packages/sklearn/linear_model/_logistic.py:940: ConvergenceWarning: lbfgs failed to converge (status=1):\n",
            "STOP: TOTAL NO. of ITERATIONS REACHED LIMIT.\n",
            "\n",
            "Increase the number of iterations (max_iter) or scale the data as shown in:\n",
            "    https://scikit-learn.org/stable/modules/preprocessing.html\n",
            "Please also refer to the documentation for alternative solver options:\n",
            "    https://scikit-learn.org/stable/modules/linear_model.html#logistic-regression\n",
            "  extra_warning_msg=_LOGISTIC_SOLVER_CONVERGENCE_MSG)\n",
            "/usr/local/lib/python3.6/dist-packages/sklearn/linear_model/_logistic.py:940: ConvergenceWarning: lbfgs failed to converge (status=1):\n",
            "STOP: TOTAL NO. of ITERATIONS REACHED LIMIT.\n",
            "\n",
            "Increase the number of iterations (max_iter) or scale the data as shown in:\n",
            "    https://scikit-learn.org/stable/modules/preprocessing.html\n",
            "Please also refer to the documentation for alternative solver options:\n",
            "    https://scikit-learn.org/stable/modules/linear_model.html#logistic-regression\n",
            "  extra_warning_msg=_LOGISTIC_SOLVER_CONVERGENCE_MSG)\n",
            "/usr/local/lib/python3.6/dist-packages/sklearn/linear_model/_logistic.py:940: ConvergenceWarning: lbfgs failed to converge (status=1):\n",
            "STOP: TOTAL NO. of ITERATIONS REACHED LIMIT.\n",
            "\n",
            "Increase the number of iterations (max_iter) or scale the data as shown in:\n",
            "    https://scikit-learn.org/stable/modules/preprocessing.html\n",
            "Please also refer to the documentation for alternative solver options:\n",
            "    https://scikit-learn.org/stable/modules/linear_model.html#logistic-regression\n",
            "  extra_warning_msg=_LOGISTIC_SOLVER_CONVERGENCE_MSG)\n",
            "/usr/local/lib/python3.6/dist-packages/sklearn/linear_model/_logistic.py:940: ConvergenceWarning: lbfgs failed to converge (status=1):\n",
            "STOP: TOTAL NO. of ITERATIONS REACHED LIMIT.\n",
            "\n",
            "Increase the number of iterations (max_iter) or scale the data as shown in:\n",
            "    https://scikit-learn.org/stable/modules/preprocessing.html\n",
            "Please also refer to the documentation for alternative solver options:\n",
            "    https://scikit-learn.org/stable/modules/linear_model.html#logistic-regression\n",
            "  extra_warning_msg=_LOGISTIC_SOLVER_CONVERGENCE_MSG)\n",
            "/usr/local/lib/python3.6/dist-packages/sklearn/linear_model/_logistic.py:940: ConvergenceWarning: lbfgs failed to converge (status=1):\n",
            "STOP: TOTAL NO. of ITERATIONS REACHED LIMIT.\n",
            "\n",
            "Increase the number of iterations (max_iter) or scale the data as shown in:\n",
            "    https://scikit-learn.org/stable/modules/preprocessing.html\n",
            "Please also refer to the documentation for alternative solver options:\n",
            "    https://scikit-learn.org/stable/modules/linear_model.html#logistic-regression\n",
            "  extra_warning_msg=_LOGISTIC_SOLVER_CONVERGENCE_MSG)\n",
            "/usr/local/lib/python3.6/dist-packages/sklearn/linear_model/_logistic.py:940: ConvergenceWarning: lbfgs failed to converge (status=1):\n",
            "STOP: TOTAL NO. of ITERATIONS REACHED LIMIT.\n",
            "\n",
            "Increase the number of iterations (max_iter) or scale the data as shown in:\n",
            "    https://scikit-learn.org/stable/modules/preprocessing.html\n",
            "Please also refer to the documentation for alternative solver options:\n",
            "    https://scikit-learn.org/stable/modules/linear_model.html#logistic-regression\n",
            "  extra_warning_msg=_LOGISTIC_SOLVER_CONVERGENCE_MSG)\n",
            "/usr/local/lib/python3.6/dist-packages/sklearn/linear_model/_logistic.py:940: ConvergenceWarning: lbfgs failed to converge (status=1):\n",
            "STOP: TOTAL NO. of ITERATIONS REACHED LIMIT.\n",
            "\n",
            "Increase the number of iterations (max_iter) or scale the data as shown in:\n",
            "    https://scikit-learn.org/stable/modules/preprocessing.html\n",
            "Please also refer to the documentation for alternative solver options:\n",
            "    https://scikit-learn.org/stable/modules/linear_model.html#logistic-regression\n",
            "  extra_warning_msg=_LOGISTIC_SOLVER_CONVERGENCE_MSG)\n",
            "/usr/local/lib/python3.6/dist-packages/sklearn/linear_model/_logistic.py:940: ConvergenceWarning: lbfgs failed to converge (status=1):\n",
            "STOP: TOTAL NO. of ITERATIONS REACHED LIMIT.\n",
            "\n",
            "Increase the number of iterations (max_iter) or scale the data as shown in:\n",
            "    https://scikit-learn.org/stable/modules/preprocessing.html\n",
            "Please also refer to the documentation for alternative solver options:\n",
            "    https://scikit-learn.org/stable/modules/linear_model.html#logistic-regression\n",
            "  extra_warning_msg=_LOGISTIC_SOLVER_CONVERGENCE_MSG)\n",
            "/usr/local/lib/python3.6/dist-packages/sklearn/linear_model/_logistic.py:940: ConvergenceWarning: lbfgs failed to converge (status=1):\n",
            "STOP: TOTAL NO. of ITERATIONS REACHED LIMIT.\n",
            "\n",
            "Increase the number of iterations (max_iter) or scale the data as shown in:\n",
            "    https://scikit-learn.org/stable/modules/preprocessing.html\n",
            "Please also refer to the documentation for alternative solver options:\n",
            "    https://scikit-learn.org/stable/modules/linear_model.html#logistic-regression\n",
            "  extra_warning_msg=_LOGISTIC_SOLVER_CONVERGENCE_MSG)\n",
            "/usr/local/lib/python3.6/dist-packages/sklearn/linear_model/_logistic.py:940: ConvergenceWarning: lbfgs failed to converge (status=1):\n",
            "STOP: TOTAL NO. of ITERATIONS REACHED LIMIT.\n",
            "\n",
            "Increase the number of iterations (max_iter) or scale the data as shown in:\n",
            "    https://scikit-learn.org/stable/modules/preprocessing.html\n",
            "Please also refer to the documentation for alternative solver options:\n",
            "    https://scikit-learn.org/stable/modules/linear_model.html#logistic-regression\n",
            "  extra_warning_msg=_LOGISTIC_SOLVER_CONVERGENCE_MSG)\n",
            "/usr/local/lib/python3.6/dist-packages/sklearn/linear_model/_sag.py:330: ConvergenceWarning: The max_iter was reached which means the coef_ did not converge\n",
            "  \"the coef_ did not converge\", ConvergenceWarning)\n",
            "/usr/local/lib/python3.6/dist-packages/sklearn/linear_model/_sag.py:330: ConvergenceWarning: The max_iter was reached which means the coef_ did not converge\n",
            "  \"the coef_ did not converge\", ConvergenceWarning)\n",
            "/usr/local/lib/python3.6/dist-packages/sklearn/linear_model/_sag.py:330: ConvergenceWarning: The max_iter was reached which means the coef_ did not converge\n",
            "  \"the coef_ did not converge\", ConvergenceWarning)\n",
            "/usr/local/lib/python3.6/dist-packages/sklearn/linear_model/_sag.py:330: ConvergenceWarning: The max_iter was reached which means the coef_ did not converge\n",
            "  \"the coef_ did not converge\", ConvergenceWarning)\n",
            "/usr/local/lib/python3.6/dist-packages/sklearn/linear_model/_sag.py:330: ConvergenceWarning: The max_iter was reached which means the coef_ did not converge\n",
            "  \"the coef_ did not converge\", ConvergenceWarning)\n",
            "/usr/local/lib/python3.6/dist-packages/sklearn/linear_model/_sag.py:330: ConvergenceWarning: The max_iter was reached which means the coef_ did not converge\n",
            "  \"the coef_ did not converge\", ConvergenceWarning)\n",
            "/usr/local/lib/python3.6/dist-packages/sklearn/linear_model/_sag.py:330: ConvergenceWarning: The max_iter was reached which means the coef_ did not converge\n",
            "  \"the coef_ did not converge\", ConvergenceWarning)\n",
            "/usr/local/lib/python3.6/dist-packages/sklearn/linear_model/_sag.py:330: ConvergenceWarning: The max_iter was reached which means the coef_ did not converge\n",
            "  \"the coef_ did not converge\", ConvergenceWarning)\n",
            "/usr/local/lib/python3.6/dist-packages/sklearn/linear_model/_sag.py:330: ConvergenceWarning: The max_iter was reached which means the coef_ did not converge\n",
            "  \"the coef_ did not converge\", ConvergenceWarning)\n",
            "/usr/local/lib/python3.6/dist-packages/sklearn/linear_model/_sag.py:330: ConvergenceWarning: The max_iter was reached which means the coef_ did not converge\n",
            "  \"the coef_ did not converge\", ConvergenceWarning)\n"
          ],
          "name": "stderr"
        },
        {
          "output_type": "stream",
          "text": [
            "tuned hyperparameters :(best parameters)  {'C': 10, 'solver': 'lbfgs'}\n",
            "accuracy : 0.9507611940298508\n",
            "Cross Validation mean roc_auc_score: 0.9598, std: 0.0028.\n",
            "roc_auc_score on test data: 0.9637\n",
            "=======================Next type======================\n",
            "Train data is NOT balanced\n",
            "Test is validation\n"
          ],
          "name": "stdout"
        },
        {
          "output_type": "stream",
          "text": [
            "/usr/local/lib/python3.6/dist-packages/sklearn/linear_model/_logistic.py:940: ConvergenceWarning: lbfgs failed to converge (status=1):\n",
            "STOP: TOTAL NO. of ITERATIONS REACHED LIMIT.\n",
            "\n",
            "Increase the number of iterations (max_iter) or scale the data as shown in:\n",
            "    https://scikit-learn.org/stable/modules/preprocessing.html\n",
            "Please also refer to the documentation for alternative solver options:\n",
            "    https://scikit-learn.org/stable/modules/linear_model.html#logistic-regression\n",
            "  extra_warning_msg=_LOGISTIC_SOLVER_CONVERGENCE_MSG)\n",
            "/usr/local/lib/python3.6/dist-packages/sklearn/linear_model/_logistic.py:940: ConvergenceWarning: lbfgs failed to converge (status=1):\n",
            "STOP: TOTAL NO. of ITERATIONS REACHED LIMIT.\n",
            "\n",
            "Increase the number of iterations (max_iter) or scale the data as shown in:\n",
            "    https://scikit-learn.org/stable/modules/preprocessing.html\n",
            "Please also refer to the documentation for alternative solver options:\n",
            "    https://scikit-learn.org/stable/modules/linear_model.html#logistic-regression\n",
            "  extra_warning_msg=_LOGISTIC_SOLVER_CONVERGENCE_MSG)\n",
            "/usr/local/lib/python3.6/dist-packages/sklearn/linear_model/_logistic.py:940: ConvergenceWarning: lbfgs failed to converge (status=1):\n",
            "STOP: TOTAL NO. of ITERATIONS REACHED LIMIT.\n",
            "\n",
            "Increase the number of iterations (max_iter) or scale the data as shown in:\n",
            "    https://scikit-learn.org/stable/modules/preprocessing.html\n",
            "Please also refer to the documentation for alternative solver options:\n",
            "    https://scikit-learn.org/stable/modules/linear_model.html#logistic-regression\n",
            "  extra_warning_msg=_LOGISTIC_SOLVER_CONVERGENCE_MSG)\n",
            "/usr/local/lib/python3.6/dist-packages/sklearn/linear_model/_logistic.py:940: ConvergenceWarning: lbfgs failed to converge (status=1):\n",
            "STOP: TOTAL NO. of ITERATIONS REACHED LIMIT.\n",
            "\n",
            "Increase the number of iterations (max_iter) or scale the data as shown in:\n",
            "    https://scikit-learn.org/stable/modules/preprocessing.html\n",
            "Please also refer to the documentation for alternative solver options:\n",
            "    https://scikit-learn.org/stable/modules/linear_model.html#logistic-regression\n",
            "  extra_warning_msg=_LOGISTIC_SOLVER_CONVERGENCE_MSG)\n",
            "/usr/local/lib/python3.6/dist-packages/sklearn/linear_model/_logistic.py:940: ConvergenceWarning: lbfgs failed to converge (status=1):\n",
            "STOP: TOTAL NO. of ITERATIONS REACHED LIMIT.\n",
            "\n",
            "Increase the number of iterations (max_iter) or scale the data as shown in:\n",
            "    https://scikit-learn.org/stable/modules/preprocessing.html\n",
            "Please also refer to the documentation for alternative solver options:\n",
            "    https://scikit-learn.org/stable/modules/linear_model.html#logistic-regression\n",
            "  extra_warning_msg=_LOGISTIC_SOLVER_CONVERGENCE_MSG)\n",
            "/usr/local/lib/python3.6/dist-packages/sklearn/linear_model/_logistic.py:940: ConvergenceWarning: lbfgs failed to converge (status=1):\n",
            "STOP: TOTAL NO. of ITERATIONS REACHED LIMIT.\n",
            "\n",
            "Increase the number of iterations (max_iter) or scale the data as shown in:\n",
            "    https://scikit-learn.org/stable/modules/preprocessing.html\n",
            "Please also refer to the documentation for alternative solver options:\n",
            "    https://scikit-learn.org/stable/modules/linear_model.html#logistic-regression\n",
            "  extra_warning_msg=_LOGISTIC_SOLVER_CONVERGENCE_MSG)\n",
            "/usr/local/lib/python3.6/dist-packages/sklearn/linear_model/_logistic.py:940: ConvergenceWarning: lbfgs failed to converge (status=1):\n",
            "STOP: TOTAL NO. of ITERATIONS REACHED LIMIT.\n",
            "\n",
            "Increase the number of iterations (max_iter) or scale the data as shown in:\n",
            "    https://scikit-learn.org/stable/modules/preprocessing.html\n",
            "Please also refer to the documentation for alternative solver options:\n",
            "    https://scikit-learn.org/stable/modules/linear_model.html#logistic-regression\n",
            "  extra_warning_msg=_LOGISTIC_SOLVER_CONVERGENCE_MSG)\n",
            "/usr/local/lib/python3.6/dist-packages/sklearn/linear_model/_logistic.py:940: ConvergenceWarning: lbfgs failed to converge (status=1):\n",
            "STOP: TOTAL NO. of ITERATIONS REACHED LIMIT.\n",
            "\n",
            "Increase the number of iterations (max_iter) or scale the data as shown in:\n",
            "    https://scikit-learn.org/stable/modules/preprocessing.html\n",
            "Please also refer to the documentation for alternative solver options:\n",
            "    https://scikit-learn.org/stable/modules/linear_model.html#logistic-regression\n",
            "  extra_warning_msg=_LOGISTIC_SOLVER_CONVERGENCE_MSG)\n",
            "/usr/local/lib/python3.6/dist-packages/sklearn/linear_model/_logistic.py:940: ConvergenceWarning: lbfgs failed to converge (status=1):\n",
            "STOP: TOTAL NO. of ITERATIONS REACHED LIMIT.\n",
            "\n",
            "Increase the number of iterations (max_iter) or scale the data as shown in:\n",
            "    https://scikit-learn.org/stable/modules/preprocessing.html\n",
            "Please also refer to the documentation for alternative solver options:\n",
            "    https://scikit-learn.org/stable/modules/linear_model.html#logistic-regression\n",
            "  extra_warning_msg=_LOGISTIC_SOLVER_CONVERGENCE_MSG)\n",
            "/usr/local/lib/python3.6/dist-packages/sklearn/linear_model/_logistic.py:940: ConvergenceWarning: lbfgs failed to converge (status=1):\n",
            "STOP: TOTAL NO. of ITERATIONS REACHED LIMIT.\n",
            "\n",
            "Increase the number of iterations (max_iter) or scale the data as shown in:\n",
            "    https://scikit-learn.org/stable/modules/preprocessing.html\n",
            "Please also refer to the documentation for alternative solver options:\n",
            "    https://scikit-learn.org/stable/modules/linear_model.html#logistic-regression\n",
            "  extra_warning_msg=_LOGISTIC_SOLVER_CONVERGENCE_MSG)\n",
            "/usr/local/lib/python3.6/dist-packages/sklearn/linear_model/_logistic.py:940: ConvergenceWarning: lbfgs failed to converge (status=1):\n",
            "STOP: TOTAL NO. of ITERATIONS REACHED LIMIT.\n",
            "\n",
            "Increase the number of iterations (max_iter) or scale the data as shown in:\n",
            "    https://scikit-learn.org/stable/modules/preprocessing.html\n",
            "Please also refer to the documentation for alternative solver options:\n",
            "    https://scikit-learn.org/stable/modules/linear_model.html#logistic-regression\n",
            "  extra_warning_msg=_LOGISTIC_SOLVER_CONVERGENCE_MSG)\n",
            "/usr/local/lib/python3.6/dist-packages/sklearn/linear_model/_logistic.py:940: ConvergenceWarning: lbfgs failed to converge (status=1):\n",
            "STOP: TOTAL NO. of ITERATIONS REACHED LIMIT.\n",
            "\n",
            "Increase the number of iterations (max_iter) or scale the data as shown in:\n",
            "    https://scikit-learn.org/stable/modules/preprocessing.html\n",
            "Please also refer to the documentation for alternative solver options:\n",
            "    https://scikit-learn.org/stable/modules/linear_model.html#logistic-regression\n",
            "  extra_warning_msg=_LOGISTIC_SOLVER_CONVERGENCE_MSG)\n",
            "/usr/local/lib/python3.6/dist-packages/sklearn/linear_model/_logistic.py:940: ConvergenceWarning: lbfgs failed to converge (status=1):\n",
            "STOP: TOTAL NO. of ITERATIONS REACHED LIMIT.\n",
            "\n",
            "Increase the number of iterations (max_iter) or scale the data as shown in:\n",
            "    https://scikit-learn.org/stable/modules/preprocessing.html\n",
            "Please also refer to the documentation for alternative solver options:\n",
            "    https://scikit-learn.org/stable/modules/linear_model.html#logistic-regression\n",
            "  extra_warning_msg=_LOGISTIC_SOLVER_CONVERGENCE_MSG)\n",
            "/usr/local/lib/python3.6/dist-packages/sklearn/linear_model/_sag.py:330: ConvergenceWarning: The max_iter was reached which means the coef_ did not converge\n",
            "  \"the coef_ did not converge\", ConvergenceWarning)\n",
            "/usr/local/lib/python3.6/dist-packages/sklearn/linear_model/_sag.py:330: ConvergenceWarning: The max_iter was reached which means the coef_ did not converge\n",
            "  \"the coef_ did not converge\", ConvergenceWarning)\n",
            "/usr/local/lib/python3.6/dist-packages/sklearn/linear_model/_sag.py:330: ConvergenceWarning: The max_iter was reached which means the coef_ did not converge\n",
            "  \"the coef_ did not converge\", ConvergenceWarning)\n",
            "/usr/local/lib/python3.6/dist-packages/sklearn/linear_model/_sag.py:330: ConvergenceWarning: The max_iter was reached which means the coef_ did not converge\n",
            "  \"the coef_ did not converge\", ConvergenceWarning)\n",
            "/usr/local/lib/python3.6/dist-packages/sklearn/linear_model/_sag.py:330: ConvergenceWarning: The max_iter was reached which means the coef_ did not converge\n",
            "  \"the coef_ did not converge\", ConvergenceWarning)\n",
            "/usr/local/lib/python3.6/dist-packages/sklearn/linear_model/_sag.py:330: ConvergenceWarning: The max_iter was reached which means the coef_ did not converge\n",
            "  \"the coef_ did not converge\", ConvergenceWarning)\n",
            "/usr/local/lib/python3.6/dist-packages/sklearn/linear_model/_sag.py:330: ConvergenceWarning: The max_iter was reached which means the coef_ did not converge\n",
            "  \"the coef_ did not converge\", ConvergenceWarning)\n",
            "/usr/local/lib/python3.6/dist-packages/sklearn/linear_model/_sag.py:330: ConvergenceWarning: The max_iter was reached which means the coef_ did not converge\n",
            "  \"the coef_ did not converge\", ConvergenceWarning)\n",
            "/usr/local/lib/python3.6/dist-packages/sklearn/linear_model/_sag.py:330: ConvergenceWarning: The max_iter was reached which means the coef_ did not converge\n",
            "  \"the coef_ did not converge\", ConvergenceWarning)\n",
            "/usr/local/lib/python3.6/dist-packages/sklearn/linear_model/_sag.py:330: ConvergenceWarning: The max_iter was reached which means the coef_ did not converge\n",
            "  \"the coef_ did not converge\", ConvergenceWarning)\n"
          ],
          "name": "stderr"
        },
        {
          "output_type": "stream",
          "text": [
            "tuned hyperparameters :(best parameters)  {'C': 10, 'solver': 'sag'}\n",
            "accuracy : 0.9512500000000002\n",
            "Cross Validation mean roc_auc_score: 0.9630, std: 0.0021.\n",
            "roc_auc_score on test data: 0.6452\n",
            "=======================Next type======================\n",
            "Train data is balanced\n",
            "Test is a part of train\n"
          ],
          "name": "stdout"
        },
        {
          "output_type": "stream",
          "text": [
            "/usr/local/lib/python3.6/dist-packages/sklearn/linear_model/_logistic.py:940: ConvergenceWarning: lbfgs failed to converge (status=1):\n",
            "STOP: TOTAL NO. of ITERATIONS REACHED LIMIT.\n",
            "\n",
            "Increase the number of iterations (max_iter) or scale the data as shown in:\n",
            "    https://scikit-learn.org/stable/modules/preprocessing.html\n",
            "Please also refer to the documentation for alternative solver options:\n",
            "    https://scikit-learn.org/stable/modules/linear_model.html#logistic-regression\n",
            "  extra_warning_msg=_LOGISTIC_SOLVER_CONVERGENCE_MSG)\n",
            "/usr/local/lib/python3.6/dist-packages/sklearn/linear_model/_logistic.py:940: ConvergenceWarning: lbfgs failed to converge (status=1):\n",
            "STOP: TOTAL NO. of ITERATIONS REACHED LIMIT.\n",
            "\n",
            "Increase the number of iterations (max_iter) or scale the data as shown in:\n",
            "    https://scikit-learn.org/stable/modules/preprocessing.html\n",
            "Please also refer to the documentation for alternative solver options:\n",
            "    https://scikit-learn.org/stable/modules/linear_model.html#logistic-regression\n",
            "  extra_warning_msg=_LOGISTIC_SOLVER_CONVERGENCE_MSG)\n",
            "/usr/local/lib/python3.6/dist-packages/sklearn/linear_model/_logistic.py:940: ConvergenceWarning: lbfgs failed to converge (status=1):\n",
            "STOP: TOTAL NO. of ITERATIONS REACHED LIMIT.\n",
            "\n",
            "Increase the number of iterations (max_iter) or scale the data as shown in:\n",
            "    https://scikit-learn.org/stable/modules/preprocessing.html\n",
            "Please also refer to the documentation for alternative solver options:\n",
            "    https://scikit-learn.org/stable/modules/linear_model.html#logistic-regression\n",
            "  extra_warning_msg=_LOGISTIC_SOLVER_CONVERGENCE_MSG)\n",
            "/usr/local/lib/python3.6/dist-packages/sklearn/linear_model/_logistic.py:940: ConvergenceWarning: lbfgs failed to converge (status=1):\n",
            "STOP: TOTAL NO. of ITERATIONS REACHED LIMIT.\n",
            "\n",
            "Increase the number of iterations (max_iter) or scale the data as shown in:\n",
            "    https://scikit-learn.org/stable/modules/preprocessing.html\n",
            "Please also refer to the documentation for alternative solver options:\n",
            "    https://scikit-learn.org/stable/modules/linear_model.html#logistic-regression\n",
            "  extra_warning_msg=_LOGISTIC_SOLVER_CONVERGENCE_MSG)\n",
            "/usr/local/lib/python3.6/dist-packages/sklearn/linear_model/_logistic.py:940: ConvergenceWarning: lbfgs failed to converge (status=1):\n",
            "STOP: TOTAL NO. of ITERATIONS REACHED LIMIT.\n",
            "\n",
            "Increase the number of iterations (max_iter) or scale the data as shown in:\n",
            "    https://scikit-learn.org/stable/modules/preprocessing.html\n",
            "Please also refer to the documentation for alternative solver options:\n",
            "    https://scikit-learn.org/stable/modules/linear_model.html#logistic-regression\n",
            "  extra_warning_msg=_LOGISTIC_SOLVER_CONVERGENCE_MSG)\n",
            "/usr/local/lib/python3.6/dist-packages/sklearn/linear_model/_logistic.py:940: ConvergenceWarning: lbfgs failed to converge (status=1):\n",
            "STOP: TOTAL NO. of ITERATIONS REACHED LIMIT.\n",
            "\n",
            "Increase the number of iterations (max_iter) or scale the data as shown in:\n",
            "    https://scikit-learn.org/stable/modules/preprocessing.html\n",
            "Please also refer to the documentation for alternative solver options:\n",
            "    https://scikit-learn.org/stable/modules/linear_model.html#logistic-regression\n",
            "  extra_warning_msg=_LOGISTIC_SOLVER_CONVERGENCE_MSG)\n",
            "/usr/local/lib/python3.6/dist-packages/sklearn/linear_model/_logistic.py:940: ConvergenceWarning: lbfgs failed to converge (status=1):\n",
            "STOP: TOTAL NO. of ITERATIONS REACHED LIMIT.\n",
            "\n",
            "Increase the number of iterations (max_iter) or scale the data as shown in:\n",
            "    https://scikit-learn.org/stable/modules/preprocessing.html\n",
            "Please also refer to the documentation for alternative solver options:\n",
            "    https://scikit-learn.org/stable/modules/linear_model.html#logistic-regression\n",
            "  extra_warning_msg=_LOGISTIC_SOLVER_CONVERGENCE_MSG)\n",
            "/usr/local/lib/python3.6/dist-packages/sklearn/linear_model/_logistic.py:940: ConvergenceWarning: lbfgs failed to converge (status=1):\n",
            "STOP: TOTAL NO. of ITERATIONS REACHED LIMIT.\n",
            "\n",
            "Increase the number of iterations (max_iter) or scale the data as shown in:\n",
            "    https://scikit-learn.org/stable/modules/preprocessing.html\n",
            "Please also refer to the documentation for alternative solver options:\n",
            "    https://scikit-learn.org/stable/modules/linear_model.html#logistic-regression\n",
            "  extra_warning_msg=_LOGISTIC_SOLVER_CONVERGENCE_MSG)\n",
            "/usr/local/lib/python3.6/dist-packages/sklearn/linear_model/_sag.py:330: ConvergenceWarning: The max_iter was reached which means the coef_ did not converge\n",
            "  \"the coef_ did not converge\", ConvergenceWarning)\n",
            "/usr/local/lib/python3.6/dist-packages/sklearn/linear_model/_sag.py:330: ConvergenceWarning: The max_iter was reached which means the coef_ did not converge\n",
            "  \"the coef_ did not converge\", ConvergenceWarning)\n",
            "/usr/local/lib/python3.6/dist-packages/sklearn/linear_model/_sag.py:330: ConvergenceWarning: The max_iter was reached which means the coef_ did not converge\n",
            "  \"the coef_ did not converge\", ConvergenceWarning)\n",
            "/usr/local/lib/python3.6/dist-packages/sklearn/linear_model/_sag.py:330: ConvergenceWarning: The max_iter was reached which means the coef_ did not converge\n",
            "  \"the coef_ did not converge\", ConvergenceWarning)\n",
            "/usr/local/lib/python3.6/dist-packages/sklearn/linear_model/_sag.py:330: ConvergenceWarning: The max_iter was reached which means the coef_ did not converge\n",
            "  \"the coef_ did not converge\", ConvergenceWarning)\n",
            "/usr/local/lib/python3.6/dist-packages/sklearn/linear_model/_sag.py:330: ConvergenceWarning: The max_iter was reached which means the coef_ did not converge\n",
            "  \"the coef_ did not converge\", ConvergenceWarning)\n",
            "/usr/local/lib/python3.6/dist-packages/sklearn/linear_model/_sag.py:330: ConvergenceWarning: The max_iter was reached which means the coef_ did not converge\n",
            "  \"the coef_ did not converge\", ConvergenceWarning)\n",
            "/usr/local/lib/python3.6/dist-packages/sklearn/linear_model/_sag.py:330: ConvergenceWarning: The max_iter was reached which means the coef_ did not converge\n",
            "  \"the coef_ did not converge\", ConvergenceWarning)\n"
          ],
          "name": "stderr"
        },
        {
          "output_type": "stream",
          "text": [
            "tuned hyperparameters :(best parameters)  {'C': 10, 'solver': 'lbfgs'}\n",
            "accuracy : 0.8953723439884351\n",
            "Cross Validation mean roc_auc_score: 0.9619, std: 0.0016.\n",
            "roc_auc_score on test data: 0.9654\n",
            "=======================Next type======================\n",
            "Train data is balanced\n",
            "Test is validation\n"
          ],
          "name": "stdout"
        },
        {
          "output_type": "stream",
          "text": [
            "/usr/local/lib/python3.6/dist-packages/sklearn/linear_model/_logistic.py:940: ConvergenceWarning: lbfgs failed to converge (status=1):\n",
            "STOP: TOTAL NO. of ITERATIONS REACHED LIMIT.\n",
            "\n",
            "Increase the number of iterations (max_iter) or scale the data as shown in:\n",
            "    https://scikit-learn.org/stable/modules/preprocessing.html\n",
            "Please also refer to the documentation for alternative solver options:\n",
            "    https://scikit-learn.org/stable/modules/linear_model.html#logistic-regression\n",
            "  extra_warning_msg=_LOGISTIC_SOLVER_CONVERGENCE_MSG)\n",
            "/usr/local/lib/python3.6/dist-packages/sklearn/linear_model/_logistic.py:940: ConvergenceWarning: lbfgs failed to converge (status=1):\n",
            "STOP: TOTAL NO. of ITERATIONS REACHED LIMIT.\n",
            "\n",
            "Increase the number of iterations (max_iter) or scale the data as shown in:\n",
            "    https://scikit-learn.org/stable/modules/preprocessing.html\n",
            "Please also refer to the documentation for alternative solver options:\n",
            "    https://scikit-learn.org/stable/modules/linear_model.html#logistic-regression\n",
            "  extra_warning_msg=_LOGISTIC_SOLVER_CONVERGENCE_MSG)\n",
            "/usr/local/lib/python3.6/dist-packages/sklearn/linear_model/_logistic.py:940: ConvergenceWarning: lbfgs failed to converge (status=1):\n",
            "STOP: TOTAL NO. of ITERATIONS REACHED LIMIT.\n",
            "\n",
            "Increase the number of iterations (max_iter) or scale the data as shown in:\n",
            "    https://scikit-learn.org/stable/modules/preprocessing.html\n",
            "Please also refer to the documentation for alternative solver options:\n",
            "    https://scikit-learn.org/stable/modules/linear_model.html#logistic-regression\n",
            "  extra_warning_msg=_LOGISTIC_SOLVER_CONVERGENCE_MSG)\n",
            "/usr/local/lib/python3.6/dist-packages/sklearn/linear_model/_logistic.py:940: ConvergenceWarning: lbfgs failed to converge (status=1):\n",
            "STOP: TOTAL NO. of ITERATIONS REACHED LIMIT.\n",
            "\n",
            "Increase the number of iterations (max_iter) or scale the data as shown in:\n",
            "    https://scikit-learn.org/stable/modules/preprocessing.html\n",
            "Please also refer to the documentation for alternative solver options:\n",
            "    https://scikit-learn.org/stable/modules/linear_model.html#logistic-regression\n",
            "  extra_warning_msg=_LOGISTIC_SOLVER_CONVERGENCE_MSG)\n",
            "/usr/local/lib/python3.6/dist-packages/sklearn/linear_model/_logistic.py:940: ConvergenceWarning: lbfgs failed to converge (status=1):\n",
            "STOP: TOTAL NO. of ITERATIONS REACHED LIMIT.\n",
            "\n",
            "Increase the number of iterations (max_iter) or scale the data as shown in:\n",
            "    https://scikit-learn.org/stable/modules/preprocessing.html\n",
            "Please also refer to the documentation for alternative solver options:\n",
            "    https://scikit-learn.org/stable/modules/linear_model.html#logistic-regression\n",
            "  extra_warning_msg=_LOGISTIC_SOLVER_CONVERGENCE_MSG)\n",
            "/usr/local/lib/python3.6/dist-packages/sklearn/linear_model/_logistic.py:940: ConvergenceWarning: lbfgs failed to converge (status=1):\n",
            "STOP: TOTAL NO. of ITERATIONS REACHED LIMIT.\n",
            "\n",
            "Increase the number of iterations (max_iter) or scale the data as shown in:\n",
            "    https://scikit-learn.org/stable/modules/preprocessing.html\n",
            "Please also refer to the documentation for alternative solver options:\n",
            "    https://scikit-learn.org/stable/modules/linear_model.html#logistic-regression\n",
            "  extra_warning_msg=_LOGISTIC_SOLVER_CONVERGENCE_MSG)\n",
            "/usr/local/lib/python3.6/dist-packages/sklearn/linear_model/_logistic.py:940: ConvergenceWarning: lbfgs failed to converge (status=1):\n",
            "STOP: TOTAL NO. of ITERATIONS REACHED LIMIT.\n",
            "\n",
            "Increase the number of iterations (max_iter) or scale the data as shown in:\n",
            "    https://scikit-learn.org/stable/modules/preprocessing.html\n",
            "Please also refer to the documentation for alternative solver options:\n",
            "    https://scikit-learn.org/stable/modules/linear_model.html#logistic-regression\n",
            "  extra_warning_msg=_LOGISTIC_SOLVER_CONVERGENCE_MSG)\n",
            "/usr/local/lib/python3.6/dist-packages/sklearn/linear_model/_logistic.py:940: ConvergenceWarning: lbfgs failed to converge (status=1):\n",
            "STOP: TOTAL NO. of ITERATIONS REACHED LIMIT.\n",
            "\n",
            "Increase the number of iterations (max_iter) or scale the data as shown in:\n",
            "    https://scikit-learn.org/stable/modules/preprocessing.html\n",
            "Please also refer to the documentation for alternative solver options:\n",
            "    https://scikit-learn.org/stable/modules/linear_model.html#logistic-regression\n",
            "  extra_warning_msg=_LOGISTIC_SOLVER_CONVERGENCE_MSG)\n",
            "/usr/local/lib/python3.6/dist-packages/sklearn/linear_model/_logistic.py:940: ConvergenceWarning: lbfgs failed to converge (status=1):\n",
            "STOP: TOTAL NO. of ITERATIONS REACHED LIMIT.\n",
            "\n",
            "Increase the number of iterations (max_iter) or scale the data as shown in:\n",
            "    https://scikit-learn.org/stable/modules/preprocessing.html\n",
            "Please also refer to the documentation for alternative solver options:\n",
            "    https://scikit-learn.org/stable/modules/linear_model.html#logistic-regression\n",
            "  extra_warning_msg=_LOGISTIC_SOLVER_CONVERGENCE_MSG)\n",
            "/usr/local/lib/python3.6/dist-packages/sklearn/linear_model/_logistic.py:940: ConvergenceWarning: lbfgs failed to converge (status=1):\n",
            "STOP: TOTAL NO. of ITERATIONS REACHED LIMIT.\n",
            "\n",
            "Increase the number of iterations (max_iter) or scale the data as shown in:\n",
            "    https://scikit-learn.org/stable/modules/preprocessing.html\n",
            "Please also refer to the documentation for alternative solver options:\n",
            "    https://scikit-learn.org/stable/modules/linear_model.html#logistic-regression\n",
            "  extra_warning_msg=_LOGISTIC_SOLVER_CONVERGENCE_MSG)\n",
            "/usr/local/lib/python3.6/dist-packages/sklearn/linear_model/_sag.py:330: ConvergenceWarning: The max_iter was reached which means the coef_ did not converge\n",
            "  \"the coef_ did not converge\", ConvergenceWarning)\n",
            "/usr/local/lib/python3.6/dist-packages/sklearn/linear_model/_sag.py:330: ConvergenceWarning: The max_iter was reached which means the coef_ did not converge\n",
            "  \"the coef_ did not converge\", ConvergenceWarning)\n",
            "/usr/local/lib/python3.6/dist-packages/sklearn/linear_model/_sag.py:330: ConvergenceWarning: The max_iter was reached which means the coef_ did not converge\n",
            "  \"the coef_ did not converge\", ConvergenceWarning)\n",
            "/usr/local/lib/python3.6/dist-packages/sklearn/linear_model/_sag.py:330: ConvergenceWarning: The max_iter was reached which means the coef_ did not converge\n",
            "  \"the coef_ did not converge\", ConvergenceWarning)\n",
            "/usr/local/lib/python3.6/dist-packages/sklearn/linear_model/_sag.py:330: ConvergenceWarning: The max_iter was reached which means the coef_ did not converge\n",
            "  \"the coef_ did not converge\", ConvergenceWarning)\n",
            "/usr/local/lib/python3.6/dist-packages/sklearn/linear_model/_sag.py:330: ConvergenceWarning: The max_iter was reached which means the coef_ did not converge\n",
            "  \"the coef_ did not converge\", ConvergenceWarning)\n",
            "/usr/local/lib/python3.6/dist-packages/sklearn/linear_model/_sag.py:330: ConvergenceWarning: The max_iter was reached which means the coef_ did not converge\n",
            "  \"the coef_ did not converge\", ConvergenceWarning)\n",
            "/usr/local/lib/python3.6/dist-packages/sklearn/linear_model/_sag.py:330: ConvergenceWarning: The max_iter was reached which means the coef_ did not converge\n",
            "  \"the coef_ did not converge\", ConvergenceWarning)\n",
            "/usr/local/lib/python3.6/dist-packages/sklearn/linear_model/_sag.py:330: ConvergenceWarning: The max_iter was reached which means the coef_ did not converge\n",
            "  \"the coef_ did not converge\", ConvergenceWarning)\n",
            "/usr/local/lib/python3.6/dist-packages/sklearn/linear_model/_sag.py:330: ConvergenceWarning: The max_iter was reached which means the coef_ did not converge\n",
            "  \"the coef_ did not converge\", ConvergenceWarning)\n"
          ],
          "name": "stderr"
        },
        {
          "output_type": "stream",
          "text": [
            "tuned hyperparameters :(best parameters)  {'C': 10, 'solver': 'lbfgs'}\n",
            "accuracy : 0.9009307075306319\n",
            "Cross Validation mean roc_auc_score: 0.9657, std: 0.0029.\n",
            "roc_auc_score on test data: 0.6606\n",
            "=======================Next type======================\n"
          ],
          "name": "stdout"
        }
      ]
    },
    {
      "cell_type": "markdown",
      "metadata": {
        "id": "dvMusb2-WkD1",
        "colab_type": "text"
      },
      "source": [
        "Хотела сразу сделать красивый пайплайн и оставила на ночь, не хватило иттераций, чтобы все сошлось, но резульаты гридсерча сохранились, придется пересчитать модели руками:"
      ]
    },
    {
      "cell_type": "code",
      "metadata": {
        "id": "ljxGGzFS3YxR",
        "colab_type": "code",
        "colab": {
          "base_uri": "https://localhost:8080/",
          "height": 357
        },
        "outputId": "a8a41ed3-6d74-485e-868c-64f32ab6b257"
      },
      "source": [
        "# clf_type = LogisticRegression('C': 10, 'solver': 'lbfgs', max_iter=500)\n",
        "# cls_types = [\"LogReg\", \"SVD\"]\n",
        "\n",
        "clf_type = LogisticRegression(C= 10, solver= 'lbfgs', max_iter=1000)\n",
        "baseline_model(clf_type, 'train', 'unbalanced', wiki_toxic_comment_train, wiki_toxic_comment_valid)\n",
        "print(\"=======================Next type======================\")\n",
        "clf_type = LogisticRegression(C=10, solver='sag', max_iter=1000)\n",
        "baseline_model(clf_type, 'val', 'unbalanced', wiki_toxic_comment_train, wiki_toxic_comment_valid)\n",
        "print(\"=======================Next type======================\")\n",
        "clf_type = LogisticRegression(C=10, solver='lbfgs', max_iter=1000)\n",
        "baseline_model(clf_type, 'train', 'balanced', wiki_toxic_comment_train, wiki_toxic_comment_valid)\n",
        "print(\"=======================Next type======================\")\n",
        "clf_type = LogisticRegression(C=10, solver ='lbfgs', max_iter=500)\n",
        "baseline_model(clf_type, 'val', 'balanced', wiki_toxic_comment_train, wiki_toxic_comment_valid)\n",
        "print(\"=======================Next type======================\")"
      ],
      "execution_count": 13,
      "outputs": [
        {
          "output_type": "stream",
          "text": [
            "Train data is NOT balanced\n",
            "Test is a part of train\n",
            "Cross Validation mean roc_auc_score: 0.9616, std: 0.0030.\n",
            "roc_auc_score on test data: 0.9628\n",
            "=======================Next type======================\n",
            "Train data is NOT balanced\n",
            "Test is validation\n",
            "Cross Validation mean roc_auc_score: 0.9615, std: 0.0026.\n",
            "roc_auc_score on test data: 0.6632\n",
            "=======================Next type======================\n",
            "Train data is balanced\n",
            "Test is a part of train\n",
            "Cross Validation mean roc_auc_score: 0.9608, std: 0.0036.\n",
            "roc_auc_score on test data: 0.9607\n",
            "=======================Next type======================\n",
            "Train data is balanced\n",
            "Test is validation\n",
            "Cross Validation mean roc_auc_score: 0.9652, std: 0.0014.\n",
            "roc_auc_score on test data: 0.6455\n",
            "=======================Next type======================\n"
          ],
          "name": "stdout"
        }
      ]
    },
    {
      "cell_type": "markdown",
      "metadata": {
        "id": "fTN1m0MbVPau",
        "colab_type": "text"
      },
      "source": [
        "Предсказуемо на английском языке (когда тест - это часть выборки трейна) мы видим высокие результаты на вализации (хотя на сбалансированной выборке результаты хуже, с одной стороны оъясняется сильным уменьшением объема данных, общая выборка сократилась до 40000 текстов, в варианте, когда мы тестируем на часте трейна, на обучение устается только 70 процентов от этого числа, ну и также, все же этот алгоритм должен улавливать тенденцию, а мы сильно изменили распределение в выборке, поэтому на валидационном сете (где балансирвоки не было) результат ухудщился). При тесте на валидации результат неплохой, подозреваю, что это опять же связано с тем, что там 2/3 текстов на родственных языках (испанский/итальянский) вероятно, это сыграло свою роль, ну и кроме того, видимо есть какие-то сильные несемантические признаки, общие для этих языков (мы не делали преобработки, поэтому тут возможно сыграли роль и капс и знаки препинания и длин, мы видели в анализи данных, что статистически есть разница в распределнии длин для токсичных и нетоксичных текстов)"
      ]
    },
    {
      "cell_type": "markdown",
      "metadata": {
        "id": "_DyQ4ff2cn5I",
        "colab_type": "text"
      },
      "source": [
        "# Clear data\n",
        "public kernal https://www.kaggle.com/shonenkov/tpu-inference-super-fast-xlmroberta"
      ]
    },
    {
      "cell_type": "code",
      "metadata": {
        "id": "Bwx_VZ51cuDA",
        "colab_type": "code",
        "colab": {
          "base_uri": "https://localhost:8080/",
          "height": 51
        },
        "outputId": "54f364c5-dd49-4a6f-8d83-f0a758eee975"
      },
      "source": [
        "import nltk\n",
        "nltk.download('punkt')\n",
        "\n",
        "from nltk import sent_tokenize\n",
        "\n",
        "LANGS = {\n",
        "    'en': 'english',\n",
        "    'it': 'italian', \n",
        "    'fr': 'french', \n",
        "    'es': 'spanish',\n",
        "    'tr': 'turkish', \n",
        "    'ru': 'russian',\n",
        "    'pt': 'portuguese'\n",
        "}\n",
        "\n",
        "def get_sentences(text, lang='en'):\n",
        "    return sent_tokenize(text, LANGS.get(lang, 'english'))\n",
        "\n",
        "def exclude_duplicate_sentences(text, lang='en'):\n",
        "    sentences = []\n",
        "    for sentence in get_sentences(text, lang):\n",
        "        sentence = sentence.strip()\n",
        "        if sentence not in sentences:\n",
        "            sentences.append(sentence)\n",
        "    return ' '.join(sentences)\n",
        "\n",
        "def clean_text(text, lang='en'):\n",
        "    text = str(text)\n",
        "    text = re.sub(r'[0-9\"]', '', text)\n",
        "    text = re.sub(r'#[\\S]+\\b', '', text)\n",
        "    text = re.sub(r'@[\\S]+\\b', '', text)\n",
        "    text = re.sub(r'https?\\S+', '', text)\n",
        "    text = re.sub(r'\\s+', ' ', text)\n",
        "    text = exclude_duplicate_sentences(text, lang)\n",
        "    return text.strip()"
      ],
      "execution_count": 57,
      "outputs": [
        {
          "output_type": "stream",
          "text": [
            "[nltk_data] Downloading package punkt to /root/nltk_data...\n",
            "[nltk_data]   Unzipping tokenizers/punkt.zip.\n"
          ],
          "name": "stdout"
        }
      ]
    },
    {
      "cell_type": "code",
      "metadata": {
        "id": "5w4CaDJmeF3N",
        "colab_type": "code",
        "colab": {}
      },
      "source": [
        "wiki_toxic_comment_train['clear_comments'] = wiki_toxic_comment_train.apply(lambda x: clean_text(x['comment_text']), axis=1)"
      ],
      "execution_count": 58,
      "outputs": []
    },
    {
      "cell_type": "code",
      "metadata": {
        "id": "Ej-4LuhXiAQT",
        "colab_type": "code",
        "colab": {}
      },
      "source": [
        "wiki_toxic_comment_test['clear_comments'] = wiki_toxic_comment_test.apply(lambda x: clean_text(x['content'], x['lang']), axis=1)"
      ],
      "execution_count": 59,
      "outputs": []
    },
    {
      "cell_type": "code",
      "metadata": {
        "id": "Gtr1ZuguiJzE",
        "colab_type": "code",
        "colab": {}
      },
      "source": [
        "wiki_toxic_comment_valid['clear_comments'] = wiki_toxic_comment_valid.apply(lambda x: clean_text(x['comment_text'], x['lang']), axis=1)"
      ],
      "execution_count": 60,
      "outputs": []
    },
    {
      "cell_type": "code",
      "metadata": {
        "id": "UjQlYAuteKq_",
        "colab_type": "code",
        "colab": {
          "base_uri": "https://localhost:8080/",
          "height": 235
        },
        "outputId": "cdecbf53-a994-47fd-d370-e8dc618e7c86"
      },
      "source": [
        "wiki_toxic_comment_valid.head()"
      ],
      "execution_count": 61,
      "outputs": [
        {
          "output_type": "execute_result",
          "data": {
            "text/html": [
              "<div>\n",
              "<style scoped>\n",
              "    .dataframe tbody tr th:only-of-type {\n",
              "        vertical-align: middle;\n",
              "    }\n",
              "\n",
              "    .dataframe tbody tr th {\n",
              "        vertical-align: top;\n",
              "    }\n",
              "\n",
              "    .dataframe thead th {\n",
              "        text-align: right;\n",
              "    }\n",
              "</style>\n",
              "<table border=\"1\" class=\"dataframe\">\n",
              "  <thead>\n",
              "    <tr style=\"text-align: right;\">\n",
              "      <th></th>\n",
              "      <th>comment_text</th>\n",
              "      <th>lang</th>\n",
              "      <th>toxic</th>\n",
              "      <th>len_text</th>\n",
              "      <th>clear_comments</th>\n",
              "    </tr>\n",
              "    <tr>\n",
              "      <th>id</th>\n",
              "      <th></th>\n",
              "      <th></th>\n",
              "      <th></th>\n",
              "      <th></th>\n",
              "      <th></th>\n",
              "    </tr>\n",
              "  </thead>\n",
              "  <tbody>\n",
              "    <tr>\n",
              "      <th>0</th>\n",
              "      <td>Este usuario ni siquiera llega al rango de    ...</td>\n",
              "      <td>es</td>\n",
              "      <td>0</td>\n",
              "      <td>252</td>\n",
              "      <td>Este usuario ni siquiera llega al rango de her...</td>\n",
              "    </tr>\n",
              "    <tr>\n",
              "      <th>1</th>\n",
              "      <td>Il testo di questa voce pare esser scopiazzato...</td>\n",
              "      <td>it</td>\n",
              "      <td>0</td>\n",
              "      <td>130</td>\n",
              "      <td>Il testo di questa voce pare esser scopiazzato...</td>\n",
              "    </tr>\n",
              "    <tr>\n",
              "      <th>2</th>\n",
              "      <td>Vale. Sólo expongo mi pasado. Todo tiempo pasa...</td>\n",
              "      <td>es</td>\n",
              "      <td>1</td>\n",
              "      <td>166</td>\n",
              "      <td>Vale. Sólo expongo mi pasado. Todo tiempo pasa...</td>\n",
              "    </tr>\n",
              "    <tr>\n",
              "      <th>3</th>\n",
              "      <td>Bu maddenin alt başlığı olarak  uluslararası i...</td>\n",
              "      <td>tr</td>\n",
              "      <td>0</td>\n",
              "      <td>393</td>\n",
              "      <td>Bu maddenin alt başlığı olarak uluslararası il...</td>\n",
              "    </tr>\n",
              "    <tr>\n",
              "      <th>4</th>\n",
              "      <td>Belçika nın şehirlerinin yanında ilçe ve belde...</td>\n",
              "      <td>tr</td>\n",
              "      <td>0</td>\n",
              "      <td>426</td>\n",
              "      <td>Belçika nın şehirlerinin yanında ilçe ve belde...</td>\n",
              "    </tr>\n",
              "  </tbody>\n",
              "</table>\n",
              "</div>"
            ],
            "text/plain": [
              "                                         comment_text  ...                                     clear_comments\n",
              "id                                                     ...                                                   \n",
              "0   Este usuario ni siquiera llega al rango de    ...  ...  Este usuario ni siquiera llega al rango de her...\n",
              "1   Il testo di questa voce pare esser scopiazzato...  ...  Il testo di questa voce pare esser scopiazzato...\n",
              "2   Vale. Sólo expongo mi pasado. Todo tiempo pasa...  ...  Vale. Sólo expongo mi pasado. Todo tiempo pasa...\n",
              "3   Bu maddenin alt başlığı olarak  uluslararası i...  ...  Bu maddenin alt başlığı olarak uluslararası il...\n",
              "4   Belçika nın şehirlerinin yanında ilçe ve belde...  ...  Belçika nın şehirlerinin yanında ilçe ve belde...\n",
              "\n",
              "[5 rows x 5 columns]"
            ]
          },
          "metadata": {
            "tags": []
          },
          "execution_count": 61
        }
      ]
    },
    {
      "cell_type": "code",
      "metadata": {
        "id": "xdeDdAhwjFsj",
        "colab_type": "code",
        "colab": {
          "base_uri": "https://localhost:8080/",
          "height": 34
        },
        "outputId": "f1576c79-09d9-4cde-ba43-4ef22779a18f"
      },
      "source": [
        "wiki_toxic_comment_train.shape"
      ],
      "execution_count": null,
      "outputs": [
        {
          "output_type": "execute_result",
          "data": {
            "text/plain": [
              "(223549, 9)"
            ]
          },
          "metadata": {
            "tags": []
          },
          "execution_count": 197
        }
      ]
    },
    {
      "cell_type": "markdown",
      "metadata": {
        "id": "mqgrn-CBdEjE",
        "colab_type": "text"
      },
      "source": [
        "# Fix seed"
      ]
    },
    {
      "cell_type": "code",
      "metadata": {
        "id": "6y4Da9apdG_P",
        "colab_type": "code",
        "colab": {}
      },
      "source": [
        "SEED = 42\n",
        "\n",
        "def seed_everything(seed):\n",
        "    random.seed(seed)\n",
        "    os.environ['PYTHONHASHSEED'] = str(seed)\n",
        "    np.random.seed(seed)\n",
        "    torch.manual_seed(seed)\n",
        "    torch.cuda.manual_seed(seed)\n",
        "    torch.backends.cudnn.deterministic = True\n",
        "    torch.backends.cudnn.benchmark = True\n",
        "\n",
        "seed_everything(SEED)"
      ],
      "execution_count": null,
      "outputs": []
    },
    {
      "cell_type": "markdown",
      "metadata": {
        "id": "Pb2qiJenjNXy",
        "colab_type": "text"
      },
      "source": [
        "# Experiments"
      ]
    },
    {
      "cell_type": "markdown",
      "metadata": {
        "id": "outXBKabVVWl",
        "colab_type": "text"
      },
      "source": [
        "**Задание:**\n",
        "\n",
        "Использование предобучнной модели из huggingface для обучения классификатора с оценкой на validation.csv - 3 балла"
      ]
    },
    {
      "cell_type": "markdown",
      "metadata": {
        "id": "Sqy9_SPTW3Dj",
        "colab_type": "text"
      },
      "source": [
        "У нас мультилингвальные данные и первое, что приходит в голову - мультилингвальный берт, у нас не очень много данных, а колабе в берта много и не влезет, но это может повлиять на качество. Есть идея о том, что, возможно, тексты маркированные типом могут иметь какую-то дополнительную семантику, которой нет в тесте, попробуем сначала без них"
      ]
    },
    {
      "cell_type": "markdown",
      "metadata": {
        "id": "nl5XGJ2GjUgs",
        "colab_type": "text"
      },
      "source": [
        "### English bert with only toxic columns\n"
      ]
    },
    {
      "cell_type": "markdown",
      "metadata": {
        "id": "fMSlz-nch_dZ",
        "colab_type": "text"
      },
      "source": [
        "#### random sample "
      ]
    },
    {
      "cell_type": "markdown",
      "metadata": {
        "id": "EaeOshoVX2jC",
        "colab_type": "text"
      },
      "source": [
        "Уберем выбросы (длина больше 1000)"
      ]
    },
    {
      "cell_type": "code",
      "metadata": {
        "id": "3CDxJ7USa5Ad",
        "colab_type": "code",
        "colab": {}
      },
      "source": [
        "#only text with len <= 1000 chars, use text with toxic and non-toxic labels\n",
        "filtred_data = wiki_toxic_comment_train[(wiki_toxic_comment_train[\"len_text\"]<=1000) & \n",
        "                                        (wiki_toxic_comment_train[\"identity_hate\"]!=1) & \n",
        "                                        (wiki_toxic_comment_train[\"severe_toxic\"]!=1) &\n",
        "                                        (wiki_toxic_comment_train[\"insult\"]!=1) & \n",
        "                                        (wiki_toxic_comment_train[\"threat\"]!=1) & \n",
        "                                        (wiki_toxic_comment_train[\"obscene\"]!=1)]"
      ],
      "execution_count": 51,
      "outputs": []
    },
    {
      "cell_type": "code",
      "metadata": {
        "id": "Et21Xq4pVJC_",
        "colab_type": "code",
        "colab": {}
      },
      "source": [
        "def format_time(elapsed):\n",
        "    # Round to the nearest second.\n",
        "    elapsed_rounded = int(round((elapsed)))\n",
        "    return str(datetime.timedelta(seconds=elapsed_rounded))"
      ],
      "execution_count": 53,
      "outputs": []
    },
    {
      "cell_type": "markdown",
      "metadata": {
        "id": "jwkuViq9mMuM",
        "colab_type": "text"
      },
      "source": [
        "**Задание:**\n",
        "\n",
        "Использование токенизации на символьные нграммы (не параметром analyzer=’char’, а вручную или готовым энструментов вроде youtokentome - 2 балла\n",
        "\n",
        "технически это не analyzer=’char’))) "
      ]
    },
    {
      "cell_type": "code",
      "metadata": {
        "id": "dffuMPaNU-VG",
        "colab_type": "code",
        "colab": {}
      },
      "source": [
        "def prep_data(sentences, labels, MAX_LEN = 128, filter_by_len=True, bert_name='bert-base-cased'):\n",
        "  filtred_by_len_number = 0\n",
        "  tokenizer = BertTokenizer.from_pretrained(bert_name)\n",
        "  input_ids = []\n",
        "  labels_res = []\n",
        "  for ind, sent in tqdm(enumerate(sentences)):\n",
        "      encoded_sent = tokenizer.encode(sent, add_special_tokens = True)\n",
        "      if filter_by_len:\n",
        "        if len(encoded_sent) <= MAX_LEN:\n",
        "          input_ids.append(encoded_sent)\n",
        "          labels_res.append(labels[ind])\n",
        "          filtred_by_len_number+=1\n",
        "      else:\n",
        "        input_ids.append(encoded_sent)\n",
        "        labels_res.append(labels[ind])\n",
        "        filtred_by_len_number+=1\n",
        "\n",
        "  input_ids = pad_sequences(input_ids, maxlen=MAX_LEN, dtype=\"long\", value=0, truncating=\"post\", padding=\"post\")\n",
        "  attention_masks = []\n",
        "  for sent in input_ids:\n",
        "      att_mask = [int(token_id > 0) for token_id in sent]\n",
        "      attention_masks.append(att_mask)\n",
        "  assert len(input_ids)==len(labels_res), \"different number of samples and labels\"\n",
        "  print(\"Unput sentences number: {}\".format(len(sentences)))\n",
        "  print(\"Filtered(output) sentence number: {}\".format(filtred_by_len_number))\n",
        "  return input_ids, attention_masks, labels_res"
      ],
      "execution_count": 54,
      "outputs": []
    },
    {
      "cell_type": "code",
      "metadata": {
        "id": "N2RWJUoVRDhn",
        "colab_type": "code",
        "colab": {}
      },
      "source": [
        "from sklearn.metrics import roc_auc_score\n",
        "def train_bert(train, \n",
        "               test, \n",
        "               text_col_name=\"comment_text\", \n",
        "               label=\"toxic\",\n",
        "               device=\"cuda\",\n",
        "               batch_size=16,\n",
        "               epochs=7,\n",
        "               bert_name='bert-base-cased'\n",
        "               ):\n",
        "\n",
        "  train_input_ids, train_attention_masks, labels_train = prep_data(train[text_col_name].values.tolist(),\n",
        "                                                                   train[label].values.tolist(),\n",
        "                                                                   filter_by_len=True,\n",
        "                                                                   bert_name=bert_name)\n",
        "  test_input_ids, test_attention_masks, labels_test = prep_data(test[text_col_name].values.tolist(),\n",
        "                                                                test[label].values.tolist(),\n",
        "                                                                filter_by_len=False,\n",
        "                                                                bert_name=bert_name)\n",
        "\n",
        "  train_inputs = torch.tensor(train_input_ids)\n",
        "  validation_inputs = torch.tensor(test_input_ids)\n",
        "\n",
        "  train_labels = torch.tensor(labels_train)\n",
        "  validation_labels = torch.tensor(labels_test)\n",
        "\n",
        "  train_masks = torch.tensor(train_attention_masks)\n",
        "  validation_masks = torch.tensor(test_attention_masks)\n",
        "  \n",
        "  train_data = TensorDataset(train_inputs, train_masks, train_labels)\n",
        "  train_sampler = RandomSampler(train_data)\n",
        "  train_dataloader = DataLoader(train_data, sampler=train_sampler, batch_size=batch_size)\n",
        "\n",
        "  validation_data = TensorDataset(validation_inputs, validation_masks, validation_labels)\n",
        "  validation_sampler = SequentialSampler(validation_data)\n",
        "  validation_dataloader = DataLoader(validation_data, sampler=validation_sampler, batch_size=batch_size)\n",
        "\n",
        "  model = BertForSequenceClassification.from_pretrained(bert_name, \n",
        "                                                        num_labels = len(train[label].unique()), \n",
        "                                                        output_attentions = False, \n",
        "                                                        output_hidden_states = True)\n",
        "  model = model.to(device)\n",
        "  optimizer = AdamW(model.parameters(),\n",
        "                  lr = 2e-5, # args.learning_rate - default is 5e-5, our notebook had 2e-5\n",
        "                  eps = 1e-8 )\n",
        "  \n",
        "  total_steps = len(train_dataloader) * epochs\n",
        "  scheduler = get_linear_schedule_with_warmup(optimizer, \n",
        "                                              num_warmup_steps = 100, # Default value in run_glue.py\n",
        "                                              num_training_steps = total_steps)\n",
        "  \n",
        "  loss_values = []\n",
        "\n",
        "  for epoch_i in range(0, epochs):\n",
        "      embeddings = []\n",
        "\n",
        "      print(\"\")\n",
        "      print('======== Epoch {:} / {:} ========'.format(epoch_i + 1, epochs))\n",
        "      print('Training...')\n",
        "      t0 = time.time()\n",
        "      total_loss = 0\n",
        "      model.train()\n",
        "\n",
        "      for step, batch in enumerate(train_dataloader):\n",
        "          if step % 40 == 0 and not step == 0:\n",
        "              elapsed = format_time(time.time() - t0)\n",
        "              print('  Batch {:>5,}  of  {:>5,}.    Elapsed: {:}.'.format(step, len(train_dataloader), elapsed))\n",
        "          b_input_ids = batch[0].to(device)\n",
        "          b_input_mask = batch[1].to(device)\n",
        "          b_labels = batch[2].to(device)\n",
        "          model.zero_grad()        \n",
        "\n",
        "          outputs = model(b_input_ids, \n",
        "                      token_type_ids=None, \n",
        "                      attention_mask=b_input_mask, \n",
        "                      labels=b_labels)\n",
        "          \n",
        "          loss  = outputs[0]\n",
        "          embeddings.append(outputs[2][-1][:,0,:])\n",
        "          total_loss += loss.item()\n",
        "          loss.backward()\n",
        "          torch.nn.utils.clip_grad_norm_(model.parameters(), 1.0)\n",
        "\n",
        "          optimizer.step()\n",
        "          scheduler.step()\n",
        "\n",
        "      avg_train_loss = total_loss / len(train_dataloader)            \n",
        "      loss_values.append(avg_train_loss)\n",
        "\n",
        "      print(\"\")\n",
        "      print(\"  Average training loss: {0:.2f}\".format(avg_train_loss))\n",
        "      print(\"  Training epcoh took: {:}\".format(format_time(time.time() - t0)))\n",
        "          \n",
        "      print(\"\")\n",
        "      print(\"Running Validation...\")\n",
        "\n",
        "      t0 = time.time()\n",
        "      test_targets, test_pred_class = [], []\n",
        "\n",
        "      model.eval()\n",
        "\n",
        "      eval_loss, eval_accuracy = 0, 0\n",
        "      nb_eval_steps, nb_eval_examples = 0, 0\n",
        "\n",
        "      for batch in validation_dataloader:\n",
        "          \n",
        "          batch = tuple(t.to(device) for t in batch)\n",
        "          \n",
        "          b_input_ids, b_input_mask, b_labels = batch\n",
        "          with torch.no_grad():        \n",
        "              outputs = model(b_input_ids, \n",
        "                              token_type_ids=None, \n",
        "                              attention_mask=b_input_mask)\n",
        "          logits = outputs[0]\n",
        "\n",
        "          # Move logits and labels to CPU\n",
        "          logits = logits.detach().cpu().numpy()\n",
        "          label_ids = b_labels.cpu().numpy()\n",
        "          test_targets.append(label_ids)\n",
        "          test_pred_class.append(np.argmax(logits, axis=1))\n",
        "          \n",
        "          # Calculate the accuracy for this batch of test sentences.          \n",
        "          # Accumulate the total accuracy.\n",
        "\n",
        "          nb_eval_steps += 1\n",
        "      test_targets = np.concatenate(test_targets).squeeze()\n",
        "      test_pred_class = np.concatenate(test_pred_class).squeeze()\n",
        "\n",
        "      f1 = f1_score(test_targets, test_pred_class, average='micro')\n",
        "      print(classification_report(test_targets, test_pred_class))\n",
        "\n",
        "      # Report the final accuracy for this validation run.\n",
        "      print(\"  F1: {0:.4f}\".format(f1))\n",
        "      print(\"  ROC AUC: {0:.4f}\".format(roc_auc_score(test_targets, test_pred_class)))\n",
        "      print(\"  Validation took: {:}\".format(format_time(time.time() - t0)))\n",
        "\n",
        "  print(\"\")\n",
        "  print(\"Training complete!\")\n",
        "  return model"
      ],
      "execution_count": 55,
      "outputs": []
    },
    {
      "cell_type": "code",
      "metadata": {
        "id": "TRzE3auD2YN6",
        "colab_type": "code",
        "colab": {
          "base_uri": "https://localhost:8080/",
          "height": 1000,
          "referenced_widgets": [
            "7f6c8509a9cb4ff8aa1114de6e8066af",
            "389ac76120004f33a1e6323ad2c2f154",
            "73f9bf4b717d4fa48eb3819f28529ce2",
            "3ebcd6a2f0f64bb9a11c9d8caf811289",
            "60527aa8f0114e8db97351051207c5a3",
            "0697fccb2ec24e71a25b638d9e48767e",
            "81d69a91d4a449ecb9b9801bfd70c021",
            "0ab91282be3a48918273ecbd87e1aaf0",
            "bdcfc7304d4b4450aa0fd8b9394ac50c",
            "b327c1e53a6e4434bbc1c9c82218df1e",
            "3b93dbd0166d48db9ac49e6cab78c9ee",
            "b05055f3002b41e5ab336a7de13788ce",
            "4995ea0c35de431d9d7848bbba39a0f2",
            "f4d9209e169542e18053a16907a4e84b",
            "f8e1f8102e3f4a3cb249725a062b3cd0",
            "35112dfe1e4940f6bbd4f39fb833c706",
            "f67a49e8fafd469b9f602d7ba0e239f0",
            "3d5daaccca5546728b78162ecc90b169",
            "58c5480a2d0e4f04bbe68046bd9c5755",
            "38e3b7bd29804ac49ac29e8653de8732",
            "00060cc1b1f44eb58415b5e65cb7a3d5",
            "bf2dc2e7ec284eb6b45db0951492e066",
            "aed28c70f05b44198092d2aad2e26a4c",
            "6f15791d12fe4e819994700a0085cd95"
          ]
        },
        "outputId": "db054e20-78b0-4954-f0c1-daf63c373656"
      },
      "source": [
        "m = train_bert(filtred_data[:10000],\n",
        "               wiki_toxic_comment_valid,\n",
        "               text_col_name=\"clear_comments\", \n",
        "               label=\"toxic\",\n",
        "               bert_name=\"bert-base-multilingual-cased\" \n",
        "               )"
      ],
      "execution_count": null,
      "outputs": [
        {
          "output_type": "display_data",
          "data": {
            "application/vnd.jupyter.widget-view+json": {
              "model_id": "7f6c8509a9cb4ff8aa1114de6e8066af",
              "version_minor": 0,
              "version_major": 2
            },
            "text/plain": [
              "HBox(children=(FloatProgress(value=0.0, description='Downloading', max=995526.0, style=ProgressStyle(descripti…"
            ]
          },
          "metadata": {
            "tags": []
          }
        },
        {
          "output_type": "stream",
          "text": [
            "\r0it [00:00, ?it/s]"
          ],
          "name": "stderr"
        },
        {
          "output_type": "stream",
          "text": [
            "\n"
          ],
          "name": "stdout"
        },
        {
          "output_type": "stream",
          "text": [
            "10000it [00:06, 1493.68it/s]\n"
          ],
          "name": "stderr"
        },
        {
          "output_type": "stream",
          "text": [
            "Unput sentences number: 10000\n",
            "Filtered(output) sentence number: 8722\n"
          ],
          "name": "stdout"
        },
        {
          "output_type": "stream",
          "text": [
            "2584it [00:02, 981.31it/s]Token indices sequence length is longer than the specified maximum sequence length for this model (936 > 512). Running this sequence through the model will result in indexing errors\n",
            "2782it [00:02, 968.96it/s]Token indices sequence length is longer than the specified maximum sequence length for this model (607 > 512). Running this sequence through the model will result in indexing errors\n",
            "3302it [00:03, 979.97it/s] Token indices sequence length is longer than the specified maximum sequence length for this model (573 > 512). Running this sequence through the model will result in indexing errors\n",
            "6683it [00:06, 913.29it/s]Token indices sequence length is longer than the specified maximum sequence length for this model (516 > 512). Running this sequence through the model will result in indexing errors\n",
            "6871it [00:06, 891.46it/s]Token indices sequence length is longer than the specified maximum sequence length for this model (513 > 512). Running this sequence through the model will result in indexing errors\n",
            "7459it [00:07, 958.10it/s]Token indices sequence length is longer than the specified maximum sequence length for this model (516 > 512). Running this sequence through the model will result in indexing errors\n",
            "8000it [00:08, 978.16it/s]\n"
          ],
          "name": "stderr"
        },
        {
          "output_type": "stream",
          "text": [
            "Unput sentences number: 8000\n",
            "Filtered(output) sentence number: 8000\n"
          ],
          "name": "stdout"
        },
        {
          "output_type": "display_data",
          "data": {
            "application/vnd.jupyter.widget-view+json": {
              "model_id": "bdcfc7304d4b4450aa0fd8b9394ac50c",
              "version_minor": 0,
              "version_major": 2
            },
            "text/plain": [
              "HBox(children=(FloatProgress(value=0.0, description='Downloading', max=625.0, style=ProgressStyle(description_…"
            ]
          },
          "metadata": {
            "tags": []
          }
        },
        {
          "output_type": "stream",
          "text": [
            "\n"
          ],
          "name": "stdout"
        },
        {
          "output_type": "display_data",
          "data": {
            "application/vnd.jupyter.widget-view+json": {
              "model_id": "f67a49e8fafd469b9f602d7ba0e239f0",
              "version_minor": 0,
              "version_major": 2
            },
            "text/plain": [
              "HBox(children=(FloatProgress(value=0.0, description='Downloading', max=714314041.0, style=ProgressStyle(descri…"
            ]
          },
          "metadata": {
            "tags": []
          }
        },
        {
          "output_type": "stream",
          "text": [
            "\n",
            "\n",
            "======== Epoch 1 / 7 ========\n",
            "Training...\n",
            "  Batch    40  of    546.    Elapsed: 0:00:15.\n",
            "  Batch    80  of    546.    Elapsed: 0:00:30.\n",
            "  Batch   120  of    546.    Elapsed: 0:00:46.\n",
            "  Batch   160  of    546.    Elapsed: 0:01:02.\n",
            "  Batch   200  of    546.    Elapsed: 0:01:18.\n",
            "  Batch   240  of    546.    Elapsed: 0:01:35.\n",
            "  Batch   280  of    546.    Elapsed: 0:01:51.\n",
            "  Batch   320  of    546.    Elapsed: 0:02:08.\n",
            "  Batch   360  of    546.    Elapsed: 0:02:24.\n",
            "  Batch   400  of    546.    Elapsed: 0:02:40.\n",
            "  Batch   440  of    546.    Elapsed: 0:02:57.\n",
            "  Batch   480  of    546.    Elapsed: 0:03:13.\n",
            "  Batch   520  of    546.    Elapsed: 0:03:30.\n",
            "\n",
            "  Average training loss: 0.17\n",
            "  Training epcoh took: 0:03:40\n",
            "\n",
            "Running Validation...\n",
            "              precision    recall  f1-score   support\n",
            "\n",
            "           0       0.85      1.00      0.92      6770\n",
            "           1       1.00      0.00      0.00      1230\n",
            "\n",
            "    accuracy                           0.85      8000\n",
            "   macro avg       0.92      0.50      0.46      8000\n",
            "weighted avg       0.87      0.85      0.78      8000\n",
            "\n",
            "  F1: 0.8465\n",
            "  ROC AUC: 0.5008\n",
            "  Validation took: 0:01:07\n",
            "\n",
            "======== Epoch 2 / 7 ========\n",
            "Training...\n",
            "  Batch    40  of    546.    Elapsed: 0:00:16.\n",
            "  Batch    80  of    546.    Elapsed: 0:00:33.\n",
            "  Batch   120  of    546.    Elapsed: 0:00:49.\n",
            "  Batch   160  of    546.    Elapsed: 0:01:06.\n",
            "  Batch   200  of    546.    Elapsed: 0:01:22.\n",
            "  Batch   240  of    546.    Elapsed: 0:01:38.\n",
            "  Batch   280  of    546.    Elapsed: 0:01:55.\n",
            "  Batch   320  of    546.    Elapsed: 0:02:11.\n",
            "  Batch   360  of    546.    Elapsed: 0:02:28.\n",
            "  Batch   400  of    546.    Elapsed: 0:02:44.\n",
            "  Batch   440  of    546.    Elapsed: 0:03:00.\n",
            "  Batch   480  of    546.    Elapsed: 0:03:17.\n",
            "  Batch   520  of    546.    Elapsed: 0:03:33.\n",
            "\n",
            "  Average training loss: 0.09\n",
            "  Training epcoh took: 0:03:44\n",
            "\n",
            "Running Validation...\n",
            "              precision    recall  f1-score   support\n",
            "\n",
            "           0       0.86      0.99      0.92      6770\n",
            "           1       0.73      0.13      0.22      1230\n",
            "\n",
            "    accuracy                           0.86      8000\n",
            "   macro avg       0.79      0.56      0.57      8000\n",
            "weighted avg       0.84      0.86      0.81      8000\n",
            "\n",
            "  F1: 0.8588\n",
            "  ROC AUC: 0.5609\n",
            "  Validation took: 0:01:07\n",
            "\n",
            "======== Epoch 3 / 7 ========\n",
            "Training...\n",
            "  Batch    40  of    546.    Elapsed: 0:00:16.\n",
            "  Batch    80  of    546.    Elapsed: 0:00:33.\n",
            "  Batch   120  of    546.    Elapsed: 0:00:49.\n",
            "  Batch   160  of    546.    Elapsed: 0:01:05.\n",
            "  Batch   200  of    546.    Elapsed: 0:01:22.\n",
            "  Batch   240  of    546.    Elapsed: 0:01:38.\n",
            "  Batch   280  of    546.    Elapsed: 0:01:54.\n",
            "  Batch   320  of    546.    Elapsed: 0:02:11.\n",
            "  Batch   360  of    546.    Elapsed: 0:02:27.\n",
            "  Batch   400  of    546.    Elapsed: 0:02:43.\n",
            "  Batch   440  of    546.    Elapsed: 0:03:00.\n",
            "  Batch   480  of    546.    Elapsed: 0:03:16.\n",
            "  Batch   520  of    546.    Elapsed: 0:03:32.\n",
            "\n",
            "  Average training loss: 0.06\n",
            "  Training epcoh took: 0:03:43\n",
            "\n",
            "Running Validation...\n",
            "              precision    recall  f1-score   support\n",
            "\n",
            "           0       0.88      0.97      0.92      6770\n",
            "           1       0.64      0.29      0.40      1230\n",
            "\n",
            "    accuracy                           0.87      8000\n",
            "   macro avg       0.76      0.63      0.66      8000\n",
            "weighted avg       0.84      0.87      0.84      8000\n",
            "\n",
            "  F1: 0.8654\n",
            "  ROC AUC: 0.6294\n",
            "  Validation took: 0:01:07\n",
            "\n",
            "======== Epoch 4 / 7 ========\n",
            "Training...\n",
            "  Batch    40  of    546.    Elapsed: 0:00:16.\n",
            "  Batch    80  of    546.    Elapsed: 0:00:33.\n",
            "  Batch   120  of    546.    Elapsed: 0:00:49.\n",
            "  Batch   160  of    546.    Elapsed: 0:01:05.\n",
            "  Batch   200  of    546.    Elapsed: 0:01:21.\n",
            "  Batch   240  of    546.    Elapsed: 0:01:38.\n",
            "  Batch   280  of    546.    Elapsed: 0:01:54.\n",
            "  Batch   320  of    546.    Elapsed: 0:02:10.\n",
            "  Batch   360  of    546.    Elapsed: 0:02:27.\n",
            "  Batch   400  of    546.    Elapsed: 0:02:43.\n",
            "  Batch   440  of    546.    Elapsed: 0:02:59.\n",
            "  Batch   480  of    546.    Elapsed: 0:03:16.\n",
            "  Batch   520  of    546.    Elapsed: 0:03:32.\n",
            "\n",
            "  Average training loss: 0.02\n",
            "  Training epcoh took: 0:03:42\n",
            "\n",
            "Running Validation...\n",
            "              precision    recall  f1-score   support\n",
            "\n",
            "           0       0.88      0.97      0.92      6770\n",
            "           1       0.62      0.28      0.39      1230\n",
            "\n",
            "    accuracy                           0.86      8000\n",
            "   macro avg       0.75      0.63      0.66      8000\n",
            "weighted avg       0.84      0.86      0.84      8000\n",
            "\n",
            "  F1: 0.8629\n",
            "  ROC AUC: 0.6259\n",
            "  Validation took: 0:01:07\n",
            "\n",
            "======== Epoch 5 / 7 ========\n",
            "Training...\n",
            "  Batch    40  of    546.    Elapsed: 0:00:16.\n",
            "  Batch    80  of    546.    Elapsed: 0:00:33.\n",
            "  Batch   120  of    546.    Elapsed: 0:00:49.\n",
            "  Batch   160  of    546.    Elapsed: 0:01:05.\n",
            "  Batch   200  of    546.    Elapsed: 0:01:21.\n",
            "  Batch   240  of    546.    Elapsed: 0:01:38.\n",
            "  Batch   280  of    546.    Elapsed: 0:01:54.\n",
            "  Batch   320  of    546.    Elapsed: 0:02:10.\n",
            "  Batch   360  of    546.    Elapsed: 0:02:26.\n",
            "  Batch   400  of    546.    Elapsed: 0:02:43.\n",
            "  Batch   440  of    546.    Elapsed: 0:02:59.\n",
            "  Batch   480  of    546.    Elapsed: 0:03:15.\n",
            "  Batch   520  of    546.    Elapsed: 0:03:31.\n",
            "\n",
            "  Average training loss: 0.01\n",
            "  Training epcoh took: 0:03:42\n",
            "\n",
            "Running Validation...\n",
            "              precision    recall  f1-score   support\n",
            "\n",
            "           0       0.87      0.98      0.92      6770\n",
            "           1       0.66      0.21      0.32      1230\n",
            "\n",
            "    accuracy                           0.86      8000\n",
            "   macro avg       0.77      0.59      0.62      8000\n",
            "weighted avg       0.84      0.86      0.83      8000\n",
            "\n",
            "  F1: 0.8618\n",
            "  ROC AUC: 0.5946\n",
            "  Validation took: 0:01:07\n",
            "\n",
            "======== Epoch 6 / 7 ========\n",
            "Training...\n",
            "  Batch    40  of    546.    Elapsed: 0:00:16.\n"
          ],
          "name": "stdout"
        },
        {
          "output_type": "error",
          "ename": "KeyboardInterrupt",
          "evalue": "ignored",
          "traceback": [
            "\u001b[0;31m---------------------------------------------------------------------------\u001b[0m",
            "\u001b[0;31mKeyboardInterrupt\u001b[0m                         Traceback (most recent call last)",
            "\u001b[0;32m<ipython-input-32-49596cf0e863>\u001b[0m in \u001b[0;36m<module>\u001b[0;34m()\u001b[0m\n\u001b[1;32m      3\u001b[0m                \u001b[0mtext_col_name\u001b[0m\u001b[0;34m=\u001b[0m\u001b[0;34m\"clear_comments\"\u001b[0m\u001b[0;34m,\u001b[0m\u001b[0;34m\u001b[0m\u001b[0;34m\u001b[0m\u001b[0m\n\u001b[1;32m      4\u001b[0m                \u001b[0mlabel\u001b[0m\u001b[0;34m=\u001b[0m\u001b[0;34m\"toxic\"\u001b[0m\u001b[0;34m,\u001b[0m\u001b[0;34m\u001b[0m\u001b[0;34m\u001b[0m\u001b[0m\n\u001b[0;32m----> 5\u001b[0;31m                \u001b[0mbert_name\u001b[0m\u001b[0;34m=\u001b[0m\u001b[0;34m\"bert-base-multilingual-cased\"\u001b[0m\u001b[0;34m\u001b[0m\u001b[0;34m\u001b[0m\u001b[0m\n\u001b[0m\u001b[1;32m      6\u001b[0m                )\n",
            "\u001b[0;32m<ipython-input-31-a91e3f32b347>\u001b[0m in \u001b[0;36mtrain_bert\u001b[0;34m(train, test, text_col_name, label, device, batch_size, epochs, bert_name)\u001b[0m\n\u001b[1;32m     79\u001b[0m           \u001b[0membeddings\u001b[0m\u001b[0;34m.\u001b[0m\u001b[0mappend\u001b[0m\u001b[0;34m(\u001b[0m\u001b[0moutputs\u001b[0m\u001b[0;34m[\u001b[0m\u001b[0;36m2\u001b[0m\u001b[0;34m]\u001b[0m\u001b[0;34m[\u001b[0m\u001b[0;34m-\u001b[0m\u001b[0;36m1\u001b[0m\u001b[0;34m]\u001b[0m\u001b[0;34m[\u001b[0m\u001b[0;34m:\u001b[0m\u001b[0;34m,\u001b[0m\u001b[0;36m0\u001b[0m\u001b[0;34m,\u001b[0m\u001b[0;34m:\u001b[0m\u001b[0;34m]\u001b[0m\u001b[0;34m)\u001b[0m\u001b[0;34m\u001b[0m\u001b[0;34m\u001b[0m\u001b[0m\n\u001b[1;32m     80\u001b[0m           \u001b[0mtotal_loss\u001b[0m \u001b[0;34m+=\u001b[0m \u001b[0mloss\u001b[0m\u001b[0;34m.\u001b[0m\u001b[0mitem\u001b[0m\u001b[0;34m(\u001b[0m\u001b[0;34m)\u001b[0m\u001b[0;34m\u001b[0m\u001b[0;34m\u001b[0m\u001b[0m\n\u001b[0;32m---> 81\u001b[0;31m           \u001b[0mloss\u001b[0m\u001b[0;34m.\u001b[0m\u001b[0mbackward\u001b[0m\u001b[0;34m(\u001b[0m\u001b[0;34m)\u001b[0m\u001b[0;34m\u001b[0m\u001b[0;34m\u001b[0m\u001b[0m\n\u001b[0m\u001b[1;32m     82\u001b[0m           \u001b[0mtorch\u001b[0m\u001b[0;34m.\u001b[0m\u001b[0mnn\u001b[0m\u001b[0;34m.\u001b[0m\u001b[0mutils\u001b[0m\u001b[0;34m.\u001b[0m\u001b[0mclip_grad_norm_\u001b[0m\u001b[0;34m(\u001b[0m\u001b[0mmodel\u001b[0m\u001b[0;34m.\u001b[0m\u001b[0mparameters\u001b[0m\u001b[0;34m(\u001b[0m\u001b[0;34m)\u001b[0m\u001b[0;34m,\u001b[0m \u001b[0;36m1.0\u001b[0m\u001b[0;34m)\u001b[0m\u001b[0;34m\u001b[0m\u001b[0;34m\u001b[0m\u001b[0m\n\u001b[1;32m     83\u001b[0m \u001b[0;34m\u001b[0m\u001b[0m\n",
            "\u001b[0;32m/usr/local/lib/python3.6/dist-packages/torch/tensor.py\u001b[0m in \u001b[0;36mbackward\u001b[0;34m(self, gradient, retain_graph, create_graph)\u001b[0m\n\u001b[1;32m    196\u001b[0m                 \u001b[0mproducts\u001b[0m\u001b[0;34m.\u001b[0m \u001b[0mDefaults\u001b[0m \u001b[0mto\u001b[0m\u001b[0;31m \u001b[0m\u001b[0;31m`\u001b[0m\u001b[0;31m`\u001b[0m\u001b[0;32mFalse\u001b[0m\u001b[0;31m`\u001b[0m\u001b[0;31m`\u001b[0m\u001b[0;34m.\u001b[0m\u001b[0;34m\u001b[0m\u001b[0;34m\u001b[0m\u001b[0m\n\u001b[1;32m    197\u001b[0m         \"\"\"\n\u001b[0;32m--> 198\u001b[0;31m         \u001b[0mtorch\u001b[0m\u001b[0;34m.\u001b[0m\u001b[0mautograd\u001b[0m\u001b[0;34m.\u001b[0m\u001b[0mbackward\u001b[0m\u001b[0;34m(\u001b[0m\u001b[0mself\u001b[0m\u001b[0;34m,\u001b[0m \u001b[0mgradient\u001b[0m\u001b[0;34m,\u001b[0m \u001b[0mretain_graph\u001b[0m\u001b[0;34m,\u001b[0m \u001b[0mcreate_graph\u001b[0m\u001b[0;34m)\u001b[0m\u001b[0;34m\u001b[0m\u001b[0;34m\u001b[0m\u001b[0m\n\u001b[0m\u001b[1;32m    199\u001b[0m \u001b[0;34m\u001b[0m\u001b[0m\n\u001b[1;32m    200\u001b[0m     \u001b[0;32mdef\u001b[0m \u001b[0mregister_hook\u001b[0m\u001b[0;34m(\u001b[0m\u001b[0mself\u001b[0m\u001b[0;34m,\u001b[0m \u001b[0mhook\u001b[0m\u001b[0;34m)\u001b[0m\u001b[0;34m:\u001b[0m\u001b[0;34m\u001b[0m\u001b[0;34m\u001b[0m\u001b[0m\n",
            "\u001b[0;32m/usr/local/lib/python3.6/dist-packages/torch/autograd/__init__.py\u001b[0m in \u001b[0;36mbackward\u001b[0;34m(tensors, grad_tensors, retain_graph, create_graph, grad_variables)\u001b[0m\n\u001b[1;32m     98\u001b[0m     Variable._execution_engine.run_backward(\n\u001b[1;32m     99\u001b[0m         \u001b[0mtensors\u001b[0m\u001b[0;34m,\u001b[0m \u001b[0mgrad_tensors\u001b[0m\u001b[0;34m,\u001b[0m \u001b[0mretain_graph\u001b[0m\u001b[0;34m,\u001b[0m \u001b[0mcreate_graph\u001b[0m\u001b[0;34m,\u001b[0m\u001b[0;34m\u001b[0m\u001b[0;34m\u001b[0m\u001b[0m\n\u001b[0;32m--> 100\u001b[0;31m         allow_unreachable=True)  # allow_unreachable flag\n\u001b[0m\u001b[1;32m    101\u001b[0m \u001b[0;34m\u001b[0m\u001b[0m\n\u001b[1;32m    102\u001b[0m \u001b[0;34m\u001b[0m\u001b[0m\n",
            "\u001b[0;31mKeyboardInterrupt\u001b[0m: "
          ]
        }
      ]
    },
    {
      "cell_type": "markdown",
      "metadata": {
        "id": "xuxpJ0doVkdE",
        "colab_type": "text"
      },
      "source": [
        "Лосс уже почти не падал, а у меня заканчиволось время, поэтому я его остановила\n",
        "\n",
        "Лучшее, чего удалось добиться: **ROC AUC: 0.5946**"
      ]
    },
    {
      "cell_type": "markdown",
      "metadata": {
        "id": "lACrtd_CmbL6",
        "colab_type": "text"
      },
      "source": [
        "#### balanced random sampling"
      ]
    },
    {
      "cell_type": "markdown",
      "metadata": {
        "id": "BA2_MlWsXcDM",
        "colab_type": "text"
      },
      "source": [
        "Добавим преобработку"
      ]
    },
    {
      "cell_type": "code",
      "metadata": {
        "id": "QAoXCGeklYD2",
        "colab_type": "code",
        "colab": {}
      },
      "source": [
        "k = 5000\n",
        "k_pos_example = filtred_data[filtred_data['toxic']==1].sample(k)\n",
        "k_neg_example = filtred_data[filtred_data['toxic']!=1].sample(k)\n",
        "sub_sampled_data = pd.concat([k_pos_example, k_neg_example])"
      ],
      "execution_count": 44,
      "outputs": []
    },
    {
      "cell_type": "code",
      "metadata": {
        "id": "Feadvub8UhHO",
        "colab_type": "code",
        "colab": {
          "base_uri": "https://localhost:8080/",
          "height": 1000,
          "referenced_widgets": [
            "a5ad8374fd174c2b9023c6008bd5da76",
            "98f03fbe9364468ca5be1cc9215d1907",
            "0e63cf0acb4645869dc0d38098e6adff",
            "29db977d8ba1419e97dcd6c34dbc53bc",
            "61128dbddd0c491ca31d248b1f138615",
            "8b284eb3c03a486b8c36d236a7ff4478",
            "e6101babe9054986b90a10099c07daf5",
            "583fb3ef7d6c4523bc3b501d6266d384",
            "bb5ebb0ffa84406584d70cf9f7c5cfa6",
            "5ddb6eab5e69421d91ec69a1026bc842",
            "55709c191ce04e6f91a50b59b28128cb",
            "c0af4aebde56410996485dfbba8ff6c1",
            "de0b099eadb04ac783e836010040326d",
            "3a0d27029c64492c8762ae612fd0bdc0",
            "7afaa38d6807473c9348f27c8f820edc",
            "ffdc81abf0a04c75a5b8f7efa1e5dc49",
            "2c7f5eb48b354bac845263aaef6ddf35",
            "ee5480ec66d84008bf94efe7594e2059",
            "fd5a9fdeb30d49a6b12642662c429bd6",
            "637cbf1063994296bbdac821af3f0849",
            "04bf7c3cbb40452287cb92f1799c9278",
            "f5c16dfa3caa4f5b82aa5bf4fde1327b",
            "c875536c1df940d7a24a0cca5d96808e",
            "669ca8f68e8c47f79885a179555bf636"
          ]
        },
        "outputId": "0a1c19f2-15d6-4296-8bf2-495a42e4085a"
      },
      "source": [
        "m = train_bert(sub_sampled_data,\n",
        "               wiki_toxic_comment_valid,\n",
        "               text_col_name=\"clear_comments\", \n",
        "               label=\"toxic\",\n",
        "               bert_name=\"bert-base-multilingual-cased\" \n",
        "               )"
      ],
      "execution_count": 34,
      "outputs": [
        {
          "output_type": "display_data",
          "data": {
            "application/vnd.jupyter.widget-view+json": {
              "model_id": "a5ad8374fd174c2b9023c6008bd5da76",
              "version_minor": 0,
              "version_major": 2
            },
            "text/plain": [
              "HBox(children=(FloatProgress(value=0.0, description='Downloading', max=995526.0, style=ProgressStyle(descripti…"
            ]
          },
          "metadata": {
            "tags": []
          }
        },
        {
          "output_type": "stream",
          "text": [
            "\n"
          ],
          "name": "stdout"
        },
        {
          "output_type": "stream",
          "text": [
            "10000it [00:07, 1274.75it/s]\n"
          ],
          "name": "stderr"
        },
        {
          "output_type": "stream",
          "text": [
            "Unput sentences number: 10000\n",
            "Filtered(output) sentence number: 8854\n"
          ],
          "name": "stdout"
        },
        {
          "output_type": "stream",
          "text": [
            "2593it [00:03, 726.22it/s]Token indices sequence length is longer than the specified maximum sequence length for this model (936 > 512). Running this sequence through the model will result in indexing errors\n",
            "2835it [00:03, 775.20it/s]Token indices sequence length is longer than the specified maximum sequence length for this model (607 > 512). Running this sequence through the model will result in indexing errors\n",
            "3313it [00:04, 750.30it/s]Token indices sequence length is longer than the specified maximum sequence length for this model (573 > 512). Running this sequence through the model will result in indexing errors\n",
            "6678it [00:08, 725.14it/s]Token indices sequence length is longer than the specified maximum sequence length for this model (516 > 512). Running this sequence through the model will result in indexing errors\n",
            "6827it [00:08, 707.35it/s]Token indices sequence length is longer than the specified maximum sequence length for this model (513 > 512). Running this sequence through the model will result in indexing errors\n",
            "7438it [00:09, 757.18it/s]Token indices sequence length is longer than the specified maximum sequence length for this model (516 > 512). Running this sequence through the model will result in indexing errors\n",
            "8000it [00:10, 761.02it/s]\n"
          ],
          "name": "stderr"
        },
        {
          "output_type": "stream",
          "text": [
            "Unput sentences number: 8000\n",
            "Filtered(output) sentence number: 8000\n"
          ],
          "name": "stdout"
        },
        {
          "output_type": "display_data",
          "data": {
            "application/vnd.jupyter.widget-view+json": {
              "model_id": "bb5ebb0ffa84406584d70cf9f7c5cfa6",
              "version_minor": 0,
              "version_major": 2
            },
            "text/plain": [
              "HBox(children=(FloatProgress(value=0.0, description='Downloading', max=625.0, style=ProgressStyle(description_…"
            ]
          },
          "metadata": {
            "tags": []
          }
        },
        {
          "output_type": "stream",
          "text": [
            "\n"
          ],
          "name": "stdout"
        },
        {
          "output_type": "display_data",
          "data": {
            "application/vnd.jupyter.widget-view+json": {
              "model_id": "2c7f5eb48b354bac845263aaef6ddf35",
              "version_minor": 0,
              "version_major": 2
            },
            "text/plain": [
              "HBox(children=(FloatProgress(value=0.0, description='Downloading', max=714314041.0, style=ProgressStyle(descri…"
            ]
          },
          "metadata": {
            "tags": []
          }
        },
        {
          "output_type": "stream",
          "text": [
            "\n",
            "\n",
            "======== Epoch 1 / 7 ========\n",
            "Training...\n",
            "  Batch    40  of    554.    Elapsed: 0:00:15.\n",
            "  Batch    80  of    554.    Elapsed: 0:00:31.\n",
            "  Batch   120  of    554.    Elapsed: 0:00:46.\n",
            "  Batch   160  of    554.    Elapsed: 0:01:02.\n",
            "  Batch   200  of    554.    Elapsed: 0:01:18.\n",
            "  Batch   240  of    554.    Elapsed: 0:01:34.\n",
            "  Batch   280  of    554.    Elapsed: 0:01:51.\n",
            "  Batch   320  of    554.    Elapsed: 0:02:08.\n",
            "  Batch   360  of    554.    Elapsed: 0:02:25.\n",
            "  Batch   400  of    554.    Elapsed: 0:02:41.\n",
            "  Batch   440  of    554.    Elapsed: 0:02:57.\n",
            "  Batch   480  of    554.    Elapsed: 0:03:14.\n",
            "  Batch   520  of    554.    Elapsed: 0:03:30.\n",
            "\n",
            "  Average training loss: 0.40\n",
            "  Training epcoh took: 0:03:44\n",
            "\n",
            "Running Validation...\n",
            "              precision    recall  f1-score   support\n",
            "\n",
            "           0       0.90      0.93      0.91      6770\n",
            "           1       0.52      0.42      0.46      1230\n",
            "\n",
            "    accuracy                           0.85      8000\n",
            "   macro avg       0.71      0.67      0.69      8000\n",
            "weighted avg       0.84      0.85      0.84      8000\n",
            "\n",
            "  F1: 0.8515\n",
            "  ROC AUC: 0.6744\n",
            "  Validation took: 0:01:07\n",
            "\n",
            "======== Epoch 2 / 7 ========\n",
            "Training...\n",
            "  Batch    40  of    554.    Elapsed: 0:00:16.\n",
            "  Batch    80  of    554.    Elapsed: 0:00:33.\n",
            "  Batch   120  of    554.    Elapsed: 0:00:49.\n",
            "  Batch   160  of    554.    Elapsed: 0:01:06.\n",
            "  Batch   200  of    554.    Elapsed: 0:01:22.\n",
            "  Batch   240  of    554.    Elapsed: 0:01:39.\n",
            "  Batch   280  of    554.    Elapsed: 0:01:55.\n",
            "  Batch   320  of    554.    Elapsed: 0:02:12.\n",
            "  Batch   360  of    554.    Elapsed: 0:02:28.\n",
            "  Batch   400  of    554.    Elapsed: 0:02:45.\n",
            "  Batch   440  of    554.    Elapsed: 0:03:01.\n",
            "  Batch   480  of    554.    Elapsed: 0:03:18.\n",
            "  Batch   520  of    554.    Elapsed: 0:03:34.\n",
            "\n",
            "  Average training loss: 0.25\n",
            "  Training epcoh took: 0:03:48\n",
            "\n",
            "Running Validation...\n",
            "              precision    recall  f1-score   support\n",
            "\n",
            "           0       0.89      0.92      0.91      6770\n",
            "           1       0.48      0.39      0.43      1230\n",
            "\n",
            "    accuracy                           0.84      8000\n",
            "   macro avg       0.68      0.66      0.67      8000\n",
            "weighted avg       0.83      0.84      0.83      8000\n",
            "\n",
            "  F1: 0.8401\n",
            "  ROC AUC: 0.6557\n",
            "  Validation took: 0:01:07\n",
            "\n",
            "======== Epoch 3 / 7 ========\n",
            "Training...\n",
            "  Batch    40  of    554.    Elapsed: 0:00:16.\n",
            "  Batch    80  of    554.    Elapsed: 0:00:33.\n",
            "  Batch   120  of    554.    Elapsed: 0:00:49.\n",
            "  Batch   160  of    554.    Elapsed: 0:01:06.\n",
            "  Batch   200  of    554.    Elapsed: 0:01:22.\n",
            "  Batch   240  of    554.    Elapsed: 0:01:38.\n",
            "  Batch   280  of    554.    Elapsed: 0:01:55.\n",
            "  Batch   320  of    554.    Elapsed: 0:02:11.\n",
            "  Batch   360  of    554.    Elapsed: 0:02:28.\n",
            "  Batch   400  of    554.    Elapsed: 0:02:44.\n",
            "  Batch   440  of    554.    Elapsed: 0:03:01.\n",
            "  Batch   480  of    554.    Elapsed: 0:03:17.\n",
            "  Batch   520  of    554.    Elapsed: 0:03:34.\n",
            "\n",
            "  Average training loss: 0.18\n",
            "  Training epcoh took: 0:03:47\n",
            "\n",
            "Running Validation...\n",
            "              precision    recall  f1-score   support\n",
            "\n",
            "           0       0.95      0.73      0.83      6770\n",
            "           1       0.35      0.79      0.48      1230\n",
            "\n",
            "    accuracy                           0.74      8000\n",
            "   macro avg       0.65      0.76      0.66      8000\n",
            "weighted avg       0.86      0.74      0.77      8000\n",
            "\n",
            "  F1: 0.7404\n",
            "  ROC AUC: 0.7618\n",
            "  Validation took: 0:01:07\n",
            "\n",
            "======== Epoch 4 / 7 ========\n",
            "Training...\n",
            "  Batch    40  of    554.    Elapsed: 0:00:16.\n",
            "  Batch    80  of    554.    Elapsed: 0:00:33.\n",
            "  Batch   120  of    554.    Elapsed: 0:00:49.\n",
            "  Batch   160  of    554.    Elapsed: 0:01:06.\n",
            "  Batch   200  of    554.    Elapsed: 0:01:22.\n",
            "  Batch   240  of    554.    Elapsed: 0:01:38.\n",
            "  Batch   280  of    554.    Elapsed: 0:01:55.\n",
            "  Batch   320  of    554.    Elapsed: 0:02:11.\n",
            "  Batch   360  of    554.    Elapsed: 0:02:28.\n",
            "  Batch   400  of    554.    Elapsed: 0:02:44.\n",
            "  Batch   440  of    554.    Elapsed: 0:03:00.\n",
            "  Batch   480  of    554.    Elapsed: 0:03:17.\n",
            "  Batch   520  of    554.    Elapsed: 0:03:33.\n",
            "\n",
            "  Average training loss: 0.13\n",
            "  Training epcoh took: 0:03:47\n",
            "\n",
            "Running Validation...\n",
            "              precision    recall  f1-score   support\n",
            "\n",
            "           0       0.92      0.84      0.88      6770\n",
            "           1       0.41      0.60      0.49      1230\n",
            "\n",
            "    accuracy                           0.80      8000\n",
            "   macro avg       0.66      0.72      0.68      8000\n",
            "weighted avg       0.84      0.80      0.82      8000\n",
            "\n",
            "  F1: 0.8043\n",
            "  ROC AUC: 0.7207\n",
            "  Validation took: 0:01:07\n",
            "\n",
            "======== Epoch 5 / 7 ========\n",
            "Training...\n",
            "  Batch    40  of    554.    Elapsed: 0:00:16.\n",
            "  Batch    80  of    554.    Elapsed: 0:00:33.\n",
            "  Batch   120  of    554.    Elapsed: 0:00:49.\n",
            "  Batch   160  of    554.    Elapsed: 0:01:06.\n",
            "  Batch   200  of    554.    Elapsed: 0:01:22.\n",
            "  Batch   240  of    554.    Elapsed: 0:01:38.\n",
            "  Batch   280  of    554.    Elapsed: 0:01:54.\n",
            "  Batch   320  of    554.    Elapsed: 0:02:11.\n",
            "  Batch   360  of    554.    Elapsed: 0:02:27.\n",
            "  Batch   400  of    554.    Elapsed: 0:02:44.\n",
            "  Batch   440  of    554.    Elapsed: 0:03:00.\n",
            "  Batch   480  of    554.    Elapsed: 0:03:16.\n",
            "  Batch   520  of    554.    Elapsed: 0:03:33.\n",
            "\n",
            "  Average training loss: 0.09\n",
            "  Training epcoh took: 0:03:46\n",
            "\n",
            "Running Validation...\n",
            "              precision    recall  f1-score   support\n",
            "\n",
            "           0       0.91      0.88      0.89      6770\n",
            "           1       0.43      0.49      0.46      1230\n",
            "\n",
            "    accuracy                           0.82      8000\n",
            "   macro avg       0.67      0.69      0.67      8000\n",
            "weighted avg       0.83      0.82      0.83      8000\n",
            "\n",
            "  F1: 0.8201\n",
            "  ROC AUC: 0.6858\n",
            "  Validation took: 0:01:07\n",
            "\n",
            "======== Epoch 6 / 7 ========\n",
            "Training...\n",
            "  Batch    40  of    554.    Elapsed: 0:00:16.\n",
            "  Batch    80  of    554.    Elapsed: 0:00:33.\n",
            "  Batch   120  of    554.    Elapsed: 0:00:49.\n",
            "  Batch   160  of    554.    Elapsed: 0:01:05.\n",
            "  Batch   200  of    554.    Elapsed: 0:01:22.\n",
            "  Batch   240  of    554.    Elapsed: 0:01:38.\n",
            "  Batch   280  of    554.    Elapsed: 0:01:54.\n",
            "  Batch   320  of    554.    Elapsed: 0:02:10.\n",
            "  Batch   360  of    554.    Elapsed: 0:02:27.\n",
            "  Batch   400  of    554.    Elapsed: 0:02:43.\n",
            "  Batch   440  of    554.    Elapsed: 0:02:59.\n",
            "  Batch   480  of    554.    Elapsed: 0:03:16.\n",
            "  Batch   520  of    554.    Elapsed: 0:03:32.\n",
            "\n",
            "  Average training loss: 0.05\n",
            "  Training epcoh took: 0:03:46\n",
            "\n",
            "Running Validation...\n",
            "              precision    recall  f1-score   support\n",
            "\n",
            "           0       0.91      0.87      0.89      6770\n",
            "           1       0.42      0.51      0.46      1230\n",
            "\n",
            "    accuracy                           0.82      8000\n",
            "   macro avg       0.66      0.69      0.68      8000\n",
            "weighted avg       0.83      0.82      0.82      8000\n",
            "\n",
            "  F1: 0.8165\n",
            "  ROC AUC: 0.6930\n",
            "  Validation took: 0:01:07\n",
            "\n",
            "======== Epoch 7 / 7 ========\n",
            "Training...\n",
            "  Batch    40  of    554.    Elapsed: 0:00:16.\n",
            "  Batch    80  of    554.    Elapsed: 0:00:33.\n",
            "  Batch   120  of    554.    Elapsed: 0:00:49.\n",
            "  Batch   160  of    554.    Elapsed: 0:01:05.\n",
            "  Batch   200  of    554.    Elapsed: 0:01:22.\n",
            "  Batch   240  of    554.    Elapsed: 0:01:38.\n",
            "  Batch   280  of    554.    Elapsed: 0:01:54.\n",
            "  Batch   320  of    554.    Elapsed: 0:02:11.\n",
            "  Batch   360  of    554.    Elapsed: 0:02:27.\n",
            "  Batch   400  of    554.    Elapsed: 0:02:43.\n",
            "  Batch   440  of    554.    Elapsed: 0:02:59.\n",
            "  Batch   480  of    554.    Elapsed: 0:03:16.\n",
            "  Batch   520  of    554.    Elapsed: 0:03:32.\n",
            "\n",
            "  Average training loss: 0.03\n",
            "  Training epcoh took: 0:03:46\n",
            "\n",
            "Running Validation...\n",
            "              precision    recall  f1-score   support\n",
            "\n",
            "           0       0.90      0.88      0.89      6770\n",
            "           1       0.42      0.47      0.45      1230\n",
            "\n",
            "    accuracy                           0.82      8000\n",
            "   macro avg       0.66      0.68      0.67      8000\n",
            "weighted avg       0.83      0.82      0.82      8000\n",
            "\n",
            "  F1: 0.8204\n",
            "  ROC AUC: 0.6773\n",
            "  Validation took: 0:01:07\n",
            "\n",
            "Training complete!\n"
          ],
          "name": "stdout"
        }
      ]
    },
    {
      "cell_type": "markdown",
      "metadata": {
        "id": "IIRF5QOurovP",
        "colab_type": "text"
      },
      "source": [
        "Лучший результат: \n",
        "\n",
        "F1: 0.7404\n",
        "  \n",
        "ROC AUC: 0.7618"
      ]
    },
    {
      "cell_type": "markdown",
      "metadata": {
        "id": "Ew1sgl9KpHbS",
        "colab_type": "text"
      },
      "source": [
        "Обучимся на максимуме данных, которые у нас есть (токсичные без типа токсичности)"
      ]
    },
    {
      "cell_type": "code",
      "metadata": {
        "id": "afDRG-iJVmdl",
        "colab_type": "code",
        "colab": {}
      },
      "source": [
        "k = len(filtred_data[filtred_data['toxic']==1])\n",
        "k_pos_example = filtred_data[filtred_data['toxic']==1].sample(k)\n",
        "k_neg_example = filtred_data[filtred_data['toxic']!=1].sample(k)\n",
        "sub_sampled_data = pd.concat([k_pos_example, k_neg_example])"
      ],
      "execution_count": 47,
      "outputs": []
    },
    {
      "cell_type": "code",
      "metadata": {
        "id": "XHYY2iSeZAA3",
        "colab_type": "code",
        "colab": {
          "base_uri": "https://localhost:8080/",
          "height": 1000
        },
        "outputId": "dbca1af0-666a-473b-f966-f4f3141adcf4"
      },
      "source": [
        "m = train_bert(sub_sampled_data,\n",
        "               wiki_toxic_comment_valid,\n",
        "               text_col_name=\"clear_comments\", \n",
        "               label=\"toxic\",\n",
        "               bert_name=\"bert-base-multilingual-cased\" \n",
        "               )"
      ],
      "execution_count": 48,
      "outputs": [
        {
          "output_type": "stream",
          "text": [
            "13922it [00:09, 1421.96it/s]\n"
          ],
          "name": "stderr"
        },
        {
          "output_type": "stream",
          "text": [
            "Unput sentences number: 13922\n",
            "Filtered(output) sentence number: 12341\n"
          ],
          "name": "stdout"
        },
        {
          "output_type": "stream",
          "text": [
            "2577it [00:03, 853.52it/s]Token indices sequence length is longer than the specified maximum sequence length for this model (936 > 512). Running this sequence through the model will result in indexing errors\n",
            "2847it [00:03, 874.79it/s]Token indices sequence length is longer than the specified maximum sequence length for this model (607 > 512). Running this sequence through the model will result in indexing errors\n",
            "3293it [00:03, 837.48it/s]Token indices sequence length is longer than the specified maximum sequence length for this model (573 > 512). Running this sequence through the model will result in indexing errors\n",
            "6699it [00:07, 786.78it/s]Token indices sequence length is longer than the specified maximum sequence length for this model (516 > 512). Running this sequence through the model will result in indexing errors\n",
            "6871it [00:08, 791.60it/s]Token indices sequence length is longer than the specified maximum sequence length for this model (513 > 512). Running this sequence through the model will result in indexing errors\n",
            "7406it [00:08, 861.17it/s]Token indices sequence length is longer than the specified maximum sequence length for this model (516 > 512). Running this sequence through the model will result in indexing errors\n",
            "8000it [00:09, 850.22it/s]\n"
          ],
          "name": "stderr"
        },
        {
          "output_type": "stream",
          "text": [
            "Unput sentences number: 8000\n",
            "Filtered(output) sentence number: 8000\n",
            "\n",
            "======== Epoch 1 / 7 ========\n",
            "Training...\n",
            "  Batch    40  of    772.    Elapsed: 0:00:15.\n",
            "  Batch    80  of    772.    Elapsed: 0:00:30.\n",
            "  Batch   120  of    772.    Elapsed: 0:00:46.\n",
            "  Batch   160  of    772.    Elapsed: 0:01:02.\n",
            "  Batch   200  of    772.    Elapsed: 0:01:17.\n",
            "  Batch   240  of    772.    Elapsed: 0:01:33.\n",
            "  Batch   280  of    772.    Elapsed: 0:01:49.\n",
            "  Batch   320  of    772.    Elapsed: 0:02:05.\n",
            "  Batch   360  of    772.    Elapsed: 0:02:22.\n",
            "  Batch   400  of    772.    Elapsed: 0:02:38.\n",
            "  Batch   440  of    772.    Elapsed: 0:02:54.\n",
            "  Batch   480  of    772.    Elapsed: 0:03:11.\n",
            "  Batch   520  of    772.    Elapsed: 0:03:27.\n",
            "  Batch   560  of    772.    Elapsed: 0:03:44.\n",
            "  Batch   600  of    772.    Elapsed: 0:04:00.\n",
            "  Batch   640  of    772.    Elapsed: 0:04:17.\n",
            "  Batch   680  of    772.    Elapsed: 0:04:33.\n",
            "  Batch   720  of    772.    Elapsed: 0:04:50.\n",
            "  Batch   760  of    772.    Elapsed: 0:05:06.\n",
            "\n",
            "  Average training loss: 0.37\n",
            "  Training epcoh took: 0:05:11\n",
            "\n",
            "Running Validation...\n",
            "              precision    recall  f1-score   support\n",
            "\n",
            "           0       0.93      0.86      0.89      6770\n",
            "           1       0.45      0.63      0.53      1230\n",
            "\n",
            "    accuracy                           0.83      8000\n",
            "   macro avg       0.69      0.74      0.71      8000\n",
            "weighted avg       0.85      0.83      0.84      8000\n",
            "\n",
            "  F1: 0.8266\n",
            "  ROC AUC: 0.7449\n",
            "  Validation took: 0:01:07\n",
            "\n",
            "======== Epoch 2 / 7 ========\n",
            "Training...\n",
            "  Batch    40  of    772.    Elapsed: 0:00:16.\n",
            "  Batch    80  of    772.    Elapsed: 0:00:33.\n",
            "  Batch   120  of    772.    Elapsed: 0:00:49.\n",
            "  Batch   160  of    772.    Elapsed: 0:01:06.\n",
            "  Batch   200  of    772.    Elapsed: 0:01:22.\n",
            "  Batch   240  of    772.    Elapsed: 0:01:39.\n",
            "  Batch   280  of    772.    Elapsed: 0:01:55.\n",
            "  Batch   320  of    772.    Elapsed: 0:02:12.\n",
            "  Batch   360  of    772.    Elapsed: 0:02:28.\n",
            "  Batch   400  of    772.    Elapsed: 0:02:45.\n",
            "  Batch   440  of    772.    Elapsed: 0:03:01.\n",
            "  Batch   480  of    772.    Elapsed: 0:03:18.\n",
            "  Batch   520  of    772.    Elapsed: 0:03:34.\n",
            "  Batch   560  of    772.    Elapsed: 0:03:51.\n",
            "  Batch   600  of    772.    Elapsed: 0:04:07.\n",
            "  Batch   640  of    772.    Elapsed: 0:04:24.\n",
            "  Batch   680  of    772.    Elapsed: 0:04:40.\n",
            "  Batch   720  of    772.    Elapsed: 0:04:57.\n",
            "  Batch   760  of    772.    Elapsed: 0:05:13.\n",
            "\n",
            "  Average training loss: 0.25\n",
            "  Training epcoh took: 0:05:18\n",
            "\n",
            "Running Validation...\n",
            "              precision    recall  f1-score   support\n",
            "\n",
            "           0       0.93      0.85      0.89      6770\n",
            "           1       0.43      0.62      0.51      1230\n",
            "\n",
            "    accuracy                           0.81      8000\n",
            "   macro avg       0.68      0.74      0.70      8000\n",
            "weighted avg       0.85      0.81      0.83      8000\n",
            "\n",
            "  F1: 0.8149\n",
            "  ROC AUC: 0.7366\n",
            "  Validation took: 0:01:07\n",
            "\n",
            "======== Epoch 3 / 7 ========\n",
            "Training...\n",
            "  Batch    40  of    772.    Elapsed: 0:00:16.\n",
            "  Batch    80  of    772.    Elapsed: 0:00:33.\n",
            "  Batch   120  of    772.    Elapsed: 0:00:49.\n",
            "  Batch   160  of    772.    Elapsed: 0:01:06.\n",
            "  Batch   200  of    772.    Elapsed: 0:01:22.\n",
            "  Batch   240  of    772.    Elapsed: 0:01:39.\n",
            "  Batch   280  of    772.    Elapsed: 0:01:55.\n",
            "  Batch   320  of    772.    Elapsed: 0:02:12.\n",
            "  Batch   360  of    772.    Elapsed: 0:02:28.\n",
            "  Batch   400  of    772.    Elapsed: 0:02:44.\n",
            "  Batch   440  of    772.    Elapsed: 0:03:01.\n",
            "  Batch   480  of    772.    Elapsed: 0:03:17.\n",
            "  Batch   520  of    772.    Elapsed: 0:03:34.\n",
            "  Batch   560  of    772.    Elapsed: 0:03:50.\n",
            "  Batch   600  of    772.    Elapsed: 0:04:07.\n",
            "  Batch   640  of    772.    Elapsed: 0:04:23.\n",
            "  Batch   680  of    772.    Elapsed: 0:04:40.\n",
            "  Batch   720  of    772.    Elapsed: 0:04:56.\n",
            "  Batch   760  of    772.    Elapsed: 0:05:13.\n",
            "\n",
            "  Average training loss: 0.18\n",
            "  Training epcoh took: 0:05:17\n",
            "\n",
            "Running Validation...\n",
            "              precision    recall  f1-score   support\n",
            "\n",
            "           0       0.92      0.85      0.88      6770\n",
            "           1       0.41      0.57      0.48      1230\n",
            "\n",
            "    accuracy                           0.81      8000\n",
            "   macro avg       0.66      0.71      0.68      8000\n",
            "weighted avg       0.84      0.81      0.82      8000\n",
            "\n",
            "  F1: 0.8094\n",
            "  ROC AUC: 0.7114\n",
            "  Validation took: 0:01:07\n",
            "\n",
            "======== Epoch 4 / 7 ========\n",
            "Training...\n",
            "  Batch    40  of    772.    Elapsed: 0:00:16.\n",
            "  Batch    80  of    772.    Elapsed: 0:00:33.\n",
            "  Batch   120  of    772.    Elapsed: 0:00:49.\n",
            "  Batch   160  of    772.    Elapsed: 0:01:06.\n",
            "  Batch   200  of    772.    Elapsed: 0:01:22.\n",
            "  Batch   240  of    772.    Elapsed: 0:01:38.\n",
            "  Batch   280  of    772.    Elapsed: 0:01:55.\n",
            "  Batch   320  of    772.    Elapsed: 0:02:11.\n",
            "  Batch   360  of    772.    Elapsed: 0:02:28.\n",
            "  Batch   400  of    772.    Elapsed: 0:02:44.\n",
            "  Batch   440  of    772.    Elapsed: 0:03:00.\n",
            "  Batch   480  of    772.    Elapsed: 0:03:17.\n",
            "  Batch   520  of    772.    Elapsed: 0:03:33.\n",
            "  Batch   560  of    772.    Elapsed: 0:03:50.\n",
            "  Batch   600  of    772.    Elapsed: 0:04:06.\n",
            "  Batch   640  of    772.    Elapsed: 0:04:22.\n",
            "  Batch   680  of    772.    Elapsed: 0:04:39.\n",
            "  Batch   720  of    772.    Elapsed: 0:04:55.\n",
            "  Batch   760  of    772.    Elapsed: 0:05:12.\n",
            "\n",
            "  Average training loss: 0.13\n",
            "  Training epcoh took: 0:05:16\n",
            "\n",
            "Running Validation...\n",
            "              precision    recall  f1-score   support\n",
            "\n",
            "           0       0.92      0.84      0.88      6770\n",
            "           1       0.41      0.61      0.49      1230\n",
            "\n",
            "    accuracy                           0.80      8000\n",
            "   macro avg       0.66      0.72      0.68      8000\n",
            "weighted avg       0.84      0.80      0.82      8000\n",
            "\n",
            "  F1: 0.8026\n",
            "  ROC AUC: 0.7244\n",
            "  Validation took: 0:01:07\n",
            "\n",
            "======== Epoch 5 / 7 ========\n",
            "Training...\n",
            "  Batch    40  of    772.    Elapsed: 0:00:16.\n",
            "  Batch    80  of    772.    Elapsed: 0:00:33.\n",
            "  Batch   120  of    772.    Elapsed: 0:00:49.\n",
            "  Batch   160  of    772.    Elapsed: 0:01:06.\n",
            "  Batch   200  of    772.    Elapsed: 0:01:22.\n",
            "  Batch   240  of    772.    Elapsed: 0:01:38.\n",
            "  Batch   280  of    772.    Elapsed: 0:01:55.\n",
            "  Batch   320  of    772.    Elapsed: 0:02:11.\n",
            "  Batch   360  of    772.    Elapsed: 0:02:27.\n",
            "  Batch   400  of    772.    Elapsed: 0:02:44.\n",
            "  Batch   440  of    772.    Elapsed: 0:03:00.\n",
            "  Batch   480  of    772.    Elapsed: 0:03:17.\n",
            "  Batch   520  of    772.    Elapsed: 0:03:33.\n",
            "  Batch   560  of    772.    Elapsed: 0:03:49.\n",
            "  Batch   600  of    772.    Elapsed: 0:04:06.\n",
            "  Batch   640  of    772.    Elapsed: 0:04:22.\n",
            "  Batch   680  of    772.    Elapsed: 0:04:38.\n",
            "  Batch   720  of    772.    Elapsed: 0:04:55.\n",
            "  Batch   760  of    772.    Elapsed: 0:05:11.\n",
            "\n",
            "  Average training loss: 0.08\n",
            "  Training epcoh took: 0:05:16\n",
            "\n",
            "Running Validation...\n",
            "              precision    recall  f1-score   support\n",
            "\n",
            "           0       0.90      0.89      0.90      6770\n",
            "           1       0.44      0.47      0.46      1230\n",
            "\n",
            "    accuracy                           0.83      8000\n",
            "   macro avg       0.67      0.68      0.68      8000\n",
            "weighted avg       0.83      0.83      0.83      8000\n",
            "\n",
            "  F1: 0.8267\n",
            "  ROC AUC: 0.6824\n",
            "  Validation took: 0:01:07\n",
            "\n",
            "======== Epoch 6 / 7 ========\n",
            "Training...\n",
            "  Batch    40  of    772.    Elapsed: 0:00:16.\n",
            "  Batch    80  of    772.    Elapsed: 0:00:33.\n",
            "  Batch   120  of    772.    Elapsed: 0:00:49.\n",
            "  Batch   160  of    772.    Elapsed: 0:01:05.\n",
            "  Batch   200  of    772.    Elapsed: 0:01:22.\n",
            "  Batch   240  of    772.    Elapsed: 0:01:38.\n",
            "  Batch   280  of    772.    Elapsed: 0:01:54.\n",
            "  Batch   320  of    772.    Elapsed: 0:02:11.\n",
            "  Batch   360  of    772.    Elapsed: 0:02:27.\n",
            "  Batch   400  of    772.    Elapsed: 0:02:43.\n",
            "  Batch   440  of    772.    Elapsed: 0:03:00.\n",
            "  Batch   480  of    772.    Elapsed: 0:03:16.\n",
            "  Batch   520  of    772.    Elapsed: 0:03:32.\n",
            "  Batch   560  of    772.    Elapsed: 0:03:48.\n",
            "  Batch   600  of    772.    Elapsed: 0:04:05.\n",
            "  Batch   640  of    772.    Elapsed: 0:04:21.\n",
            "  Batch   680  of    772.    Elapsed: 0:04:38.\n",
            "  Batch   720  of    772.    Elapsed: 0:04:54.\n",
            "  Batch   760  of    772.    Elapsed: 0:05:10.\n",
            "\n",
            "  Average training loss: 0.05\n",
            "  Training epcoh took: 0:05:15\n",
            "\n",
            "Running Validation...\n",
            "              precision    recall  f1-score   support\n",
            "\n",
            "           0       0.91      0.86      0.89      6770\n",
            "           1       0.42      0.54      0.47      1230\n",
            "\n",
            "    accuracy                           0.81      8000\n",
            "   macro avg       0.66      0.70      0.68      8000\n",
            "weighted avg       0.84      0.81      0.82      8000\n",
            "\n",
            "  F1: 0.8128\n",
            "  ROC AUC: 0.7008\n",
            "  Validation took: 0:01:07\n",
            "\n",
            "======== Epoch 7 / 7 ========\n",
            "Training...\n",
            "  Batch    40  of    772.    Elapsed: 0:00:16.\n",
            "  Batch    80  of    772.    Elapsed: 0:00:33.\n",
            "  Batch   120  of    772.    Elapsed: 0:00:49.\n",
            "  Batch   160  of    772.    Elapsed: 0:01:05.\n",
            "  Batch   200  of    772.    Elapsed: 0:01:21.\n",
            "  Batch   240  of    772.    Elapsed: 0:01:38.\n",
            "  Batch   280  of    772.    Elapsed: 0:01:54.\n",
            "  Batch   320  of    772.    Elapsed: 0:02:10.\n",
            "  Batch   360  of    772.    Elapsed: 0:02:27.\n",
            "  Batch   400  of    772.    Elapsed: 0:02:43.\n",
            "  Batch   440  of    772.    Elapsed: 0:02:59.\n",
            "  Batch   480  of    772.    Elapsed: 0:03:16.\n",
            "  Batch   520  of    772.    Elapsed: 0:03:32.\n",
            "  Batch   560  of    772.    Elapsed: 0:03:48.\n",
            "  Batch   600  of    772.    Elapsed: 0:04:05.\n",
            "  Batch   640  of    772.    Elapsed: 0:04:21.\n",
            "  Batch   680  of    772.    Elapsed: 0:04:37.\n",
            "  Batch   720  of    772.    Elapsed: 0:04:54.\n",
            "  Batch   760  of    772.    Elapsed: 0:05:10.\n",
            "\n",
            "  Average training loss: 0.03\n",
            "  Training epcoh took: 0:05:15\n",
            "\n",
            "Running Validation...\n",
            "              precision    recall  f1-score   support\n",
            "\n",
            "           0       0.91      0.86      0.89      6770\n",
            "           1       0.42      0.54      0.47      1230\n",
            "\n",
            "    accuracy                           0.81      8000\n",
            "   macro avg       0.66      0.70      0.68      8000\n",
            "weighted avg       0.84      0.81      0.82      8000\n",
            "\n",
            "  F1: 0.8134\n",
            "  ROC AUC: 0.7021\n",
            "  Validation took: 0:01:07\n",
            "\n",
            "Training complete!\n"
          ],
          "name": "stdout"
        }
      ]
    },
    {
      "cell_type": "code",
      "metadata": {
        "id": "ugsfBncclulK",
        "colab_type": "code",
        "colab": {}
      },
      "source": [
        ""
      ],
      "execution_count": null,
      "outputs": []
    },
    {
      "cell_type": "markdown",
      "metadata": {
        "id": "D3_eYIm1accN",
        "colab_type": "text"
      },
      "source": [
        "Лучший результат:\n",
        "\n",
        "ROC AUC: 0.7449"
      ]
    },
    {
      "cell_type": "code",
      "metadata": {
        "id": "OcKp6FHpY6Bx",
        "colab_type": "code",
        "colab": {}
      },
      "source": [
        ""
      ],
      "execution_count": null,
      "outputs": []
    },
    {
      "cell_type": "code",
      "metadata": {
        "id": "MmjVpJTrY57r",
        "colab_type": "code",
        "colab": {}
      },
      "source": [
        ""
      ],
      "execution_count": null,
      "outputs": []
    }
  ]
}