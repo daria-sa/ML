{
 "cells": [
  {
   "cell_type": "code",
   "execution_count": 130,
   "metadata": {},
   "outputs": [],
   "source": [
    "import os\n",
    "import pandas as pd\n",
    "import re\n",
    "import numpy as np\n",
    "from matplotlib import pyplot"
   ]
  },
  {
   "cell_type": "code",
   "execution_count": 79,
   "metadata": {},
   "outputs": [],
   "source": [
    "test = []\n",
    "files = os.listdir(\"/Users/dariasamsonova/Machine Learning/aclImdb/test/neg\") \n",
    "for file in files:\n",
    "    with open(\"/Users/dariasamsonova/Machine Learning/aclImdb/test/neg/\" + file, encoding = 'utf8') as f:   \n",
    "        #print(f.readlines())\n",
    "        test.append({\"text\" : f.read(), 'y' : 0})"
   ]
  },
  {
   "cell_type": "code",
   "execution_count": 80,
   "metadata": {},
   "outputs": [],
   "source": [
    "files = os.listdir(\"/Users/dariasamsonova/Machine Learning/aclImdb/test/pos\") \n",
    "for file in files:\n",
    "    with open(\"/Users/dariasamsonova/Machine Learning/aclImdb/test/pos/\" + file, encoding = 'utf8') as f:   \n",
    "        #print(f.readlines())\n",
    "        test.append({\"text\" : f.read(), 'y' : 1})"
   ]
  },
  {
   "cell_type": "code",
   "execution_count": 81,
   "metadata": {},
   "outputs": [
    {
     "data": {
      "text/plain": [
       "25000"
      ]
     },
     "execution_count": 81,
     "metadata": {},
     "output_type": "execute_result"
    }
   ],
   "source": [
    "len(test)"
   ]
  },
  {
   "cell_type": "code",
   "execution_count": 82,
   "metadata": {},
   "outputs": [],
   "source": [
    "train = []\n",
    "\n",
    "files = os.listdir(\"/Users/dariasamsonova/Machine Learning/aclImdb/train/pos\") \n",
    "for file in files:\n",
    "    with open(\"/Users/dariasamsonova/Machine Learning/aclImdb/train/pos/\" + file, encoding = 'utf8') as f:   \n",
    "        #print(f.readlines())\n",
    "        train.append({\"text\" : f.read(), 'y' : 1})"
   ]
  },
  {
   "cell_type": "code",
   "execution_count": 83,
   "metadata": {},
   "outputs": [],
   "source": [
    "files = os.listdir(\"/Users/dariasamsonova/Machine Learning/aclImdb/train/neg\") \n",
    "for file in files:\n",
    "    with open(\"/Users/dariasamsonova/Machine Learning/aclImdb/train/neg/\" + file, encoding = 'utf8') as f:   \n",
    "        #print(f.readlines())\n",
    "        train.append({\"text\" : f.read(), 'y' : 0})"
   ]
  },
  {
   "cell_type": "code",
   "execution_count": 84,
   "metadata": {},
   "outputs": [
    {
     "data": {
      "text/plain": [
       "25000"
      ]
     },
     "execution_count": 84,
     "metadata": {},
     "output_type": "execute_result"
    }
   ],
   "source": [
    "len(train)"
   ]
  },
  {
   "cell_type": "code",
   "execution_count": 85,
   "metadata": {},
   "outputs": [],
   "source": [
    "train_data = pd.DataFrame.from_records(train)"
   ]
  },
  {
   "cell_type": "code",
   "execution_count": 86,
   "metadata": {},
   "outputs": [],
   "source": [
    "test_data =  pd.DataFrame.from_records(test)"
   ]
  },
  {
   "cell_type": "code",
   "execution_count": 88,
   "metadata": {},
   "outputs": [
    {
     "data": {
      "text/plain": [
       "(25000, 74849)"
      ]
     },
     "execution_count": 88,
     "metadata": {},
     "output_type": "execute_result"
    }
   ],
   "source": [
    "from sklearn.feature_extraction.text import CountVectorizer\n",
    "count_vect = CountVectorizer()\n",
    "X_train_counts = count_vect.fit_transform(train_data.text) #Learn the vocabulary dictionary and return term-document matrix.\n",
    "X_train_counts.shape"
   ]
  },
  {
   "cell_type": "code",
   "execution_count": 132,
   "metadata": {},
   "outputs": [],
   "source": [
    "from sklearn.neighbors import KNeighborsClassifier\n",
    "clf = KNeighborsClassifier().fit(X_train_counts, train_data.y)"
   ]
  },
  {
   "cell_type": "code",
   "execution_count": 133,
   "metadata": {},
   "outputs": [
    {
     "name": "stdout",
     "output_type": "stream",
     "text": [
      "(25000, 74849)\n"
     ]
    },
    {
     "data": {
      "text/plain": [
       "array([[0.4, 0.6],\n",
       "       [0.2, 0.8],\n",
       "       [0.2, 0.8],\n",
       "       [0.6, 0.4],\n",
       "       [0.4, 0.6]])"
      ]
     },
     "execution_count": 133,
     "metadata": {},
     "output_type": "execute_result"
    }
   ],
   "source": [
    "from sklearn.metrics import *\n",
    "X_test = count_vect.transform(test_data.text) # Extract token counts out of raw text documents using the vocabulary fitted with fit \n",
    "print(X_test.shape)\n",
    "predicted = clf.predict(X_test)\n",
    "predicted_proba = clf.predict_proba(X_test)\n",
    "predicted_proba[:5]"
   ]
  },
  {
   "cell_type": "code",
   "execution_count": 134,
   "metadata": {},
   "outputs": [
    {
     "name": "stdout",
     "output_type": "stream",
     "text": [
      "accuracy=0.6244\n",
      "F1=0.6488, Precision=0.6092, Recall=0.6939, ROC-AUC = 0.6244\n"
     ]
    },
    {
     "data": {
      "image/png": "[encoded data removed]",
      "text/plain": [
       "<Figure size 432x288 with 1 Axes>"
      ]
     },
     "metadata": {
      "needs_background": "light"
     },
     "output_type": "display_data"
    }
   ],
   "source": [
    "acc = accuracy_score(test_data.y, predicted)\n",
    "f1 = f1_score(test_data.y, predicted)\n",
    "precision = precision_score(test_data.y, predicted)\n",
    "recall = recall_score(test_data.y, predicted)\n",
    "roc_auc = roc_auc_score(test_data.y, predicted)\n",
    "print('accuracy={0:1.4f}'.format(acc))\n",
    "print('F1={0:1.4f}, Precision={1:1.4f}, Recall={2:1.4f}, ROC-AUC = {3:1.4f}'.format(f1, precision, recall, roc_auc))\n",
    "fpr, tpr, _ = roc_curve(test_data.y, predicted)\n",
    "pyplot.plot(fpr, tpr, marker='.', label='Test')\n",
    "# axis labels\n",
    "pyplot.xlabel('False Positive Rate')\n",
    "pyplot.ylabel('True Positive Rate')\n",
    "# show the legend\n",
    "pyplot.legend()\n",
    "# show the plot\n",
    "pyplot.show()"
   ]
  },
  {
   "cell_type": "code",
   "execution_count": 135,
   "metadata": {},
   "outputs": [],
   "source": [
    "from sklearn.naive_bayes import MultinomialNB\n",
    "clf = MultinomialNB().fit(X_train_counts,  train_data.y)\n",
    "predicted = clf.predict(X_test)"
   ]
  },
  {
   "cell_type": "code",
   "execution_count": 136,
   "metadata": {},
   "outputs": [
    {
     "name": "stdout",
     "output_type": "stream",
     "text": [
      "accuracy=0.8136\n",
      "F1=0.8006, Precision=0.8605, Recall=0.7484, ROC-AUC = 0.8136\n"
     ]
    },
    {
     "data": {
      "image/png": "[encoded data removed]",
      "text/plain": [
       "<Figure size 432x288 with 1 Axes>"
      ]
     },
     "metadata": {
      "needs_background": "light"
     },
     "output_type": "display_data"
    }
   ],
   "source": [
    "acc = accuracy_score(test_data.y, predicted)\n",
    "f1 = f1_score(test_data.y, predicted)\n",
    "precision = precision_score(test_data.y, predicted)\n",
    "recall = recall_score(test_data.y, predicted)\n",
    "roc_auc = roc_auc_score(test_data.y, predicted)\n",
    "print('accuracy={0:1.4f}'.format(acc))\n",
    "print('F1={0:1.4f}, Precision={1:1.4f}, Recall={2:1.4f}, ROC-AUC = {3:1.4f}'.format(f1, precision, recall, roc_auc))\n",
    "fpr, tpr, _ = roc_curve(test_data.y, predicted)\n",
    "pyplot.plot(fpr, tpr, marker='.', label='Test')\n",
    "# axis labels\n",
    "pyplot.xlabel('False Positive Rate')\n",
    "pyplot.ylabel('True Positive Rate')\n",
    "# show the legend\n",
    "pyplot.legend()\n",
    "# show the plot\n",
    "pyplot.show()"
   ]
  },
  {
   "cell_type": "code",
   "execution_count": 137,
   "metadata": {},
   "outputs": [
    {
     "name": "stderr",
     "output_type": "stream",
     "text": [
      "/opt/anaconda3/lib/python3.7/site-packages/sklearn/linear_model/logistic.py:432: FutureWarning: Default solver will be changed to 'lbfgs' in 0.22. Specify a solver to silence this warning.\n",
      "  FutureWarning)\n"
     ]
    }
   ],
   "source": [
    "from sklearn.linear_model import LogisticRegression\n",
    "clf = LogisticRegression().fit(X_train_counts,  train_data.y)\n",
    "predicted = clf.predict(X_test)"
   ]
  },
  {
   "cell_type": "code",
   "execution_count": 138,
   "metadata": {},
   "outputs": [
    {
     "name": "stdout",
     "output_type": "stream",
     "text": [
      "accuracy=0.8667\n",
      "F1=0.8657, Precision=0.8726, Recall=0.8588, ROC-AUC = 0.8667\n"
     ]
    },
    {
     "data": {
      "image/png": "[encoded data removed]",
      "text/plain": [
       "<Figure size 432x288 with 1 Axes>"
      ]
     },
     "metadata": {
      "needs_background": "light"
     },
     "output_type": "display_data"
    }
   ],
   "source": [
    "acc = accuracy_score(test_data.y, predicted)\n",
    "f1 = f1_score(test_data.y, predicted)\n",
    "precision = precision_score(test_data.y, predicted)\n",
    "recall = recall_score(test_data.y, predicted)\n",
    "roc_auc = roc_auc_score(test_data.y, predicted)\n",
    "print('accuracy={0:1.4f}'.format(acc))\n",
    "print('F1={0:1.4f}, Precision={1:1.4f}, Recall={2:1.4f}, ROC-AUC = {3:1.4f}'.format(f1, precision, recall, roc_auc))\n",
    "fpr, tpr, _ = roc_curve(test_data.y, predicted)\n",
    "pyplot.plot(fpr, tpr, marker='.', label='Test')\n",
    "# axis labels\n",
    "pyplot.xlabel('False Positive Rate')\n",
    "pyplot.ylabel('True Positive Rate')\n",
    "# show the legend\n",
    "pyplot.legend()\n",
    "# show the plot\n",
    "pyplot.show()"
   ]
  },
  {
   "cell_type": "code",
   "execution_count": 139,
   "metadata": {},
   "outputs": [
    {
     "name": "stderr",
     "output_type": "stream",
     "text": [
      "/opt/anaconda3/lib/python3.7/site-packages/sklearn/svm/base.py:929: ConvergenceWarning: Liblinear failed to converge, increase the number of iterations.\n",
      "  \"the number of iterations.\", ConvergenceWarning)\n"
     ]
    }
   ],
   "source": [
    "from sklearn.svm import LinearSVC\n",
    "clf = LinearSVC().fit(X_train_counts,  train_data.y)\n",
    "predicted = clf.predict(X_test)"
   ]
  },
  {
   "cell_type": "code",
   "execution_count": 140,
   "metadata": {},
   "outputs": [
    {
     "name": "stdout",
     "output_type": "stream",
     "text": [
      "accuracy=0.8458\n",
      "F1=0.8441, Precision=0.8533, Recall=0.8351, ROC-AUC = 0.8458\n"
     ]
    },
    {
     "data": {
      "image/png": "[encoded data removed]",
      "text/plain": [
       "<Figure size 432x288 with 1 Axes>"
      ]
     },
     "metadata": {
      "needs_background": "light"
     },
     "output_type": "display_data"
    }
   ],
   "source": [
    "acc = accuracy_score(test_data.y, predicted)\n",
    "f1 = f1_score(test_data.y, predicted)\n",
    "precision = precision_score(test_data.y, predicted)\n",
    "recall = recall_score(test_data.y, predicted)\n",
    "roc_auc = roc_auc_score(test_data.y, predicted)\n",
    "print('accuracy={0:1.4f}'.format(acc))\n",
    "print('F1={0:1.4f}, Precision={1:1.4f}, Recall={2:1.4f}, ROC-AUC = {3:1.4f}'.format(f1, precision, recall, roc_auc))\n",
    "fpr, tpr, _ = roc_curve(test_data.y, predicted)\n",
    "pyplot.plot(fpr, tpr, marker='.', label='Test')\n",
    "# axis labels\n",
    "pyplot.xlabel('False Positive Rate')\n",
    "pyplot.ylabel('True Positive Rate')\n",
    "# show the legend\n",
    "pyplot.legend()\n",
    "# show the plot\n",
    "pyplot.show()"
   ]
  },
  {
   "cell_type": "code",
   "execution_count": 141,
   "metadata": {},
   "outputs": [],
   "source": [
    "from sklearn.tree import DecisionTreeClassifier\n",
    "clf = DecisionTreeClassifier().fit(X_train_counts,  train_data.y)\n",
    "predicted = clf.predict(X_test)"
   ]
  },
  {
   "cell_type": "code",
   "execution_count": 142,
   "metadata": {},
   "outputs": [
    {
     "name": "stdout",
     "output_type": "stream",
     "text": [
      "accuracy=0.7158\n",
      "F1=0.7166, Precision=0.7145, Recall=0.7187, ROC-AUC = 0.7158\n"
     ]
    },
    {
     "data": {
      "image/png": "[encoded data removed]",
      "text/plain": [
       "<Figure size 432x288 with 1 Axes>"
      ]
     },
     "metadata": {
      "needs_background": "light"
     },
     "output_type": "display_data"
    }
   ],
   "source": [
    "acc = accuracy_score(test_data.y, predicted)\n",
    "f1 = f1_score(test_data.y, predicted)\n",
    "precision = precision_score(test_data.y, predicted)\n",
    "recall = recall_score(test_data.y, predicted)\n",
    "roc_auc = roc_auc_score(test_data.y, predicted)\n",
    "print('accuracy={0:1.4f}'.format(acc))\n",
    "print('F1={0:1.4f}, Precision={1:1.4f}, Recall={2:1.4f}, ROC-AUC = {3:1.4f}'.format(f1, precision, recall, roc_auc))\n",
    "fpr, tpr, _ = roc_curve(test_data.y, predicted)\n",
    "pyplot.plot(fpr, tpr, marker='.', label='Test')\n",
    "# axis labels\n",
    "pyplot.xlabel('False Positive Rate')\n",
    "pyplot.ylabel('True Positive Rate')\n",
    "# show the legend\n",
    "pyplot.legend()\n",
    "# show the plot\n",
    "pyplot.show()"
   ]
  },
  {
   "cell_type": "code",
   "execution_count": 131,
   "metadata": {},
   "outputs": [
    {
     "name": "stdout",
     "output_type": "stream",
     "text": [
      "KNeighborsClassifier(algorithm='auto', leaf_size=30, metric='minkowski',\n",
      "                     metric_params=None, n_jobs=None, n_neighbors=5, p=2,\n",
      "                     weights='uniform')\n",
      "accuracy=0.7384\n",
      "F1=0.7346, Precision=0.7453, Recall=0.7242, ROC-AUC = 0.7384\n"
     ]
    },
    {
     "data": {
      "image/png": "[encoded data removed]",
      "text/plain": [
       "<Figure size 432x288 with 1 Axes>"
      ]
     },
     "metadata": {
      "needs_background": "light"
     },
     "output_type": "display_data"
    },
    {
     "name": "stdout",
     "output_type": "stream",
     "text": [
      "____________________________\n"
     ]
    },
    {
     "ename": "TypeError",
     "evalue": "fit() missing 1 required positional argument: 'y'",
     "output_type": "error",
     "traceback": [
      "\u001b[0;31m---------------------------------------------------------------------------\u001b[0m",
      "\u001b[0;31mTypeError\u001b[0m                                 Traceback (most recent call last)",
      "\u001b[0;32m<ipython-input-131-447167a8ba2f>\u001b[0m in \u001b[0;36m<module>\u001b[0;34m\u001b[0m\n\u001b[1;32m      7\u001b[0m                          \u001b[0;34m(\u001b[0m\u001b[0;34m'tfidf'\u001b[0m\u001b[0;34m,\u001b[0m \u001b[0mTfidfTransformer\u001b[0m\u001b[0;34m(\u001b[0m\u001b[0;34m)\u001b[0m\u001b[0;34m)\u001b[0m\u001b[0;34m,\u001b[0m\u001b[0;34m\u001b[0m\u001b[0;34m\u001b[0m\u001b[0m\n\u001b[1;32m      8\u001b[0m                          ('clf', classifier)])\n\u001b[0;32m----> 9\u001b[0;31m     \u001b[0mtext_clf\u001b[0m\u001b[0;34m.\u001b[0m\u001b[0mfit\u001b[0m\u001b[0;34m(\u001b[0m\u001b[0mtrain_data\u001b[0m\u001b[0;34m.\u001b[0m\u001b[0mtext\u001b[0m\u001b[0;34m,\u001b[0m \u001b[0mtrain_data\u001b[0m\u001b[0;34m.\u001b[0m\u001b[0my\u001b[0m\u001b[0;34m)\u001b[0m\u001b[0;34m\u001b[0m\u001b[0;34m\u001b[0m\u001b[0m\n\u001b[0m\u001b[1;32m     10\u001b[0m     \u001b[0mpredicted\u001b[0m \u001b[0;34m=\u001b[0m \u001b[0mtext_clf\u001b[0m\u001b[0;34m.\u001b[0m\u001b[0mpredict\u001b[0m\u001b[0;34m(\u001b[0m\u001b[0mtest_data\u001b[0m\u001b[0;34m.\u001b[0m\u001b[0mtext\u001b[0m\u001b[0;34m)\u001b[0m\u001b[0;34m\u001b[0m\u001b[0;34m\u001b[0m\u001b[0m\n\u001b[1;32m     11\u001b[0m     \u001b[0mprint\u001b[0m\u001b[0;34m(\u001b[0m\u001b[0mstr\u001b[0m\u001b[0;34m(\u001b[0m\u001b[0mclassifier\u001b[0m\u001b[0;34m)\u001b[0m\u001b[0;34m)\u001b[0m\u001b[0;34m\u001b[0m\u001b[0;34m\u001b[0m\u001b[0m\n",
      "\u001b[0;32m/opt/anaconda3/lib/python3.7/site-packages/sklearn/pipeline.py\u001b[0m in \u001b[0;36mfit\u001b[0;34m(self, X, y, **fit_params)\u001b[0m\n\u001b[1;32m    354\u001b[0m                                  self._log_message(len(self.steps) - 1)):\n\u001b[1;32m    355\u001b[0m             \u001b[0;32mif\u001b[0m \u001b[0mself\u001b[0m\u001b[0;34m.\u001b[0m\u001b[0m_final_estimator\u001b[0m \u001b[0;34m!=\u001b[0m \u001b[0;34m'passthrough'\u001b[0m\u001b[0;34m:\u001b[0m\u001b[0;34m\u001b[0m\u001b[0;34m\u001b[0m\u001b[0m\n\u001b[0;32m--> 356\u001b[0;31m                 \u001b[0mself\u001b[0m\u001b[0;34m.\u001b[0m\u001b[0m_final_estimator\u001b[0m\u001b[0;34m.\u001b[0m\u001b[0mfit\u001b[0m\u001b[0;34m(\u001b[0m\u001b[0mXt\u001b[0m\u001b[0;34m,\u001b[0m \u001b[0my\u001b[0m\u001b[0;34m,\u001b[0m \u001b[0;34m**\u001b[0m\u001b[0mfit_params\u001b[0m\u001b[0;34m)\u001b[0m\u001b[0;34m\u001b[0m\u001b[0;34m\u001b[0m\u001b[0m\n\u001b[0m\u001b[1;32m    357\u001b[0m         \u001b[0;32mreturn\u001b[0m \u001b[0mself\u001b[0m\u001b[0;34m\u001b[0m\u001b[0;34m\u001b[0m\u001b[0m\n\u001b[1;32m    358\u001b[0m \u001b[0;34m\u001b[0m\u001b[0m\n",
      "\u001b[0;31mTypeError\u001b[0m: fit() missing 1 required positional argument: 'y'"
     ]
    }
   ],
   "source": [
    "from sklearn.pipeline import Pipeline\n",
    "from sklearn.feature_extraction.text import TfidfTransformer\n",
    "from sklearn.metrics import roc_auc_score, roc_curve\n",
    "classifiers = [KNeighborsClassifier(), LogisticRegression, MultinomialNB(), LinearSVC, DecisionTreeClassifier]\n",
    "for classifier in classifiers:\n",
    "    text_clf = Pipeline([('vect', CountVectorizer(ngram_range = (2,3))), \n",
    "                         ('tfidf', TfidfTransformer()), \n",
    "                         ('clf', classifier)])\n",
    "    text_clf.fit(train_data.text, train_data.y)  \n",
    "    predicted = text_clf.predict(test_data.text)\n",
    "    print(str(classifier))\n",
    "    acc = accuracy_score(test_data.y, predicted)\n",
    "    f1 = f1_score(test_data.y, predicted)\n",
    "    precision = precision_score(test_data.y, predicted)\n",
    "    recall = recall_score(test_data.y, predicted)\n",
    "    roc_auc = roc_auc_score(test_data.y, predicted)\n",
    "    print('accuracy={0:1.4f}'.format(acc))\n",
    "    print('F1={0:1.4f}, Precision={1:1.4f}, Recall={2:1.4f}, ROC-AUC = {3:1.4f}'.format(f1, precision, recall, roc_auc))\n",
    "    fpr, tpr, _ = roc_curve(test_data.y, predicted)\n",
    "    pyplot.plot(fpr, tpr, marker='.', label='Test')\n",
    "    # axis labels\n",
    "    pyplot.xlabel('False Positive Rate')\n",
    "    pyplot.ylabel('True Positive Rate')\n",
    "    # show the legend\n",
    "    pyplot.legend()\n",
    "    # show the plot\n",
    "    pyplot.show()\n",
    "    print(\"____________________________\")"
   ]
  },
  {
   "cell_type": "code",
   "execution_count": null,
   "metadata": {},
   "outputs": [],
   "source": []
  }
 ],
 "metadata": {
  "kernelspec": {
   "display_name": "Python 3",
   "language": "python",
   "name": "python3"
  },
  "language_info": {
   "codemirror_mode": {
    "name": "ipython",
    "version": 3
   },
   "file_extension": ".py",
   "mimetype": "text/x-python",
   "name": "python",
   "nbconvert_exporter": "python",
   "pygments_lexer": "ipython3",
   "version": "3.7.4"
  }
 },
 "nbformat": 4,
 "nbformat_minor": 2
}
