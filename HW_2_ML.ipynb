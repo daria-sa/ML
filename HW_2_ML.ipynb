{
 "cells": [
  {
   "cell_type": "code",
   "execution_count": 130,
   "metadata": {},
   "outputs": [],
   "source": [
    "import os\n",
    "import pandas as pd\n",
    "import re\n",
    "import numpy as np\n",
    "from matplotlib import pyplot"
   ]
  },
  {
   "cell_type": "code",
   "execution_count": 165,
   "metadata": {},
   "outputs": [],
   "source": [
    "def my_precision(y_real, y_predicted):\n",
    "    return tp(y_real, y_predicted)/(tp(y_real, y_predicted)+fp(y_real, y_predicted))   \n",
    "def my_recall(y_real, y_predicted):\n",
    "    return tp(y_real, y_predicted)/(tp(y_real, y_predicted)+fn(y_real, y_predicted))\n",
    "def my_f1(y_real, y_predicted):\n",
    "    return (tp(y_real, y_predicted)+tn(y_real, y_predicted))/(tp(y_real, y_predicted)+fp(y_real, y_predicted)+fn(y_real, y_predicted)+tn(y_real, y_predicted))"
   ]
  },
  {
   "cell_type": "code",
   "execution_count": 144,
   "metadata": {},
   "outputs": [],
   "source": [
    "def tp(y_real, y_predicted):\n",
    "    res = 0\n",
    "    for i in range(len(y_real)):\n",
    "        if y_real[i]== 1 and y_predicted[i] == 1:\n",
    "            res+=1\n",
    "    return res\n",
    "    \n",
    "def fp(y_real, y_predicted):  \n",
    "    res = 0\n",
    "    for i in range(len(y_real)):\n",
    "        if y_real[i]== 0 and y_predicted[i] == 1:\n",
    "            res+=1\n",
    "    return res    \n",
    "    \n",
    "def tn(y_real, y_predicted):  \n",
    "    res = 0\n",
    "    for i in range(len(y_real)):\n",
    "        if y_real[i]== 0 and y_predicted[i] == 0:\n",
    "            res+=1\n",
    "    return res\n",
    "\n",
    "def fn(y_real, y_predicted):  \n",
    "    res = 0\n",
    "    for i in range(len(y_real)):\n",
    "        if y_real[i]== 1 and y_predicted[i] == 0:\n",
    "            res+=1\n",
    "    return res"
   ]
  },
  {
   "cell_type": "code",
   "execution_count": 79,
   "metadata": {},
   "outputs": [],
   "source": [
    "test = []\n",
    "files = os.listdir(\"/Users/dariasamsonova/Machine Learning/aclImdb/test/neg\") \n",
    "for file in files:\n",
    "    with open(\"/Users/dariasamsonova/Machine Learning/aclImdb/test/neg/\" + file, encoding = 'utf8') as f:   \n",
    "        #print(f.readlines())\n",
    "        test.append({\"text\" : f.read(), 'y' : 0})"
   ]
  },
  {
   "cell_type": "code",
   "execution_count": 80,
   "metadata": {},
   "outputs": [],
   "source": [
    "files = os.listdir(\"/Users/dariasamsonova/Machine Learning/aclImdb/test/pos\") \n",
    "for file in files:\n",
    "    with open(\"/Users/dariasamsonova/Machine Learning/aclImdb/test/pos/\" + file, encoding = 'utf8') as f:   \n",
    "        #print(f.readlines())\n",
    "        test.append({\"text\" : f.read(), 'y' : 1})"
   ]
  },
  {
   "cell_type": "code",
   "execution_count": 81,
   "metadata": {},
   "outputs": [
    {
     "data": {
      "text/plain": [
       "25000"
      ]
     },
     "execution_count": 81,
     "metadata": {},
     "output_type": "execute_result"
    }
   ],
   "source": [
    "len(test)"
   ]
  },
  {
   "cell_type": "code",
   "execution_count": 82,
   "metadata": {},
   "outputs": [],
   "source": [
    "train = []\n",
    "\n",
    "files = os.listdir(\"/Users/dariasamsonova/Machine Learning/aclImdb/train/pos\") \n",
    "for file in files:\n",
    "    with open(\"/Users/dariasamsonova/Machine Learning/aclImdb/train/pos/\" + file, encoding = 'utf8') as f:   \n",
    "        #print(f.readlines())\n",
    "        train.append({\"text\" : f.read(), 'y' : 1})"
   ]
  },
  {
   "cell_type": "code",
   "execution_count": 83,
   "metadata": {},
   "outputs": [],
   "source": [
    "files = os.listdir(\"/Users/dariasamsonova/Machine Learning/aclImdb/train/neg\") \n",
    "for file in files:\n",
    "    with open(\"/Users/dariasamsonova/Machine Learning/aclImdb/train/neg/\" + file, encoding = 'utf8') as f:   \n",
    "        #print(f.readlines())\n",
    "        train.append({\"text\" : f.read(), 'y' : 0})"
   ]
  },
  {
   "cell_type": "code",
   "execution_count": 84,
   "metadata": {},
   "outputs": [
    {
     "data": {
      "text/plain": [
       "25000"
      ]
     },
     "execution_count": 84,
     "metadata": {},
     "output_type": "execute_result"
    }
   ],
   "source": [
    "len(train)"
   ]
  },
  {
   "cell_type": "code",
   "execution_count": 85,
   "metadata": {},
   "outputs": [],
   "source": [
    "train_data = pd.DataFrame.from_records(train)"
   ]
  },
  {
   "cell_type": "code",
   "execution_count": 86,
   "metadata": {},
   "outputs": [],
   "source": [
    "test_data =  pd.DataFrame.from_records(test)"
   ]
  },
  {
   "cell_type": "code",
   "execution_count": 88,
   "metadata": {},
   "outputs": [
    {
     "data": {
      "text/plain": [
       "(25000, 74849)"
      ]
     },
     "execution_count": 88,
     "metadata": {},
     "output_type": "execute_result"
    }
   ],
   "source": [
    "from sklearn.feature_extraction.text import CountVectorizer\n",
    "count_vect = CountVectorizer()\n",
    "X_train_counts = count_vect.fit_transform(train_data.text) #Learn the vocabulary dictionary and return term-document matrix.\n",
    "X_train_counts.shape"
   ]
  },
  {
   "cell_type": "code",
   "execution_count": 155,
   "metadata": {},
   "outputs": [],
   "source": [
    "from sklearn.neighbors import KNeighborsClassifier\n",
    "clf = KNeighborsClassifier().fit(X_train_counts, train_data.y)"
   ]
  },
  {
   "cell_type": "code",
   "execution_count": 156,
   "metadata": {},
   "outputs": [
    {
     "name": "stdout",
     "output_type": "stream",
     "text": [
      "accuracy=0.7158\n",
      "F1=0.7166, Precision=0.7145, Recall=0.7187, ROC-AUC = 0.7158\n",
      "my_precision = 0.7144902179099729, my_recall = 0.71872, my_f1 = 0.71576\n"
     ]
    },
    {
     "data": {
      "image/png": "[encoded data removed]",
      "text/plain": [
       "<Figure size 432x288 with 1 Axes>"
      ]
     },
     "metadata": {
      "needs_background": "light"
     },
     "output_type": "display_data"
    }
   ],
   "source": [
    "acc = accuracy_score(test_data.y, predicted)\n",
    "f1 = f1_score(test_data.y, predicted)\n",
    "precision = precision_score(test_data.y, predicted)\n",
    "recall = recall_score(test_data.y, predicted)\n",
    "roc_auc = roc_auc_score(test_data.y, predicted)\n",
    "print('accuracy={0:1.4f}'.format(acc))\n",
    "print('F1={0:1.4f}, Precision={1:1.4f}, Recall={2:1.4f}, ROC-AUC = {3:1.4f}'.format(f1, precision, recall, roc_auc))\n",
    "print(\"my_precision = {0}, my_recall = {1}, my_f1 = {2}\".format(my_precision(test_data.y, predicted),my_recall(test_data.y, predicted), my_f1(test_data.y, predicted)))\n",
    "fpr, tpr, _ = roc_curve(test_data.y, predicted)\n",
    "pyplot.plot(fpr, tpr, marker='.', label='Test')\n",
    "# axis labels\n",
    "pyplot.xlabel('False Positive Rate')\n",
    "pyplot.ylabel('True Positive Rate')\n",
    "# show the legend\n",
    "pyplot.legend()\n",
    "# show the plot\n",
    "pyplot.show()"
   ]
  },
  {
   "cell_type": "code",
   "execution_count": 157,
   "metadata": {},
   "outputs": [],
   "source": [
    "from sklearn.naive_bayes import MultinomialNB\n",
    "clf = MultinomialNB().fit(X_train_counts,  train_data.y)\n",
    "predicted = clf.predict(X_test)"
   ]
  },
  {
   "cell_type": "code",
   "execution_count": 158,
   "metadata": {},
   "outputs": [
    {
     "name": "stdout",
     "output_type": "stream",
     "text": [
      "accuracy=0.8136\n",
      "F1=0.8006, Precision=0.8605, Recall=0.7484, ROC-AUC = 0.8136\n",
      "my_precision = 0.8605464078741606, my_recall = 0.7484, my_f1 = 0.81356\n"
     ]
    },
    {
     "data": {
      "image/png": "[encoded data removed]",
      "text/plain": [
       "<Figure size 432x288 with 1 Axes>"
      ]
     },
     "metadata": {
      "needs_background": "light"
     },
     "output_type": "display_data"
    }
   ],
   "source": [
    "acc = accuracy_score(test_data.y, predicted)\n",
    "f1 = f1_score(test_data.y, predicted)\n",
    "precision = precision_score(test_data.y, predicted)\n",
    "recall = recall_score(test_data.y, predicted)\n",
    "roc_auc = roc_auc_score(test_data.y, predicted)\n",
    "print('accuracy={0:1.4f}'.format(acc))\n",
    "print('F1={0:1.4f}, Precision={1:1.4f}, Recall={2:1.4f}, ROC-AUC = {3:1.4f}'.format(f1, precision, recall, roc_auc))\n",
    "print(\"my_precision = {0}, my_recall = {1}, my_f1 = {2}\".format(my_precision(test_data.y, predicted),my_recall(test_data.y, predicted), my_f1(test_data.y, predicted)))\n",
    "fpr, tpr, _ = roc_curve(test_data.y, predicted)\n",
    "pyplot.plot(fpr, tpr, marker='.', label='Test')\n",
    "# axis labels\n",
    "pyplot.xlabel('False Positive Rate')\n",
    "pyplot.ylabel('True Positive Rate')\n",
    "# show the legend\n",
    "pyplot.legend()\n",
    "# show the plot\n",
    "pyplot.show()"
   ]
  },
  {
   "cell_type": "code",
   "execution_count": 174,
   "metadata": {},
   "outputs": [
    {
     "name": "stderr",
     "output_type": "stream",
     "text": [
      "/opt/anaconda3/lib/python3.7/site-packages/sklearn/linear_model/logistic.py:432: FutureWarning: Default solver will be changed to 'lbfgs' in 0.22. Specify a solver to silence this warning.\n",
      "  FutureWarning)\n"
     ]
    }
   ],
   "source": [
    "from sklearn.linear_model import LogisticRegression\n",
    "clf = LogisticRegression().fit(X_train_counts,  train_data.y)\n",
    "predicted = clf.predict(X_test)"
   ]
  },
  {
   "cell_type": "code",
   "execution_count": 175,
   "metadata": {},
   "outputs": [
    {
     "name": "stdout",
     "output_type": "stream",
     "text": [
      "accuracy=0.8667\n",
      "F1=0.8657, Precision=0.8726, Recall=0.8588, ROC-AUC = 0.8667\n",
      "my_precision = 0.872622337831247, my_recall = 0.8588, my_f1 = 0.86672\n"
     ]
    },
    {
     "data": {
      "image/png": "[encoded data removed]",
      "text/plain": [
       "<Figure size 432x288 with 1 Axes>"
      ]
     },
     "metadata": {
      "needs_background": "light"
     },
     "output_type": "display_data"
    }
   ],
   "source": [
    "acc = accuracy_score(test_data.y, predicted)\n",
    "f1 = f1_score(test_data.y, predicted)\n",
    "precision = precision_score(test_data.y, predicted)\n",
    "recall = recall_score(test_data.y, predicted)\n",
    "roc_auc = roc_auc_score(test_data.y, predicted)\n",
    "print('accuracy={0:1.4f}'.format(acc))\n",
    "print('F1={0:1.4f}, Precision={1:1.4f}, Recall={2:1.4f}, ROC-AUC = {3:1.4f}'.format(f1, precision, recall, roc_auc))\n",
    "print(\"my_precision = {0}, my_recall = {1}, my_f1 = {2}\".format(my_precision(test_data.y, predicted),my_recall(test_data.y, predicted), my_f1(test_data.y, predicted)))\n",
    "fpr, tpr, _ = roc_curve(test_data.y, predicted)\n",
    "pyplot.plot(fpr, tpr, marker='.', label='Test')\n",
    "# axis labels\n",
    "pyplot.xlabel('False Positive Rate')\n",
    "pyplot.ylabel('True Positive Rate')\n",
    "# show the legend\n",
    "pyplot.legend()\n",
    "# show the plot\n",
    "pyplot.show()"
   ]
  },
  {
   "cell_type": "code",
   "execution_count": 176,
   "metadata": {},
   "outputs": [],
   "source": [
    "from sklearn.metrics import *\n",
    "X_test = count_vect.transform(test_data.text) # Extract token counts out of raw text documents using the vocabulary fitted with fit \n",
    "predicted = clf.predict(X_test)\n",
    "\n",
    "predicted_proba = pd.DataFrame(clf.predict_proba(X_test), columns = ['neg', 'pos'])"
   ]
  },
  {
   "cell_type": "code",
   "execution_count": 177,
   "metadata": {
    "scrolled": true
   },
   "outputs": [
    {
     "data": {
      "text/plain": [
       "542     Plankton, or Creatures from the Abyss as I'm p...\n",
       "895     Interferencia starts as unemployed Martin Sand...\n",
       "1066    Rose  Does anything actually happen in this e...\n",
       "1547    Okay wait let me get this street, there are ac...\n",
       "2915    Mom begins at night in the middle of nowhere, ...\n",
       "3615    My qualifications for this review? I own all t...\n",
       "3712    Kairo, or Pulse as it's known amongst English ...\n",
       "3970    It is the early morning of our discontent, and...\n",
       "5323    A pretentious but - to varying degrees - watch...\n",
       "5570    The Bone Collector is set in New York City & s...\n",
       "5614    Snake Island is one of those films that, whils...\n",
       "5664    Curse of the Wolf starts as reluctant Werewolf...\n",
       "6571    By the mid 1990s, the career of animator-direc...\n",
       "6716    Komodo vs. Cobra starts as 'One Planet' enviro...\n",
       "6832    I think the cards were stacked against Webmast...\n",
       "Name: text, dtype: object"
      ]
     },
     "execution_count": 177,
     "metadata": {},
     "output_type": "execute_result"
    }
   ],
   "source": [
    "test_data.text[predicted_proba.neg.nlargest(15).index]"
   ]
  },
  {
   "cell_type": "code",
   "execution_count": 178,
   "metadata": {
    "scrolled": true
   },
   "outputs": [
    {
     "data": {
      "text/plain": [
       "13165    Universal Studios version of \"Flipper\" (1996) ...\n",
       "16938    1904. The North African nation of Morocco is h...\n",
       "18703    The Hand of Death aka Countdown in Kung Fu (19...\n",
       "20622    Tony Hawk's Pro Skater 2x, isn't much differen...\n",
       "22063    This is a great German slasher, that's often q...\n",
       "23080    The Hand of Death aka Countdown in Kung Fu (19...\n",
       "16520    OZ is the greatest show ever mad full stop.OZ ...\n",
       "20134    This is one of the funniest movies I've ever s...\n",
       "13058    Wallace and Gromit are the main characters in ...\n",
       "18607    Director Mikhail Kalatozov's film The Cranes a...\n",
       "22796    Anthony Minghella's 'The English Patient' is a...\n",
       "13084    This is a surprisingly great low budget Horror...\n",
       "23804    Over the weekend i watched the movie Tipping t...\n",
       "15484    Many years ago I saw this movie (on television...\n",
       "13927    Life is comprised of infinite possibilities; s...\n",
       "Name: text, dtype: object"
      ]
     },
     "execution_count": 178,
     "metadata": {},
     "output_type": "execute_result"
    }
   ],
   "source": [
    "test_data.text[predicted_proba.pos.nlargest(15).index]"
   ]
  },
  {
   "cell_type": "code",
   "execution_count": 161,
   "metadata": {},
   "outputs": [
    {
     "name": "stderr",
     "output_type": "stream",
     "text": [
      "/opt/anaconda3/lib/python3.7/site-packages/sklearn/svm/base.py:929: ConvergenceWarning: Liblinear failed to converge, increase the number of iterations.\n",
      "  \"the number of iterations.\", ConvergenceWarning)\n"
     ]
    }
   ],
   "source": [
    "from sklearn.svm import LinearSVC\n",
    "clf = LinearSVC().fit(X_train_counts,  train_data.y)\n",
    "predicted = clf.predict(X_test)"
   ]
  },
  {
   "cell_type": "code",
   "execution_count": 162,
   "metadata": {},
   "outputs": [
    {
     "name": "stdout",
     "output_type": "stream",
     "text": [
      "accuracy=0.8458\n",
      "F1=0.8441, Precision=0.8532, Recall=0.8352, ROC-AUC = 0.8458\n",
      "my_precision = 0.8532200065380844, my_recall = 0.8352, my_f1 = 0.84576\n"
     ]
    },
    {
     "data": {
      "image/png": "[encoded data removed]",
      "text/plain": [
       "<Figure size 432x288 with 1 Axes>"
      ]
     },
     "metadata": {
      "needs_background": "light"
     },
     "output_type": "display_data"
    }
   ],
   "source": [
    "acc = accuracy_score(test_data.y, predicted)\n",
    "f1 = f1_score(test_data.y, predicted)\n",
    "precision = precision_score(test_data.y, predicted)\n",
    "recall = recall_score(test_data.y, predicted)\n",
    "roc_auc = roc_auc_score(test_data.y, predicted)\n",
    "print('accuracy={0:1.4f}'.format(acc))\n",
    "print('F1={0:1.4f}, Precision={1:1.4f}, Recall={2:1.4f}, ROC-AUC = {3:1.4f}'.format(f1, precision, recall, roc_auc))\n",
    "print(\"my_precision = {0}, my_recall = {1}, my_f1 = {2}\".format(my_precision(test_data.y, predicted),my_recall(test_data.y, predicted), my_f1(test_data.y, predicted)))\n",
    "fpr, tpr, _ = roc_curve(test_data.y, predicted)\n",
    "pyplot.plot(fpr, tpr, marker='.', label='Test')\n",
    "# axis labels\n",
    "pyplot.xlabel('False Positive Rate')\n",
    "pyplot.ylabel('True Positive Rate')\n",
    "# show the legend\n",
    "pyplot.legend()\n",
    "# show the plot\n",
    "pyplot.show()"
   ]
  },
  {
   "cell_type": "code",
   "execution_count": 163,
   "metadata": {},
   "outputs": [],
   "source": [
    "from sklearn.tree import DecisionTreeClassifier\n",
    "clf = DecisionTreeClassifier().fit(X_train_counts,  train_data.y)\n",
    "predicted = clf.predict(X_test)"
   ]
  },
  {
   "cell_type": "code",
   "execution_count": 164,
   "metadata": {},
   "outputs": [
    {
     "name": "stdout",
     "output_type": "stream",
     "text": [
      "accuracy=0.7163\n",
      "F1=0.7171, Precision=0.7150, Recall=0.7193, ROC-AUC = 0.7163\n",
      "my_precision = 0.7149900596421471, my_recall = 0.71928, my_f1 = 0.71628\n"
     ]
    },
    {
     "data": {
      "image/png": "[encoded data removed]",
      "text/plain": [
       "<Figure size 432x288 with 1 Axes>"
      ]
     },
     "metadata": {
      "needs_background": "light"
     },
     "output_type": "display_data"
    }
   ],
   "source": [
    "acc = accuracy_score(test_data.y, predicted)\n",
    "f1 = f1_score(test_data.y, predicted)\n",
    "precision = precision_score(test_data.y, predicted)\n",
    "recall = recall_score(test_data.y, predicted)\n",
    "roc_auc = roc_auc_score(test_data.y, predicted)\n",
    "print('accuracy={0:1.4f}'.format(acc))\n",
    "print('F1={0:1.4f}, Precision={1:1.4f}, Recall={2:1.4f}, ROC-AUC = {3:1.4f}'.format(f1, precision, recall, roc_auc))\n",
    "print(\"my_precision = {0}, my_recall = {1}, my_f1 = {2}\".format(my_precision(test_data.y, predicted),my_recall(test_data.y, predicted), my_f1(test_data.y, predicted)))\n",
    "fpr, tpr, _ = roc_curve(test_data.y, predicted)\n",
    "pyplot.plot(fpr, tpr, marker='.', label='Test')\n",
    "# axis labels\n",
    "pyplot.xlabel('False Positive Rate')\n",
    "pyplot.ylabel('True Positive Rate')\n",
    "# show the legend\n",
    "pyplot.legend()\n",
    "# show the plot\n",
    "pyplot.show()"
   ]
  },
  {
   "cell_type": "code",
   "execution_count": null,
   "metadata": {},
   "outputs": [],
   "source": []
  }
 ],
 "metadata": {
  "kernelspec": {
   "display_name": "Python 3",
   "language": "python",
   "name": "python3"
  },
  "language_info": {
   "codemirror_mode": {
    "name": "ipython",
    "version": 3
   },
   "file_extension": ".py",
   "mimetype": "text/x-python",
   "name": "python",
   "nbconvert_exporter": "python",
   "pygments_lexer": "ipython3",
   "version": "3.7.4"
  }
 },
 "nbformat": 4,
 "nbformat_minor": 2
}
