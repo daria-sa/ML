{
  "nbformat": 4,
  "nbformat_minor": 0,
  "metadata": {
    "colab": {
      "name": "HW_1_ML.ipynb",
      "provenance": [],
      "collapsed_sections": []
    },
    "kernelspec": {
      "name": "python3",
      "display_name": "Python 3"
    }
  },
  "cells": [
    {
      "cell_type": "code",
      "metadata": {
        "id": "g4xgmxy1t5c4",
        "colab_type": "code",
        "colab": {
          "base_uri": "https://localhost:8080/",
          "height": 34
        },
        "outputId": "75371ca5-8fe7-4b56-ebdc-a4ddf3fe1a9c"
      },
      "source": [
        "%cd /content/drive/My Drive/NN_INTRO_HW"
      ],
      "execution_count": 1,
      "outputs": [
        {
          "output_type": "stream",
          "text": [
            "/content/drive/My Drive/NN_INTRO_HW\n"
          ],
          "name": "stdout"
        }
      ]
    },
    {
      "cell_type": "code",
      "metadata": {
        "id": "q8dG3PWQuUBG",
        "colab_type": "code",
        "colab": {
          "base_uri": "https://localhost:8080/",
          "height": 102
        },
        "outputId": "6ae0d3f2-b4ee-4604-d95a-873226a97ba2"
      },
      "source": [
        "!pip install pandas"
      ],
      "execution_count": 2,
      "outputs": [
        {
          "output_type": "stream",
          "text": [
            "Requirement already satisfied: pandas in /usr/local/lib/python3.6/dist-packages (1.0.5)\n",
            "Requirement already satisfied: pytz>=2017.2 in /usr/local/lib/python3.6/dist-packages (from pandas) (2018.9)\n",
            "Requirement already satisfied: numpy>=1.13.3 in /usr/local/lib/python3.6/dist-packages (from pandas) (1.18.5)\n",
            "Requirement already satisfied: python-dateutil>=2.6.1 in /usr/local/lib/python3.6/dist-packages (from pandas) (2.8.1)\n",
            "Requirement already satisfied: six>=1.5 in /usr/local/lib/python3.6/dist-packages (from python-dateutil>=2.6.1->pandas) (1.12.0)\n"
          ],
          "name": "stdout"
        }
      ]
    },
    {
      "cell_type": "code",
      "metadata": {
        "id": "yYjjVJr9_eTj",
        "colab_type": "code",
        "colab": {}
      },
      "source": [
        "import pandas as pd\n",
        "import re\n",
        "import numpy as np\n",
        "from sklearn.metrics import mean_squared_error\n",
        "from sklearn.model_selection import train_test_split\n",
        "from sklearn.linear_model import Ridge\n",
        "from sklearn.feature_extraction.text import CountVectorizer, TfidfVectorizer\n",
        "from sklearn.linear_model import SGDRegressor\n",
        "from scipy.sparse import hstack"
      ],
      "execution_count": 51,
      "outputs": []
    },
    {
      "cell_type": "code",
      "metadata": {
        "id": "ZcVKydP4uWdP",
        "colab_type": "code",
        "colab": {}
      },
      "source": [
        "\n",
        "\n",
        "weather_hist = pd.read_csv('weatherHistory.csv')\n",
        "weather_hist.rename({'Formatted Date':'date', 'Temperature (C)':'temp', 'Apparent Temperature (C)':'temp_app',\n",
        "                    'Precip Type':'weather_type', 'Wind Speed (km/h)':'wind_speed', 'Humidity':'humidity',\n",
        "                    'Daily Summary':'summary'}, \n",
        "                    axis=1, inplace=True)\n",
        "pd.set_option('display.max_columns', 100)\n",
        "pd.set_option('display.max_rows', 100)"
      ],
      "execution_count": 3,
      "outputs": []
    },
    {
      "cell_type": "markdown",
      "metadata": {
        "id": "ulWWde94vXXG",
        "colab_type": "text"
      },
      "source": [
        "\n",
        "Проанализируйте данные и найдите самый холодный и самый ветренный дни в Сегеде за всю имеющуюся историю."
      ]
    },
    {
      "cell_type": "code",
      "metadata": {
        "id": "P2Agd9idvaUD",
        "colab_type": "code",
        "colab": {
          "base_uri": "https://localhost:8080/",
          "height": 85
        },
        "outputId": "7b9311f6-bf06-40f4-ed1b-21a31c1ea6cc"
      },
      "source": [
        "min_temp = weather_hist['temp'].min()\n",
        "max_wind_speed = weather_hist['wind_speed'].max()\n",
        "coldest_day = weather_hist.loc[weather_hist['temp'] == min_temp]['date']\n",
        "windest_day = weather_hist.loc[weather_hist['wind_speed'] == max_wind_speed]['date']\n",
        "print(min_temp, coldest_day)\n",
        "print(max_wind_speed, windest_day)"
      ],
      "execution_count": 5,
      "outputs": [
        {
          "output_type": "stream",
          "text": [
            "-21.822222222222226 54847    2012-02-10 07:00:00.000 +0100\n",
            "Name: date, dtype: object\n",
            "63.8526 12181    2007-01-29 13:00:00.000 +0100\n",
            "Name: date, dtype: object\n"
          ],
          "name": "stdout"
        }
      ]
    },
    {
      "cell_type": "code",
      "metadata": {
        "id": "p3SmawGnwOzL",
        "colab_type": "code",
        "colab": {}
      },
      "source": [
        "weather_hist['year'] = pd.to_datetime(weather_hist['date'], utc=True).dt.year\n",
        "weather_hist['month'] = pd.to_datetime(weather_hist['date'], utc=True).dt.month"
      ],
      "execution_count": 6,
      "outputs": []
    },
    {
      "cell_type": "markdown",
      "metadata": {
        "id": "axiHmRntwUq4",
        "colab_type": "text"
      },
      "source": [
        "Узнайте сколько раз шел дождь летом 2014 года."
      ]
    },
    {
      "cell_type": "code",
      "metadata": {
        "id": "XtCptYCfwoVi",
        "colab_type": "code",
        "colab": {
          "base_uri": "https://localhost:8080/",
          "height": 34
        },
        "outputId": "e9fbaab8-07c1-4f10-c589-1f4dcd37b065"
      },
      "source": [
        "weather_hist[(weather_hist['weather_type'] == 'rain') & (weather_hist['year'] == 2014) & (weather_hist['month'] >= 6) & (weather_hist['month'] < 9)].shape[0]"
      ],
      "execution_count": 7,
      "outputs": [
        {
          "output_type": "execute_result",
          "data": {
            "text/plain": [
              "2205"
            ]
          },
          "metadata": {
            "tags": []
          },
          "execution_count": 7
        }
      ]
    },
    {
      "cell_type": "markdown",
      "metadata": {
        "id": "9t-CwaATw5I1",
        "colab_type": "text"
      },
      "source": [
        "Сгруппируйтей данные по годам, месяцам и неделям (по отдельности) и найдите:"
      ]
    },
    {
      "cell_type": "markdown",
      "metadata": {
        "id": "CuI3Gs06w6T_",
        "colab_type": "text"
      },
      "source": [
        "1) самый ветрянный месяц\n",
        "\n"
      ]
    },
    {
      "cell_type": "code",
      "metadata": {
        "id": "FiUQYDXdw_3w",
        "colab_type": "code",
        "colab": {
          "base_uri": "https://localhost:8080/",
          "height": 255
        },
        "outputId": "87a02b87-d174-4347-f127-258bd491b5cf"
      },
      "source": [
        "weather_hist.groupby(weather_hist['month'])['wind_speed'].mean().sort_values(ascending=False)"
      ],
      "execution_count": 8,
      "outputs": [
        {
          "output_type": "execute_result",
          "data": {
            "text/plain": [
              "month\n",
              "3     13.415825\n",
              "2     12.180815\n",
              "4     11.876139\n",
              "1     11.515865\n",
              "12    11.094578\n",
              "5     10.953186\n",
              "11    10.947953\n",
              "10    10.008495\n",
              "7      9.637124\n",
              "6      9.632453\n",
              "9      9.610204\n",
              "8      8.942707\n",
              "Name: wind_speed, dtype: float64"
            ]
          },
          "metadata": {
            "tags": []
          },
          "execution_count": 8
        }
      ]
    },
    {
      "cell_type": "code",
      "metadata": {
        "id": "JCTraAZFxCtS",
        "colab_type": "code",
        "colab": {}
      },
      "source": [
        ""
      ],
      "execution_count": null,
      "outputs": []
    },
    {
      "cell_type": "markdown",
      "metadata": {
        "id": "y2RwdZHFxGiy",
        "colab_type": "text"
      },
      "source": [
        "2) самый влажный год"
      ]
    },
    {
      "cell_type": "code",
      "metadata": {
        "id": "JZcmo_-6xG_j",
        "colab_type": "code",
        "colab": {
          "base_uri": "https://localhost:8080/",
          "height": 255
        },
        "outputId": "ad25d2dd-48c9-48c9-dfbd-3bdce4b91387"
      },
      "source": [
        "weather_hist.groupby(weather_hist['year'])['humidity'].mean().sort_values(ascending=False)"
      ],
      "execution_count": 9,
      "outputs": [
        {
          "output_type": "execute_result",
          "data": {
            "text/plain": [
              "year\n",
              "2005    0.890000\n",
              "2010    0.796861\n",
              "2006    0.767349\n",
              "2016    0.760868\n",
              "2013    0.754197\n",
              "2014    0.748571\n",
              "2011    0.736008\n",
              "2015    0.732354\n",
              "2009    0.707247\n",
              "2008    0.701239\n",
              "2007    0.689647\n",
              "2012    0.689513\n",
              "Name: humidity, dtype: float64"
            ]
          },
          "metadata": {
            "tags": []
          },
          "execution_count": 9
        }
      ]
    },
    {
      "cell_type": "markdown",
      "metadata": {
        "id": "7y1IxcUWxLYN",
        "colab_type": "text"
      },
      "source": [
        "3) неделю с самой переменчивой погодой (там, где отклонение какого-то или нескольких признаков самое большое)"
      ]
    },
    {
      "cell_type": "code",
      "metadata": {
        "id": "Ms54qlvVxPxR",
        "colab_type": "code",
        "colab": {
          "base_uri": "https://localhost:8080/",
          "height": 34
        },
        "outputId": "d5c22c7c-5906-48f9-ef09-826e5f5d302b"
      },
      "source": [
        "weather_hist = pd.read_csv('weatherHistory.csv')\n",
        "weather_hist.rename({'Formatted Date':'date', 'Temperature (C)':'temp', 'Apparent Temperature (C)':'temp_app',\n",
        "                    'Precip Type':'weather_type', 'Wind Speed (km/h)':'wind_speed', 'Humidity':'humidity',\n",
        "                    'Daily Summary':'summary'}, \n",
        "                    axis=1, inplace=True)\n",
        "pd.set_option('display.max_columns', 100)\n",
        "pd.set_option('display.max_rows', 100)\n",
        "weather_hist['week'] = pd.to_datetime(weather_hist['date'], utc=True).dt.week\n",
        "weeks = {}\n",
        "for i in range(1,54):\n",
        "  weeks[i] = 0\n",
        "stds = weather_hist.groupby(weather_hist['week']).std()\n",
        "for column in stds:\n",
        "  rank = 0\n",
        "  for index, row in stds[column].sort_values(ascending=False).iteritems():\n",
        "    weeks[index] = weeks[index] + rank\n",
        "    rank += 1\n",
        "strange_week = 0\n",
        "strange_rank = 1000000\n",
        "for w in weeks:\n",
        "  if weeks[w] < strange_rank:\n",
        "    strange_week = w\n",
        "    strange_rank = weeks[w]\n",
        "print(strange_week)"
      ],
      "execution_count": 10,
      "outputs": [
        {
          "output_type": "stream",
          "text": [
            "12\n"
          ],
          "name": "stdout"
        }
      ]
    },
    {
      "cell_type": "markdown",
      "metadata": {
        "id": "z2EAMOeRxUjt",
        "colab_type": "text"
      },
      "source": [
        "Домашнее задание 2"
      ]
    },
    {
      "cell_type": "code",
      "metadata": {
        "id": "ST2LAV01xYC6",
        "colab_type": "code",
        "colab": {}
      },
      "source": [
        "data = pd.read_csv('data.csv')"
      ],
      "execution_count": 11,
      "outputs": []
    },
    {
      "cell_type": "code",
      "metadata": {
        "id": "squH3JO10JUB",
        "colab_type": "code",
        "colab": {}
      },
      "source": [
        ""
      ],
      "execution_count": null,
      "outputs": []
    },
    {
      "cell_type": "markdown",
      "metadata": {
        "id": "xlA-Ptja5DzX",
        "colab_type": "text"
      },
      "source": [
        "\n",
        "Признаки, которые будем использовать для регрессии:\n",
        "\n"
      ]
    },
    {
      "cell_type": "markdown",
      "metadata": {
        "id": "1OlOLvUR0nyh",
        "colab_type": "text"
      },
      "source": [
        "\n",
        "\n",
        "*   **Количество чисел в тексте** (может говорить о том, что есть подробная информация о возрасте товара или о конкретной модели, люди охотнее покупают что-то определнное и конкретное)\n",
        "*   **Количество слов латиницей** (опять же, возможно, латиницей указано точное название товара)\n",
        "*   **Количество личных местоимений первого лица** (если в тексте много \"я\", \"меня\", \"мой\" и тд, то, вероятно, человек много и нудно описывает никому не нужную историю личного использования/приобретения, вероятно, что даже дочитывать не будут)\n",
        "*   **Количество аббревиатур** (также может быть обозначением бренда либо дургой конкретной информации о товаре)\n",
        "*  **Количество слишком длинных слов (> 10 букв)** (если в тексте много длинных слов, скорее всего он очень заумный и сложночитаемый\n",
        "\n",
        "\n",
        "\n"
      ]
    },
    {
      "cell_type": "code",
      "metadata": {
        "id": "kFarkzjS9El_",
        "colab_type": "code",
        "colab": {}
      },
      "source": [
        "def count_pronouns(x):\n",
        "  prons = ['я',\"меня\", \"мне\", \"мной\", \"мой\", \"моя\", \"мое\", \"моего\", \"моему\", \"моей\", \"мою\" \"моим\", \"мои\", \"моих\", \"моими\"]\n",
        "  x = x.lower().split()\n",
        "  if x is None:\n",
        "    return 0\n",
        "  return len([i for i in x if i in prons])"
      ],
      "execution_count": 46,
      "outputs": []
    },
    {
      "cell_type": "code",
      "metadata": {
        "id": "B9yjWxoL-1KU",
        "colab_type": "code",
        "colab": {}
      },
      "source": [
        "def count_long_words(x):\n",
        "  x = x.split()\n",
        "  if x is None:\n",
        "    return 0\n",
        "  return len([i for i in x if len(i)>10])"
      ],
      "execution_count": 47,
      "outputs": []
    },
    {
      "cell_type": "code",
      "metadata": {
        "id": "hyNN-tUh_4n2",
        "colab_type": "code",
        "colab": {}
      },
      "source": [
        "def count_issues(x, reg):\n",
        "  res = re.findall(reg, x)\n",
        "  if res is None:\n",
        "    return 0\n",
        "  return len(res)"
      ],
      "execution_count": 48,
      "outputs": []
    },
    {
      "cell_type": "code",
      "metadata": {
        "id": "v2FsScY15CUo",
        "colab_type": "code",
        "colab": {}
      },
      "source": [
        "\n",
        "data['num_of_numbers'] = data['description'].apply(lambda x: count_issues(x, '[0-9]+[\\.\\,]*[0-9]*'))\n",
        "data['num_of_latin_words'] = data['description'].apply(lambda x: count_issues(x,'[A-Za-z]+'))\n",
        "data['num_of_pronouns'] = data['description'].apply(lambda x: count_pronouns(x))\n",
        "data['num_of_abbrs'] = data['description'].apply(lambda x: count_issues(x,'[A-ZА-ЯЁ][A-ZА-ЯЁ]+'))\n",
        "data['num_of_long_words'] = data['description'].apply(lambda x:count_long_words(x))"
      ],
      "execution_count": 49,
      "outputs": []
    },
    {
      "cell_type": "code",
      "metadata": {
        "id": "xtnvqn9O_YXX",
        "colab_type": "code",
        "colab": {}
      },
      "source": [
        "X = data[['num_of_numbers', 'num_of_latin_words', 'num_of_pronouns', 'num_of_abbrs', 'num_of_long_words']].values\n",
        "y = data.deal_probability.values"
      ],
      "execution_count": 50,
      "outputs": []
    },
    {
      "cell_type": "code",
      "metadata": {
        "id": "2OG7qGquCqvp",
        "colab_type": "code",
        "colab": {
          "base_uri": "https://localhost:8080/",
          "height": 34
        },
        "outputId": "d2794b72-869e-4065-9688-ce40c5cc75b4"
      },
      "source": [
        "X_train, X_test, y_train, y_test = train_test_split(X, y, random_state=8)\n",
        "regressor = Ridge(alpha=1)\n",
        "regressor.fit(X_train, y_train)\n",
        "preds = regressor.predict(X_test)\n",
        "np.sqrt(mean_squared_error(y_test, preds))"
      ],
      "execution_count": 52,
      "outputs": [
        {
          "output_type": "execute_result",
          "data": {
            "text/plain": [
              "0.2636719184310224"
            ]
          },
          "metadata": {
            "tags": []
          },
          "execution_count": 52
        }
      ]
    },
    {
      "cell_type": "markdown",
      "metadata": {
        "id": "LwuX6FVaDBLf",
        "colab_type": "text"
      },
      "source": [
        "лучше, к сожалению, не стало, но это и не удивительно, мы вообще не смотрели на данные, там, вероятно, могут быть выбросы, а возможно, просто отсутсвует корреляция с целевой переменной и эти переменнеы вообще не стоит использовать в регрессионной модели "
      ]
    },
    {
      "cell_type": "code",
      "metadata": {
        "id": "07KBEV5xC0UA",
        "colab_type": "code",
        "colab": {
          "base_uri": "https://localhost:8080/",
          "height": 34
        },
        "outputId": "c94ab46f-14f5-425a-b575-d704e8bd9338"
      },
      "source": [
        "\n",
        "\n",
        "cv = CountVectorizer(max_features=1000, min_df=5, max_df=0.4, ngram_range=(1,2))\n",
        "X = cv.fit_transform(data.description)\n",
        "y = data.deal_probability.values\n",
        "\n",
        "X_train, X_test, y_train, y_test = train_test_split(X, y, random_state=42)\n",
        "regressor = Ridge(alpha=10)\n",
        "regressor.fit(X_train, y_train)\n",
        "preds = regressor.predict(X_test)\n",
        "old_res = np.sqrt(mean_squared_error(y_test, preds))\n",
        "print(old_res)"
      ],
      "execution_count": 53,
      "outputs": [
        {
          "output_type": "stream",
          "text": [
            "0.25125158475785275\n"
          ],
          "name": "stdout"
        }
      ]
    },
    {
      "cell_type": "code",
      "metadata": {
        "id": "4nJ6VRclDjPP",
        "colab_type": "code",
        "colab": {
          "base_uri": "https://localhost:8080/",
          "height": 476
        },
        "outputId": "bd2067ee-14ab-46b6-c326-cbe78287c46e"
      },
      "source": [
        "cvs_mf = [CountVectorizer(max_features=1000-200, min_df=5, max_df=0.4, ngram_range=(1,2)),\n",
        "       CountVectorizer(max_features=1000-100, min_df=5, max_df=0.4, ngram_range=(1,2)),\n",
        "       CountVectorizer(max_features=1000+100, min_df=5, max_df=0.4, ngram_range=(1,2)),\n",
        "       CountVectorizer(max_features=10000+200, min_df=5, max_df=0.4, ngram_range=(1,2))]\n",
        "cvs_min_df = [CountVectorizer(max_features=1000, min_df=1, max_df=0.4, ngram_range=(1,2)),\n",
        "              CountVectorizer(max_features=1000, min_df=2, max_df=0.4, ngram_range=(1,2)),\n",
        "              CountVectorizer(max_features=1000, min_df=5, max_df=0.4, ngram_range=(1,2)),\n",
        "              CountVectorizer(max_features=1000, min_df=7, max_df=0.4, ngram_range=(1,2)),\n",
        "              CountVectorizer(max_features=1000, min_df=10, max_df=0.4, ngram_range=(1,2))]\n",
        "cvs_max_df = [CountVectorizer(max_features=1000, min_df=5, max_df=0.1, ngram_range=(1,2)),\n",
        "              CountVectorizer(max_features=1000, min_df=5, max_df=0.5, ngram_range=(1,2)),\n",
        "              CountVectorizer(max_features=1000, min_df=5, max_df=2.0, ngram_range=(1,2)),\n",
        "              CountVectorizer(max_features=1000, min_df=5, max_df=3.5, ngram_range=(1,2)),\n",
        "              CountVectorizer(max_features=1000, min_df=5, max_df=4.0, ngram_range=(1,2))]\n",
        "cvs_ngram_range = [CountVectorizer(max_features=1000, min_df=5, max_df=0.4, ngram_range=(1,1)),\n",
        "                   CountVectorizer(max_features=1000, min_df=5, max_df=0.4, ngram_range=(1,2)),\n",
        "                   CountVectorizer(max_features=1000, min_df=5, max_df=0.4, ngram_range=(1,3)),\n",
        "                   CountVectorizer(max_features=1000, min_df=5, max_df=0.4, ngram_range=(1,4)),\n",
        "                   CountVectorizer(max_features=1000, min_df=5, max_df=0.4, ngram_range=(1,5))]\n",
        "cvs = [cvs_mf, cvs_min_df, cvs_max_df, cvs_ngram_range]\n",
        "for cvs_group in cvs:\n",
        "  for cv in cvs_group:\n",
        "    X = cv.fit_transform(data.description)\n",
        "    y = data.deal_probability.values\n",
        "    X_train, X_test, y_train, y_test = train_test_split(X, y, random_state=42)\n",
        "    regressor = Ridge(alpha=10)\n",
        "    regressor.fit(X_train, y_train)\n",
        "    preds = regressor.predict(X_test)\n",
        "    res = np.sqrt(mean_squared_error(y_test, preds))  \n",
        "    print(res, res <= old_res)\n",
        "  print('\\n')"
      ],
      "execution_count": 54,
      "outputs": [
        {
          "output_type": "stream",
          "text": [
            "0.25156670064082937 False\n",
            "0.25142840571409236 False\n",
            "0.2512676792851656 False\n",
            "0.2551350294096034 False\n",
            "\n",
            "\n",
            "0.25125158475785275 True\n",
            "0.2512479767331968 True\n",
            "0.25125158475785275 True\n",
            "0.25123904679072967 True\n",
            "0.2512479767331968 True\n",
            "\n",
            "\n",
            "0.25156428317010743 False\n",
            "0.25125158475785275 True\n",
            "0.25125158475785275 True\n",
            "0.25125158475785275 True\n",
            "0.25125158475785275 True\n",
            "\n",
            "\n",
            "0.2512640499851752 False\n",
            "0.25125158475785275 True\n",
            "0.25126259345294094 False\n",
            "0.2512510533269011 True\n",
            "0.25125690894539726 False\n",
            "\n",
            "\n"
          ],
          "name": "stdout"
        }
      ]
    },
    {
      "cell_type": "code",
      "metadata": {
        "id": "Mj95x3E6DmX_",
        "colab_type": "code",
        "colab": {
          "base_uri": "https://localhost:8080/",
          "height": 34
        },
        "outputId": "6d216a65-18d1-4a28-feac-7b2182d31f1f"
      },
      "source": [
        "\n",
        "cv = CountVectorizer(max_features=1000, min_df=7, max_df=0.4, ngram_range=(1,2))\n",
        "tfidf = TfidfVectorizer(max_features=1000, min_df=5,analyzer='char', ngram_range=(3,3), max_df=0.4)\n",
        "\n",
        "X_cv = cv.fit_transform(data.description)\n",
        "X_tfidf = tfidf.fit_transform(data.description)\n",
        "\n",
        "X = hstack([X_cv, X_tfidf])\n",
        "X_train, X_test, y_train, y_test = train_test_split(X, y, random_state=42)\n",
        "regressor = SGDRegressor(max_iter=50, alpha=0.00001)\n",
        "regressor.fit(X_train, y_train)\n",
        "preds = regressor.predict(X_test)\n",
        "old_res = np.sqrt(mean_squared_error(y_test, preds))\n",
        "print(old_res)"
      ],
      "execution_count": 55,
      "outputs": [
        {
          "output_type": "stream",
          "text": [
            "0.2496460387034647\n"
          ],
          "name": "stdout"
        }
      ]
    },
    {
      "cell_type": "code",
      "metadata": {
        "id": "QX4DyaUHEYsm",
        "colab_type": "code",
        "colab": {
          "base_uri": "https://localhost:8080/",
          "height": 187
        },
        "outputId": "5053709e-b774-4c40-f33f-e28d3792e6c2"
      },
      "source": [
        "regressors = [\n",
        "              SGDRegressor(max_iter=50, alpha=0.00001, loss='huber'),\n",
        "              SGDRegressor(max_iter=50, alpha=0.00001, loss='epsilon_insensitive'),\n",
        "              SGDRegressor(max_iter=50, alpha=0.00001, loss='squared_epsilon_insensitive'),\n",
        "              SGDRegressor(max_iter=50, alpha=0.00001, penalty='l1', l1_ratio=0),\n",
        "              SGDRegressor(max_iter=50, alpha=0.00001, penalty='l1', l1_ratio=0.2),\n",
        "              SGDRegressor(max_iter=50, alpha=0.00001, penalty='l1', l1_ratio=0.4),\n",
        "              SGDRegressor(max_iter=50, alpha=0.00001, penalty='l1', l1_ratio=0.6),\n",
        "              SGDRegressor(max_iter=50, alpha=0.00001, penalty='l1', l1_ratio=0.8),\n",
        "              SGDRegressor(max_iter=50, alpha=0.00001, penalty='l1', l1_ratio=1),\n",
        "              SGDRegressor(max_iter=50, alpha=0.00001, penalty='elasticnet'),\n",
        "]\n",
        "for regressor in regressors:\n",
        "  regressor.fit(X_train, y_train)\n",
        "  preds = regressor.predict(X_test)\n",
        "  res = np.sqrt(mean_squared_error(y_test, preds))\n",
        "  print(res, res <= old_res)"
      ],
      "execution_count": 56,
      "outputs": [
        {
          "output_type": "stream",
          "text": [
            "0.2694921854818908 False\n",
            "0.25822058027974254 False\n",
            "0.25392235341525554 False\n",
            "0.24961863373533555 True\n",
            "0.24952570165495613 True\n",
            "0.24967884009502533 False\n",
            "0.24975424578519956 False\n",
            "0.2495411513547617 True\n",
            "0.24961751108436717 True\n",
            "0.24959201013552207 True\n"
          ],
          "name": "stdout"
        }
      ]
    },
    {
      "cell_type": "code",
      "metadata": {
        "id": "fp5DMKeoEY1J",
        "colab_type": "code",
        "colab": {
          "base_uri": "https://localhost:8080/",
          "height": 255
        },
        "outputId": "5c6976ee-109a-428e-922b-548b4a033cd8"
      },
      "source": [
        "regressors = [\n",
        "              SGDRegressor(max_iter=25, alpha=0.00001),\n",
        "              SGDRegressor(max_iter=75, alpha=0.00001),\n",
        "              SGDRegressor(max_iter=100, alpha=0.00001),\n",
        "              SGDRegressor(max_iter=125, alpha=0.00001),\n",
        "              SGDRegressor(max_iter=150, alpha=0.00001),\n",
        "              SGDRegressor(max_iter=300, alpha=0.00001),\n",
        "              SGDRegressor(max_iter=600, alpha=0.00001),\n",
        "              SGDRegressor(max_iter=1000, alpha=0.00001),\n",
        "              SGDRegressor(max_iter=50, alpha=0.000001),\n",
        "              SGDRegressor(max_iter=50, alpha=0.000005),\n",
        "              SGDRegressor(max_iter=50, alpha=0.00003),\n",
        "              SGDRegressor(max_iter=50, alpha=0.00005),\n",
        "              SGDRegressor(max_iter=50, alpha=0.0001),\n",
        "              SGDRegressor(max_iter=300, alpha=0.000005, penalty='l1', l1_ratio=1),\n",
        "]\n",
        "for regressor in regressors:\n",
        "  regressor.fit(X_train, y_train)\n",
        "  preds = regressor.predict(X_test)\n",
        "  res = np.sqrt(mean_squared_error(y_test, preds))\n",
        "  print(res, res <= old_res)"
      ],
      "execution_count": 57,
      "outputs": [
        {
          "output_type": "stream",
          "text": [
            "0.24968815198251856 False\n",
            "0.24976843611005917 False\n",
            "0.24965810665220295 False\n",
            "0.24970748113518856 False\n",
            "0.24958953441283135 True\n",
            "0.2497359538879487 False\n",
            "0.24965643893726847 False\n",
            "0.24960171469536444 True\n",
            "0.24968612875329163 False\n",
            "0.24964312608549494 True\n",
            "0.2498938265851417 False\n",
            "0.2496797390797301 False\n",
            "0.24977077768879621 False\n",
            "0.24971364209033803 False\n"
          ],
          "name": "stdout"
        }
      ]
    },
    {
      "cell_type": "markdown",
      "metadata": {
        "id": "gd_vgsPEEleD",
        "colab_type": "text"
      },
      "source": [
        "Улучшить результат семинара не вышло, пробовала подбирать параметр CV, из этого ничего не вышло, хоть какое-то улучшение показало лишь изменение min_df, пробовала с хорошим вариантом min_df подбирать другие параметры, но побить результат семинара это не позволило"
      ]
    },
    {
      "cell_type": "code",
      "metadata": {
        "id": "xpPrxPcUEY4Z",
        "colab_type": "code",
        "colab": {}
      },
      "source": [
        ""
      ],
      "execution_count": null,
      "outputs": []
    },
    {
      "cell_type": "code",
      "metadata": {
        "id": "ar3YelxbEY66",
        "colab_type": "code",
        "colab": {}
      },
      "source": [
        ""
      ],
      "execution_count": null,
      "outputs": []
    }
  ]
}